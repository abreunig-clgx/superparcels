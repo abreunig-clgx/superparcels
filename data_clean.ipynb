{
 "cells": [
  {
   "cell_type": "code",
   "execution_count": 1,
   "metadata": {},
   "outputs": [],
   "source": [
    "import os\n",
    "import geopandas as gpd\n",
    "import pandas as pd\n",
    "from shapely import wkt"
   ]
  },
  {
   "cell_type": "code",
   "execution_count": 2,
   "metadata": {},
   "outputs": [],
   "source": [
    "data_path = r'D:\\Projects\\superparcels\\data\\abreunig_temp_sp_sample_08013.csv'"
   ]
  },
  {
   "cell_type": "code",
   "execution_count": 3,
   "metadata": {},
   "outputs": [],
   "source": [
    "data_dir = r'D:\\Projects\\superparcels\\data'"
   ]
  },
  {
   "cell_type": "code",
   "execution_count": 4,
   "metadata": {},
   "outputs": [
    {
     "data": {
      "text/html": [
       "<div>\n",
       "<style scoped>\n",
       "    .dataframe tbody tr th:only-of-type {\n",
       "        vertical-align: middle;\n",
       "    }\n",
       "\n",
       "    .dataframe tbody tr th {\n",
       "        vertical-align: top;\n",
       "    }\n",
       "\n",
       "    .dataframe thead th {\n",
       "        text-align: right;\n",
       "    }\n",
       "</style>\n",
       "<table border=\"1\" class=\"dataframe\">\n",
       "  <thead>\n",
       "    <tr style=\"text-align: right;\">\n",
       "      <th></th>\n",
       "      <th>state_code</th>\n",
       "      <th>cnty_code</th>\n",
       "      <th>OWNER</th>\n",
       "      <th>std_addr</th>\n",
       "      <th>geometry</th>\n",
       "    </tr>\n",
       "  </thead>\n",
       "  <tbody>\n",
       "    <tr>\n",
       "      <th>0</th>\n",
       "      <td>8</td>\n",
       "      <td>13</td>\n",
       "      <td>JAMES HHICKMAN</td>\n",
       "      <td>1028 SKI RD</td>\n",
       "      <td>POLYGON((-105.529203196417 40.1819162319136, -...</td>\n",
       "    </tr>\n",
       "    <tr>\n",
       "      <th>1</th>\n",
       "      <td>8</td>\n",
       "      <td>13</td>\n",
       "      <td>GERARDGLOISTEN</td>\n",
       "      <td>57 LONGMONT DAM RD</td>\n",
       "      <td>POLYGON((-105.311374265349 40.2441798158087, -...</td>\n",
       "    </tr>\n",
       "    <tr>\n",
       "      <th>2</th>\n",
       "      <td>8</td>\n",
       "      <td>13</td>\n",
       "      <td>JOYSE P CYUEN</td>\n",
       "      <td>1003 STEAMBOAT VALLEY RD</td>\n",
       "      <td>POLYGON((-105.275244744667 40.2458552933456, -...</td>\n",
       "    </tr>\n",
       "    <tr>\n",
       "      <th>3</th>\n",
       "      <td>8</td>\n",
       "      <td>13</td>\n",
       "      <td>WILLIAM JSIVY</td>\n",
       "      <td>5595 UTE HWY</td>\n",
       "      <td>POLYGON((-105.22418535217 40.2142450231427, -1...</td>\n",
       "    </tr>\n",
       "    <tr>\n",
       "      <th>4</th>\n",
       "      <td>8</td>\n",
       "      <td>13</td>\n",
       "      <td>CHRISTOPHER JCARLSTON</td>\n",
       "      <td>11510 EAGLE SPRINGS TRL</td>\n",
       "      <td>POLYGON((-105.239738403216 40.1836815336225, -...</td>\n",
       "    </tr>\n",
       "  </tbody>\n",
       "</table>\n",
       "</div>"
      ],
      "text/plain": [
       "   state_code  cnty_code                  OWNER                  std_addr  \\\n",
       "0           8         13         JAMES HHICKMAN               1028 SKI RD   \n",
       "1           8         13         GERARDGLOISTEN        57 LONGMONT DAM RD   \n",
       "2           8         13          JOYSE P CYUEN  1003 STEAMBOAT VALLEY RD   \n",
       "3           8         13          WILLIAM JSIVY              5595 UTE HWY   \n",
       "4           8         13  CHRISTOPHER JCARLSTON   11510 EAGLE SPRINGS TRL   \n",
       "\n",
       "                                            geometry  \n",
       "0  POLYGON((-105.529203196417 40.1819162319136, -...  \n",
       "1  POLYGON((-105.311374265349 40.2441798158087, -...  \n",
       "2  POLYGON((-105.275244744667 40.2458552933456, -...  \n",
       "3  POLYGON((-105.22418535217 40.2142450231427, -1...  \n",
       "4  POLYGON((-105.239738403216 40.1836815336225, -...  "
      ]
     },
     "execution_count": 4,
     "metadata": {},
     "output_type": "execute_result"
    }
   ],
   "source": [
    "df = pd.read_csv(data_path)\n",
    "df.head()"
   ]
  },
  {
   "cell_type": "code",
   "execution_count": 5,
   "metadata": {},
   "outputs": [],
   "source": [
    "gdf = gpd.GeoDataFrame(df, geometry=df['geometry'].apply(wkt.loads), crs=4326)\n",
    "gdf.to_file(os.path.join(data_dir, 'sp_sample_08013.shp'))"
   ]
  },
  {
   "cell_type": "markdown",
   "metadata": {},
   "source": [
    "Clean parcel urban and remove duplicate geometries for clustering POC"
   ]
  },
  {
   "cell_type": "code",
   "execution_count": 6,
   "metadata": {},
   "outputs": [],
   "source": [
    "input_dir = r'D:\\Projects\\superparcels\\data\\urban'"
   ]
  },
  {
   "cell_type": "code",
   "execution_count": 7,
   "metadata": {},
   "outputs": [],
   "source": [
    "df = gpd.read_file(os.path.join(input_dir, 'sp_sample_08013_urban.shp'))"
   ]
  },
  {
   "cell_type": "code",
   "execution_count": 8,
   "metadata": {},
   "outputs": [
    {
     "data": {
      "text/html": [
       "<div>\n",
       "<style scoped>\n",
       "    .dataframe tbody tr th:only-of-type {\n",
       "        vertical-align: middle;\n",
       "    }\n",
       "\n",
       "    .dataframe tbody tr th {\n",
       "        vertical-align: top;\n",
       "    }\n",
       "\n",
       "    .dataframe thead th {\n",
       "        text-align: right;\n",
       "    }\n",
       "</style>\n",
       "<table border=\"1\" class=\"dataframe\">\n",
       "  <thead>\n",
       "    <tr style=\"text-align: right;\">\n",
       "      <th></th>\n",
       "      <th>state_code</th>\n",
       "      <th>cnty_code</th>\n",
       "      <th>OWNER</th>\n",
       "      <th>std_addr</th>\n",
       "      <th>geometry</th>\n",
       "    </tr>\n",
       "  </thead>\n",
       "  <tbody>\n",
       "    <tr>\n",
       "      <th>0</th>\n",
       "      <td>8</td>\n",
       "      <td>13</td>\n",
       "      <td>ALEAKOOTZ</td>\n",
       "      <td>100 RIDGE DR</td>\n",
       "      <td>POLYGON ((-105.30127 40.06144, -105.30126 40.0...</td>\n",
       "    </tr>\n",
       "    <tr>\n",
       "      <th>1</th>\n",
       "      <td>8</td>\n",
       "      <td>13</td>\n",
       "      <td>MARIJETERELLEN</td>\n",
       "      <td>501 EVERGREEN AVE</td>\n",
       "      <td>POLYGON ((-105.28974 40.03127, -105.28974 40.0...</td>\n",
       "    </tr>\n",
       "    <tr>\n",
       "      <th>2</th>\n",
       "      <td>8</td>\n",
       "      <td>13</td>\n",
       "      <td>DENNIS VMARTIN</td>\n",
       "      <td>2940 18TH ST</td>\n",
       "      <td>POLYGON ((-105.27360 40.02916, -105.27359 40.0...</td>\n",
       "    </tr>\n",
       "  </tbody>\n",
       "</table>\n",
       "</div>"
      ],
      "text/plain": [
       "   state_code  cnty_code           OWNER           std_addr  \\\n",
       "0           8         13       ALEAKOOTZ       100 RIDGE DR   \n",
       "1           8         13  MARIJETERELLEN  501 EVERGREEN AVE   \n",
       "2           8         13  DENNIS VMARTIN       2940 18TH ST   \n",
       "\n",
       "                                            geometry  \n",
       "0  POLYGON ((-105.30127 40.06144, -105.30126 40.0...  \n",
       "1  POLYGON ((-105.28974 40.03127, -105.28974 40.0...  \n",
       "2  POLYGON ((-105.27360 40.02916, -105.27359 40.0...  "
      ]
     },
     "execution_count": 8,
     "metadata": {},
     "output_type": "execute_result"
    }
   ],
   "source": [
    "df.head(3)"
   ]
  },
  {
   "cell_type": "code",
   "execution_count": 9,
   "metadata": {},
   "outputs": [],
   "source": [
    "#df.dissolve(by='OWNER').to_file(os.path.join(input_dir, 'sp_sample_08013_urban_dissolved.shp'))"
   ]
  },
  {
   "cell_type": "code",
   "execution_count": 10,
   "metadata": {},
   "outputs": [],
   "source": [
    "#df = df.dissolve(by='OWNER').explode(ignore_index=False).reset_index()"
   ]
  },
  {
   "cell_type": "code",
   "execution_count": 23,
   "metadata": {},
   "outputs": [
    {
     "name": "stdout",
     "output_type": "stream",
     "text": [
      "classification\n",
      "Class6: Unique Owner & Address & Geometry              14822\n",
      "Class5: Unique Owner & Address, Duplicate Geometry      5787\n",
      "Class1: Duplicate Owner, Address & Geometry             3211\n",
      "Class3: Duplicate Owner & Unique Address, Geometry      2111\n",
      "Class2: Duplicate Owner & Address, Unique Geometry       434\n",
      "Class4: Unique Owner & Duplicate Address & Geometry       16\n",
      "Name: count, dtype: int64\n"
     ]
    }
   ],
   "source": [
    "# Identify duplicate owners, addresses, and geometries\n",
    "df['duplicate_owner'] = df.duplicated(subset=['OWNER'], keep=False)\n",
    "df['duplicate_address'] = df.duplicated(subset=['std_addr'], keep=False)\n",
    "df['duplicate_geometry'] = df.duplicated(subset=['geometry'], keep=False)\n",
    "\n",
    "# Create a classification column based on duplication status (with geometry)\n",
    "df['classification'] = df.apply(\n",
    "    lambda row: (\n",
    "        'Class1: Duplicate Owner, Address & Geometry' if row['duplicate_owner'] and row['duplicate_address'] and row['duplicate_geometry'] else\n",
    "        'Class2: Duplicate Owner & Address, Unique Geometry' if row['duplicate_owner'] and row['duplicate_address'] and not row['duplicate_geometry'] else\n",
    "        'Class3: Duplicate Owner & Unique Address, Geometry' if row['duplicate_owner'] and not row['duplicate_address'] and not row['duplicate_geometry'] else\n",
    "        'Class4: Unique Owner & Duplicate Address & Geometry' if not row['duplicate_owner'] and row['duplicate_address'] and row['duplicate_geometry'] else\n",
    "        'Class5: Unique Owner & Address, Duplicate Geometry' if not row['duplicate_owner'] and not row['duplicate_address'] and row['duplicate_geometry'] else\n",
    "        'Class6: Unique Owner & Address & Geometry'\n",
    "    ), axis=1\n",
    ")\n",
    "\n",
    "# Count the occurrences of each classification\n",
    "matrix = df['classification'].value_counts()\n",
    "\n",
    "print(matrix)\n"
   ]
  },
  {
   "cell_type": "code",
   "execution_count": 24,
   "metadata": {},
   "outputs": [
    {
     "data": {
      "text/plain": [
       "classification_code\n",
       "6    14822\n",
       "5     5787\n",
       "1     3211\n",
       "3     2111\n",
       "2      434\n",
       "4       16\n",
       "Name: count, dtype: int64"
      ]
     },
     "execution_count": 24,
     "metadata": {},
     "output_type": "execute_result"
    }
   ],
   "source": [
    "# create clasification codes\n",
    "df['classification_code'] = df['classification'].apply(lambda x: x.split(':')[0][5])\n",
    "df['classification_code'] = df['classification_code'].astype(int)\n",
    "df['classification_code'].value_counts()"
   ]
  },
  {
   "cell_type": "code",
   "execution_count": null,
   "metadata": {},
   "outputs": [],
   "source": [
    "df.head(3)"
   ]
  },
  {
   "cell_type": "code",
   "execution_count": null,
   "metadata": {},
   "outputs": [],
   "source": [
    "class_code = 2\n",
    "code = df[df['classification_code'] == class_code]\n",
    "code.to_file(os.path.join(input_dir, f'sp_sample_08013_code{class_code}.shp'))"
   ]
  },
  {
   "cell_type": "code",
   "execution_count": null,
   "metadata": {},
   "outputs": [],
   "source": [
    "cluster_canidate_codes = [2,3] # classes after dissolving\n",
    "cluster = df[df['classification_code'].isin(cluster_canidate_codes)]\n",
    "cluster.to_file(os.path.join(input_dir, f'sp_sample_08013_cluster_canidates.shp'))"
   ]
  },
  {
   "cell_type": "code",
   "execution_count": null,
   "metadata": {},
   "outputs": [],
   "source": []
  }
 ],
 "metadata": {
  "kernelspec": {
   "display_name": "Python 3",
   "language": "python",
   "name": "python3"
  },
  "language_info": {
   "codemirror_mode": {
    "name": "ipython",
    "version": 3
   },
   "file_extension": ".py",
   "mimetype": "text/x-python",
   "name": "python",
   "nbconvert_exporter": "python",
   "pygments_lexer": "ipython3",
   "version": "3.11.4"
  }
 },
 "nbformat": 4,
 "nbformat_minor": 2
}
