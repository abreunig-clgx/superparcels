{
 "cells": [
  {
   "cell_type": "code",
   "execution_count": 1,
   "metadata": {},
   "outputs": [],
   "source": [
    "import os\n",
    "import geopandas as gpd\n",
    "import pandas as pd\n",
    "from shapely import wkt"
   ]
  },
  {
   "cell_type": "code",
   "execution_count": 3,
   "metadata": {},
   "outputs": [],
   "source": [
    "data_path = r'D:\\Projects\\superparcels\\data\\abreunig_temp_sp_sample_08013.csv'"
   ]
  },
  {
   "cell_type": "code",
   "execution_count": 6,
   "metadata": {},
   "outputs": [],
   "source": [
    "data_dir = r'D:\\Projects\\superparcels\\data'"
   ]
  },
  {
   "cell_type": "code",
   "execution_count": 4,
   "metadata": {},
   "outputs": [
    {
     "data": {
      "text/html": [
       "<div>\n",
       "<style scoped>\n",
       "    .dataframe tbody tr th:only-of-type {\n",
       "        vertical-align: middle;\n",
       "    }\n",
       "\n",
       "    .dataframe tbody tr th {\n",
       "        vertical-align: top;\n",
       "    }\n",
       "\n",
       "    .dataframe thead th {\n",
       "        text-align: right;\n",
       "    }\n",
       "</style>\n",
       "<table border=\"1\" class=\"dataframe\">\n",
       "  <thead>\n",
       "    <tr style=\"text-align: right;\">\n",
       "      <th></th>\n",
       "      <th>state_code</th>\n",
       "      <th>cnty_code</th>\n",
       "      <th>OWNER</th>\n",
       "      <th>std_addr</th>\n",
       "      <th>geometry</th>\n",
       "    </tr>\n",
       "  </thead>\n",
       "  <tbody>\n",
       "    <tr>\n",
       "      <th>0</th>\n",
       "      <td>8</td>\n",
       "      <td>13</td>\n",
       "      <td>JAMES HHICKMAN</td>\n",
       "      <td>1028 SKI RD</td>\n",
       "      <td>POLYGON((-105.529203196417 40.1819162319136, -...</td>\n",
       "    </tr>\n",
       "    <tr>\n",
       "      <th>1</th>\n",
       "      <td>8</td>\n",
       "      <td>13</td>\n",
       "      <td>GERARDGLOISTEN</td>\n",
       "      <td>57 LONGMONT DAM RD</td>\n",
       "      <td>POLYGON((-105.311374265349 40.2441798158087, -...</td>\n",
       "    </tr>\n",
       "    <tr>\n",
       "      <th>2</th>\n",
       "      <td>8</td>\n",
       "      <td>13</td>\n",
       "      <td>JOYSE P CYUEN</td>\n",
       "      <td>1003 STEAMBOAT VALLEY RD</td>\n",
       "      <td>POLYGON((-105.275244744667 40.2458552933456, -...</td>\n",
       "    </tr>\n",
       "    <tr>\n",
       "      <th>3</th>\n",
       "      <td>8</td>\n",
       "      <td>13</td>\n",
       "      <td>WILLIAM JSIVY</td>\n",
       "      <td>5595 UTE HWY</td>\n",
       "      <td>POLYGON((-105.22418535217 40.2142450231427, -1...</td>\n",
       "    </tr>\n",
       "    <tr>\n",
       "      <th>4</th>\n",
       "      <td>8</td>\n",
       "      <td>13</td>\n",
       "      <td>CHRISTOPHER JCARLSTON</td>\n",
       "      <td>11510 EAGLE SPRINGS TRL</td>\n",
       "      <td>POLYGON((-105.239738403216 40.1836815336225, -...</td>\n",
       "    </tr>\n",
       "  </tbody>\n",
       "</table>\n",
       "</div>"
      ],
      "text/plain": [
       "   state_code  cnty_code                  OWNER                  std_addr  \\\n",
       "0           8         13         JAMES HHICKMAN               1028 SKI RD   \n",
       "1           8         13         GERARDGLOISTEN        57 LONGMONT DAM RD   \n",
       "2           8         13          JOYSE P CYUEN  1003 STEAMBOAT VALLEY RD   \n",
       "3           8         13          WILLIAM JSIVY              5595 UTE HWY   \n",
       "4           8         13  CHRISTOPHER JCARLSTON   11510 EAGLE SPRINGS TRL   \n",
       "\n",
       "                                            geometry  \n",
       "0  POLYGON((-105.529203196417 40.1819162319136, -...  \n",
       "1  POLYGON((-105.311374265349 40.2441798158087, -...  \n",
       "2  POLYGON((-105.275244744667 40.2458552933456, -...  \n",
       "3  POLYGON((-105.22418535217 40.2142450231427, -1...  \n",
       "4  POLYGON((-105.239738403216 40.1836815336225, -...  "
      ]
     },
     "execution_count": 4,
     "metadata": {},
     "output_type": "execute_result"
    }
   ],
   "source": [
    "df = pd.read_csv(data_path)\n",
    "df.head()"
   ]
  },
  {
   "cell_type": "code",
   "execution_count": 7,
   "metadata": {},
   "outputs": [],
   "source": [
    "gdf = gpd.GeoDataFrame(df, geometry=df['geometry'].apply(wkt.loads), crs=4326)\n",
    "gdf.to_file(os.path.join(data_dir, 'sp_sample_08013.shp'))"
   ]
  },
  {
   "cell_type": "code",
   "execution_count": null,
   "metadata": {},
   "outputs": [],
   "source": []
  }
 ],
 "metadata": {
  "kernelspec": {
   "display_name": "Python 3",
   "language": "python",
   "name": "python3"
  },
  "language_info": {
   "codemirror_mode": {
    "name": "ipython",
    "version": 3
   },
   "file_extension": ".py",
   "mimetype": "text/x-python",
   "name": "python",
   "nbconvert_exporter": "python",
   "pygments_lexer": "ipython3",
   "version": "3.11.4"
  }
 },
 "nbformat": 4,
 "nbformat_minor": 2
}
