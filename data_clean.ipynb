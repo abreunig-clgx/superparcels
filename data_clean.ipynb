{
 "cells": [
  {
   "cell_type": "code",
   "execution_count": 1,
   "metadata": {},
   "outputs": [],
   "source": [
    "import os\n",
    "import geopandas as gpd\n",
    "import pandas as pd\n",
    "from shapely import wkt"
   ]
  },
  {
   "cell_type": "code",
   "execution_count": 3,
   "metadata": {},
   "outputs": [],
   "source": [
    "data_path = r'D:\\Projects\\superparcels\\data\\abreunig_temp_sp_sample_08013.csv'"
   ]
  },
  {
   "cell_type": "code",
   "execution_count": 6,
   "metadata": {},
   "outputs": [],
   "source": [
    "data_dir = r'D:\\Projects\\superparcels\\data'"
   ]
  },
  {
   "cell_type": "code",
   "execution_count": null,
   "metadata": {},
   "outputs": [],
   "source": [
    "df = pd.read_csv(data_path)\n",
    "df.head()"
   ]
  },
  {
   "cell_type": "code",
   "execution_count": 7,
   "metadata": {},
   "outputs": [],
   "source": [
    "gdf = gpd.GeoDataFrame(df, geometry=df['geometry'].apply(wkt.loads), crs=4326)\n",
    "gdf.to_file(os.path.join(data_dir, 'sp_sample_08013.shp'))"
   ]
  },
  {
   "cell_type": "markdown",
   "metadata": {},
   "source": [
    "Clean parcel urban and remove duplicate geometries for clustering POC"
   ]
  },
  {
   "cell_type": "code",
   "execution_count": 34,
   "metadata": {},
   "outputs": [],
   "source": [
    "input_dir = r'D:\\Projects\\superparcels\\data\\urban'"
   ]
  },
  {
   "cell_type": "code",
   "execution_count": 56,
   "metadata": {},
   "outputs": [],
   "source": [
    "df = gpd.read_file(os.path.join(input_dir, 'sp_sample_08013_urban.shp'))"
   ]
  },
  {
   "cell_type": "code",
   "execution_count": 57,
   "metadata": {},
   "outputs": [
    {
     "data": {
      "text/html": [
       "<div>\n",
       "<style scoped>\n",
       "    .dataframe tbody tr th:only-of-type {\n",
       "        vertical-align: middle;\n",
       "    }\n",
       "\n",
       "    .dataframe tbody tr th {\n",
       "        vertical-align: top;\n",
       "    }\n",
       "\n",
       "    .dataframe thead th {\n",
       "        text-align: right;\n",
       "    }\n",
       "</style>\n",
       "<table border=\"1\" class=\"dataframe\">\n",
       "  <thead>\n",
       "    <tr style=\"text-align: right;\">\n",
       "      <th></th>\n",
       "      <th>state_code</th>\n",
       "      <th>cnty_code</th>\n",
       "      <th>OWNER</th>\n",
       "      <th>std_addr</th>\n",
       "      <th>geometry</th>\n",
       "    </tr>\n",
       "  </thead>\n",
       "  <tbody>\n",
       "    <tr>\n",
       "      <th>0</th>\n",
       "      <td>8</td>\n",
       "      <td>13</td>\n",
       "      <td>ALEAKOOTZ</td>\n",
       "      <td>100 RIDGE DR</td>\n",
       "      <td>POLYGON ((-105.30127 40.06144, -105.30126 40.0...</td>\n",
       "    </tr>\n",
       "    <tr>\n",
       "      <th>1</th>\n",
       "      <td>8</td>\n",
       "      <td>13</td>\n",
       "      <td>MARIJETERELLEN</td>\n",
       "      <td>501 EVERGREEN AVE</td>\n",
       "      <td>POLYGON ((-105.28974 40.03127, -105.28974 40.0...</td>\n",
       "    </tr>\n",
       "    <tr>\n",
       "      <th>2</th>\n",
       "      <td>8</td>\n",
       "      <td>13</td>\n",
       "      <td>DENNIS VMARTIN</td>\n",
       "      <td>2940 18TH ST</td>\n",
       "      <td>POLYGON ((-105.27360 40.02916, -105.27359 40.0...</td>\n",
       "    </tr>\n",
       "  </tbody>\n",
       "</table>\n",
       "</div>"
      ],
      "text/plain": [
       "   state_code  cnty_code           OWNER           std_addr  \\\n",
       "0           8         13       ALEAKOOTZ       100 RIDGE DR   \n",
       "1           8         13  MARIJETERELLEN  501 EVERGREEN AVE   \n",
       "2           8         13  DENNIS VMARTIN       2940 18TH ST   \n",
       "\n",
       "                                            geometry  \n",
       "0  POLYGON ((-105.30127 40.06144, -105.30126 40.0...  \n",
       "1  POLYGON ((-105.28974 40.03127, -105.28974 40.0...  \n",
       "2  POLYGON ((-105.27360 40.02916, -105.27359 40.0...  "
      ]
     },
     "execution_count": 57,
     "metadata": {},
     "output_type": "execute_result"
    }
   ],
   "source": [
    "df.head(3)"
   ]
  },
  {
   "cell_type": "code",
   "execution_count": 58,
   "metadata": {},
   "outputs": [],
   "source": [
    "df.dissolve(by='OWNER').to_file(os.path.join(input_dir, 'sp_sample_08013_urban_dissolved.shp'))"
   ]
  },
  {
   "cell_type": "code",
   "execution_count": 55,
   "metadata": {},
   "outputs": [
    {
     "name": "stderr",
     "output_type": "stream",
     "text": [
      "C:\\Users\\abreunig\\AppData\\Local\\Temp\\2\\ipykernel_14072\\1990443479.py:1: FutureWarning: Currently, index_parts defaults to True, but in the future, it will default to False to be consistent with Pandas. Use `index_parts=True` to keep the current behavior and True/False to silence the warning.\n",
      "  df = df.dissolve(by='OWNER').explode(ignore_index=False).reset_index()\n"
     ]
    }
   ],
   "source": [
    "df = df.dissolve(by='OWNER').explode(ignore_index=False).reset_index()"
   ]
  },
  {
   "cell_type": "code",
   "execution_count": null,
   "metadata": {},
   "outputs": [],
   "source": []
  },
  {
   "cell_type": "code",
   "execution_count": 48,
   "metadata": {},
   "outputs": [
    {
     "data": {
      "text/html": [
       "<div>\n",
       "<style scoped>\n",
       "    .dataframe tbody tr th:only-of-type {\n",
       "        vertical-align: middle;\n",
       "    }\n",
       "\n",
       "    .dataframe tbody tr th {\n",
       "        vertical-align: top;\n",
       "    }\n",
       "\n",
       "    .dataframe thead th {\n",
       "        text-align: right;\n",
       "    }\n",
       "</style>\n",
       "<table border=\"1\" class=\"dataframe\">\n",
       "  <thead>\n",
       "    <tr style=\"text-align: right;\">\n",
       "      <th></th>\n",
       "      <th>OWNER</th>\n",
       "      <th>level_1</th>\n",
       "      <th>state_code</th>\n",
       "      <th>cnty_code</th>\n",
       "      <th>std_addr</th>\n",
       "      <th>duplicate_owner</th>\n",
       "      <th>duplicate_address</th>\n",
       "      <th>duplicate_geometry</th>\n",
       "      <th>classification</th>\n",
       "      <th>classification_code</th>\n",
       "      <th>geometry</th>\n",
       "    </tr>\n",
       "  </thead>\n",
       "  <tbody>\n",
       "    <tr>\n",
       "      <th>0</th>\n",
       "      <td>1827GROVE</td>\n",
       "      <td>0</td>\n",
       "      <td>8</td>\n",
       "      <td>13</td>\n",
       "      <td>1827 GROVE ST</td>\n",
       "      <td>False</td>\n",
       "      <td>False</td>\n",
       "      <td>False</td>\n",
       "      <td>Unique Owner &amp; Address &amp; Geometry</td>\n",
       "      <td>3</td>\n",
       "      <td>POLYGON ((-105.27067 40.01550, -105.27071 40.0...</td>\n",
       "    </tr>\n",
       "    <tr>\n",
       "      <th>1</th>\n",
       "      <td>2004 DAVID BROWN BOULDER RESIDENTIAL (TE)</td>\n",
       "      <td>0</td>\n",
       "      <td>8</td>\n",
       "      <td>13</td>\n",
       "      <td>3175 10TH ST</td>\n",
       "      <td>False</td>\n",
       "      <td>False</td>\n",
       "      <td>False</td>\n",
       "      <td>Unique Owner &amp; Address &amp; Geometry</td>\n",
       "      <td>3</td>\n",
       "      <td>POLYGON ((-105.28454 40.03244, -105.28454 40.0...</td>\n",
       "    </tr>\n",
       "    <tr>\n",
       "      <th>2</th>\n",
       "      <td>2004 JAMES THOMASCHRISTOL</td>\n",
       "      <td>0</td>\n",
       "      <td>8</td>\n",
       "      <td>13</td>\n",
       "      <td>1200 YARMOUTH AVE UNIT 231</td>\n",
       "      <td>True</td>\n",
       "      <td>True</td>\n",
       "      <td>True</td>\n",
       "      <td>Duplicate Owner, Address &amp; Geometry</td>\n",
       "      <td>2</td>\n",
       "      <td>POLYGON ((-105.28198 40.05631, -105.28198 40.0...</td>\n",
       "    </tr>\n",
       "  </tbody>\n",
       "</table>\n",
       "</div>"
      ],
      "text/plain": [
       "                                       OWNER  level_1  state_code  cnty_code  \\\n",
       "0                                  1827GROVE        0           8         13   \n",
       "1  2004 DAVID BROWN BOULDER RESIDENTIAL (TE)        0           8         13   \n",
       "2                  2004 JAMES THOMASCHRISTOL        0           8         13   \n",
       "\n",
       "                     std_addr  duplicate_owner  duplicate_address  \\\n",
       "0               1827 GROVE ST            False              False   \n",
       "1                3175 10TH ST            False              False   \n",
       "2  1200 YARMOUTH AVE UNIT 231             True               True   \n",
       "\n",
       "   duplicate_geometry                       classification  \\\n",
       "0               False    Unique Owner & Address & Geometry   \n",
       "1               False    Unique Owner & Address & Geometry   \n",
       "2                True  Duplicate Owner, Address & Geometry   \n",
       "\n",
       "   classification_code                                           geometry  \n",
       "0                    3  POLYGON ((-105.27067 40.01550, -105.27071 40.0...  \n",
       "1                    3  POLYGON ((-105.28454 40.03244, -105.28454 40.0...  \n",
       "2                    2  POLYGON ((-105.28198 40.05631, -105.28198 40.0...  "
      ]
     },
     "execution_count": 48,
     "metadata": {},
     "output_type": "execute_result"
    }
   ],
   "source": [
    "df.head(3)"
   ]
  },
  {
   "cell_type": "code",
   "execution_count": 49,
   "metadata": {},
   "outputs": [
    {
     "name": "stdout",
     "output_type": "stream",
     "text": [
      "classification\n",
      "Unique Owner & Address & Geometry              14000\n",
      "Unique Owner & Address, Duplicate Geometry      5818\n",
      "Duplicate Owner & Address, Unique Geometry      2405\n",
      "Duplicate Owner, Address & Geometry             1636\n",
      "Unique Owner & Duplicate Address & Geometry       16\n",
      "Name: count, dtype: int64\n"
     ]
    }
   ],
   "source": [
    "#import pandas as pd\n",
    "\n",
    "# Sample DataFrame\n",
    "#data = {'owner': ['A', 'B', 'A', 'C', 'D', 'E', 'E', 'F'],\n",
    "#        'address': ['X', 'Y', 'X', 'Z', 'W', 'Y', 'W', 'Z'],\n",
    "#        'geometry': ['geom1', 'geom2', 'geom1', 'geom3', 'geom4', 'geom2', 'geom4', 'geom3']}\n",
    "#df = pd.DataFrame(data)\n",
    "\n",
    "# Identify duplicate owners, addresses, and geometries\n",
    "df['duplicate_owner'] = df.duplicated(subset=['OWNER'], keep=False)\n",
    "df['duplicate_address'] = df.duplicated(subset=['std_addr'], keep=False)\n",
    "df['duplicate_geometry'] = df.duplicated(subset=['geometry'], keep=False)\n",
    "\n",
    "# Create a classification column based on duplication status (with geometry)\n",
    "df['classification'] = df.apply(\n",
    "    lambda row: (\n",
    "        'Duplicate Owner, Address & Geometry' if row['duplicate_owner'] and row['duplicate_address'] and row['duplicate_geometry'] else\n",
    "        'Duplicate Owner & Address, Unique Geometry' if row['duplicate_owner'] and row['duplicate_address'] and not row['duplicate_geometry'] else\n",
    "        'Duplicate Owner & Unique Address, Geometry' if row['duplicate_owner'] and not row['duplicate_address'] and not row['duplicate_geometry'] else\n",
    "        'Unique Owner & Duplicate Address & Geometry' if not row['duplicate_owner'] and row['duplicate_address'] and row['duplicate_geometry'] else\n",
    "        'Unique Owner & Address, Duplicate Geometry' if not row['duplicate_owner'] and not row['duplicate_address'] and row['duplicate_geometry'] else\n",
    "        'Unique Owner & Address & Geometry'\n",
    "    ), axis=1\n",
    ")\n",
    "\n",
    "# Count the occurrences of each classification\n",
    "matrix = df['classification'].value_counts()\n",
    "\n",
    "print(matrix)\n"
   ]
  },
  {
   "cell_type": "code",
   "execution_count": 50,
   "metadata": {},
   "outputs": [
    {
     "data": {
      "text/plain": [
       "classification_code\n",
       "2    14000\n",
       "3     5818\n",
       "0     2405\n",
       "1     1636\n",
       "4       16\n",
       "Name: count, dtype: int64"
      ]
     },
     "execution_count": 50,
     "metadata": {},
     "output_type": "execute_result"
    }
   ],
   "source": [
    "# create clasification codes\n",
    "df['classification_code'] = df['classification'].astype('category').cat.codes\n",
    "df['classification_code'].value_counts()"
   ]
  },
  {
   "cell_type": "code",
   "execution_count": 51,
   "metadata": {},
   "outputs": [
    {
     "name": "stderr",
     "output_type": "stream",
     "text": [
      "C:\\Users\\abreunig\\AppData\\Local\\Temp\\2\\ipykernel_14072\\872312086.py:3: UserWarning: Column names longer than 10 characters will be truncated when saved to ESRI Shapefile.\n",
      "  code.to_file(os.path.join(input_dir, f'sp_sample_08013_code{class_code}_dissolved.shp'))\n"
     ]
    }
   ],
   "source": [
    "class_code = 0\n",
    "code = df[df['classification_code'] == class_code]\n",
    "code.to_file(os.path.join(input_dir, f'sp_sample_08013_code{class_code}_dissolved.shp'))"
   ]
  },
  {
   "cell_type": "code",
   "execution_count": 52,
   "metadata": {},
   "outputs": [
    {
     "name": "stderr",
     "output_type": "stream",
     "text": [
      "C:\\Users\\abreunig\\AppData\\Local\\Temp\\2\\ipykernel_14072\\3598197704.py:3: UserWarning: Column names longer than 10 characters will be truncated when saved to ESRI Shapefile.\n",
      "  cluster.to_file(os.path.join(input_dir, f'sp_sample_08013_cluster_canidates.shp'))\n"
     ]
    }
   ],
   "source": [
    "cluster_canidate_codes = [0 , 1] # classes after dissolving\n",
    "cluster = df[df['classification_code'].isin(cluster_canidate_codes)]\n",
    "cluster.to_file(os.path.join(input_dir, f'sp_sample_08013_cluster_canidates.shp'))"
   ]
  },
  {
   "cell_type": "code",
   "execution_count": null,
   "metadata": {},
   "outputs": [],
   "source": []
  }
 ],
 "metadata": {
  "kernelspec": {
   "display_name": "Python 3",
   "language": "python",
   "name": "python3"
  },
  "language_info": {
   "codemirror_mode": {
    "name": "ipython",
    "version": 3
   },
   "file_extension": ".py",
   "mimetype": "text/x-python",
   "name": "python",
   "nbconvert_exporter": "python",
   "pygments_lexer": "ipython3",
   "version": "3.11.4"
  }
 },
 "nbformat": 4,
 "nbformat_minor": 2
}
