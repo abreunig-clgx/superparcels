{
 "cells": [
  {
   "cell_type": "code",
   "execution_count": null,
   "metadata": {},
   "outputs": [],
   "source": [
    "from sklearn.cluster import DBSCAN\n",
    "import numpy as np\n",
    "import geopandas as gpd \n",
    "import os\n",
    "import pandas as pd \n",
    "# ignore warnings\n",
    "import warnings\n",
    "warnings.filterwarnings('ignore')\n"
   ]
  },
  {
   "cell_type": "code",
   "execution_count": null,
   "metadata": {},
   "outputs": [],
   "source": [
    "data_dir = r'D:\\Projects\\superparcels\\data\\urban'\n",
    "parcels = gpd.read_file(os.path.join(data_dir, 'sp_sample_08013_urban.shp'))\n",
    "utm = parcels.estimate_utm_crs().to_epsg()"
   ]
  },
  {
   "cell_type": "code",
   "execution_count": null,
   "metadata": {},
   "outputs": [],
   "source": [
    "parcels = parcels.to_crs(epsg=utm)  "
   ]
  },
  {
   "cell_type": "code",
   "execution_count": null,
   "metadata": {},
   "outputs": [],
   "source": [
    "candi = parcels[parcels['OWNER'].map(parcels['OWNER'].value_counts()) > 1]\n",
    "candi['OWNER'].value_counts()"
   ]
  },
  {
   "cell_type": "code",
   "execution_count": null,
   "metadata": {},
   "outputs": [],
   "source": [
    "candi['point'] = candi['geometry'].representative_point()\n",
    "candi.head()"
   ]
  },
  {
   "cell_type": "code",
   "execution_count": null,
   "metadata": {},
   "outputs": [],
   "source": [
    "unique_owners = candi['OWNER'].unique()\n",
    "unique_owners\n",
    "\n"
   ]
  },
  {
   "cell_type": "code",
   "execution_count": null,
   "metadata": {},
   "outputs": [],
   "source": [
    "cleaned_parcel_data = gpd.GeoDataFrame()\n",
    "for owner in unique_owners:\n",
    "    owner_parcels = candi[candi['OWNER'] == owner]\n",
    "    owner_coords = [x.coords[0] for x in owner_parcels['point'].to_list()]\n",
    "    dbscan = DBSCAN(eps=50, min_samples=1, metric='euclidean')\n",
    "    clusters = dbscan.fit_predict(owner_coords)\n",
    "    owner_parcels['cluster'] = clusters \n",
    "    counts = owner_parcels['cluster'].value_counts()\n",
    "    single_parcel_clusters = counts[counts == 1].index\n",
    "    print(single_parcel_clusters)\n",
    "    \n",
    "    parcel_filter = owner_parcels[~owner_parcels['cluster'].isin(single_parcel_clusters)]\n",
    "    cleaned_parcel_data = pd.concat([cleaned_parcel_data, parcel_filter], ignore_index=True)\n",
    "    #owner_coords = owner_parcels['point']\n",
    "    "
   ]
  },
  {
   "cell_type": "code",
   "execution_count": null,
   "metadata": {},
   "outputs": [],
   "source": [
    "cleaned_parcel_data.drop(columns='point').to_file(os.path.join(data_dir, 'cleaned_canidate_parcels.shp'))"
   ]
  },
  {
   "cell_type": "code",
   "execution_count": null,
   "metadata": {},
   "outputs": [],
   "source": [
    "owner_parcels.drop(columns='point').to_file(os.path.join(data_dir, 'owner_parcels.shp'))"
   ]
  },
  {
   "cell_type": "code",
   "execution_count": null,
   "metadata": {},
   "outputs": [],
   "source": [
    "owner_coords"
   ]
  },
  {
   "cell_type": "code",
   "execution_count": null,
   "metadata": {},
   "outputs": [],
   "source": [
    "\n",
    "# Define DBSCAN parameters (adjust eps based on your distance criteria)\n",
    "dbscan = DBSCAN(eps=1200, min_samples=1, metric='euclidean')  # Adjust eps for your distance threshold\n",
    "clusters = dbscan.fit_predict(owner_coords)\n",
    "\n"
   ]
  },
  {
   "cell_type": "code",
   "execution_count": null,
   "metadata": {},
   "outputs": [],
   "source": [
    "#clusters = np.array([0,1,1,0,2])\n",
    "clusters.value_counts()"
   ]
  },
  {
   "cell_type": "code",
   "execution_count": null,
   "metadata": {},
   "outputs": [],
   "source": [
    "# determine which cluster ids occurece more than once\n",
    "unique, counts = np.unique(clusters, return_counts=True)\n",
    "dup_clusters = unique[counts == 1]\n",
    "dup_clusters\n"
   ]
  },
  {
   "cell_type": "code",
   "execution_count": null,
   "metadata": {},
   "outputs": [],
   "source": [
    "for candi_cluster in dup_clusters:\n",
    "    # drop parcel that is associated with the cluster\n",
    "    owner_parcels = owner_parcels[clusters != candi_cluster]"
   ]
  },
  {
   "cell_type": "code",
   "execution_count": null,
   "metadata": {},
   "outputs": [],
   "source": [
    "owner_parcels"
   ]
  },
  {
   "cell_type": "code",
   "execution_count": null,
   "metadata": {},
   "outputs": [],
   "source": []
  }
 ],
 "metadata": {
  "kernelspec": {
   "display_name": "Python 3",
   "language": "python",
   "name": "python3"
  },
  "language_info": {
   "codemirror_mode": {
    "name": "ipython",
    "version": 3
   },
   "file_extension": ".py",
   "mimetype": "text/x-python",
   "name": "python",
   "nbconvert_exporter": "python",
   "pygments_lexer": "ipython3",
   "version": "3.11.4"
  }
 },
 "nbformat": 4,
 "nbformat_minor": 2
}
