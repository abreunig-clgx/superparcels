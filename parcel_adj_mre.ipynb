{
 "cells": [
  {
   "cell_type": "code",
   "execution_count": 11,
   "metadata": {},
   "outputs": [],
   "source": [
    "from shapely.geometry import Point, Polygon\n",
    "import pandas as pd\n",
    "import momepy as mm\n",
    "import geopandas as gpd\n",
    "import numpy as np\n",
    "import matplotlib.pyplot as plt\n",
    "%matplotlib inline"
   ]
  },
  {
   "cell_type": "code",
   "execution_count": 12,
   "metadata": {},
   "outputs": [],
   "source": [
    "# create a simple polygon\n",
    "p1 = Polygon([(0, 0), (1, 0), (1, 1), (0, 1)])\n",
    "p2 = Polygon([(1, 0), (2, 0), (2, 1), (1, 1)])\n",
    "p3 = Polygon([(0, 1), (1, 1), (1, 2), (0, 2)])\n",
    "p4 = Polygon([(1, 1), (2, 1), (2, 2), (1, 2)])\n",
    "p5 = Polygon([(2, 0), (3, 0), (3, 1), (2, 1)])\n",
    "p6 = Polygon([(0, 2), (1, 2), (1, 3), (0, 3)])\n",
    "p7 = Polygon([(1, 2), (2, 2), (2, 3), (1, 3)])\n",
    "p8 = Polygon([(2, 1), (3, 1), (3, 2), (2, 2)])\n",
    "p9 = Polygon([(2, 2), (3, 2), (3, 3), (2, 3)])\n",
    "p10 = Polygon([(0, 3), (1, 3), (1, 4), (0, 4)])\n",
    "p11 = Polygon([(1, 3), (2, 3), (2, 4), (1, 4)])\n",
    "p12 = Polygon([(2, 3), (3, 3), (3, 4), (2, 4)])\n",
    "\n",
    "\n"
   ]
  },
  {
   "cell_type": "code",
   "execution_count": 22,
   "metadata": {},
   "outputs": [],
   "source": [
    "# visualize all polygons\n",
    "# create a list from A to J\n",
    "attribs = {'owner': ['A', 'A', 'A', 'A', 'E', 'F', 'G', 'H', 'A', 'J', 'J', 'L']}\n",
    "g = gpd.GeoDataFrame(attribs, geometry=[p1, p2, p3, p4, p5, p6, p7, p8, p9, p10, p11, p12])\n",
    "\n"
   ]
  },
  {
   "cell_type": "code",
   "execution_count": 23,
   "metadata": {},
   "outputs": [
    {
     "data": {
      "image/png": "[encoded data removed]",
      "text/plain": [
       "<Figure size 1000x1000 with 1 Axes>"
      ]
     },
     "metadata": {},
     "output_type": "display_data"
    }
   ],
   "source": [
    "# visualize all polygons with their owner values\n",
    "fig, ax = plt.subplots(figsize=(10, 10))\n",
    "g.plot(ax=ax, edgecolor='black', facecolor='lightblue')\n",
    "\n",
    "# Annotating each polygon with the 'owner' value at its centroid\n",
    "for idx, row in g.iterrows():\n",
    "    centroid = row.geometry.centroid\n",
    "    ax.text(centroid.x, centroid.y, row['owner'], horizontalalignment='center', fontsize=12, weight='bold')\n",
    "plt.show()"
   ]
  },
  {
   "cell_type": "code",
   "execution_count": 24,
   "metadata": {},
   "outputs": [
    {
     "data": {
      "text/plain": [
       "12"
      ]
     },
     "execution_count": 24,
     "metadata": {},
     "output_type": "execute_result"
    }
   ],
   "source": [
    "total_parcels = len(g)\n",
    "total_parcels"
   ]
  },
  {
   "cell_type": "code",
   "execution_count": 34,
   "metadata": {},
   "outputs": [
    {
     "data": {
      "text/html": [
       "<div>\n",
       "<style scoped>\n",
       "    .dataframe tbody tr th:only-of-type {\n",
       "        vertical-align: middle;\n",
       "    }\n",
       "\n",
       "    .dataframe tbody tr th {\n",
       "        vertical-align: top;\n",
       "    }\n",
       "\n",
       "    .dataframe thead th {\n",
       "        text-align: right;\n",
       "    }\n",
       "</style>\n",
       "<table border=\"1\" class=\"dataframe\">\n",
       "  <thead>\n",
       "    <tr style=\"text-align: right;\">\n",
       "      <th></th>\n",
       "      <th>owner</th>\n",
       "      <th>geometry</th>\n",
       "    </tr>\n",
       "  </thead>\n",
       "  <tbody>\n",
       "    <tr>\n",
       "      <th>0</th>\n",
       "      <td>A</td>\n",
       "      <td>POLYGON ((0.00000 1.00000, 0.00000 2.00000, 1....</td>\n",
       "    </tr>\n",
       "    <tr>\n",
       "      <th>1</th>\n",
       "      <td>A</td>\n",
       "      <td>POLYGON ((3.00000 2.00000, 2.00000 2.00000, 2....</td>\n",
       "    </tr>\n",
       "    <tr>\n",
       "      <th>2</th>\n",
       "      <td>E</td>\n",
       "      <td>POLYGON ((2.00000 0.00000, 3.00000 0.00000, 3....</td>\n",
       "    </tr>\n",
       "    <tr>\n",
       "      <th>3</th>\n",
       "      <td>F</td>\n",
       "      <td>POLYGON ((0.00000 2.00000, 1.00000 2.00000, 1....</td>\n",
       "    </tr>\n",
       "    <tr>\n",
       "      <th>4</th>\n",
       "      <td>G</td>\n",
       "      <td>POLYGON ((1.00000 2.00000, 2.00000 2.00000, 2....</td>\n",
       "    </tr>\n",
       "    <tr>\n",
       "      <th>5</th>\n",
       "      <td>H</td>\n",
       "      <td>POLYGON ((2.00000 1.00000, 3.00000 1.00000, 3....</td>\n",
       "    </tr>\n",
       "    <tr>\n",
       "      <th>6</th>\n",
       "      <td>J</td>\n",
       "      <td>POLYGON ((0.00000 3.00000, 0.00000 4.00000, 1....</td>\n",
       "    </tr>\n",
       "    <tr>\n",
       "      <th>7</th>\n",
       "      <td>L</td>\n",
       "      <td>POLYGON ((2.00000 3.00000, 3.00000 3.00000, 3....</td>\n",
       "    </tr>\n",
       "  </tbody>\n",
       "</table>\n",
       "</div>"
      ],
      "text/plain": [
       "  owner                                           geometry\n",
       "0     A  POLYGON ((0.00000 1.00000, 0.00000 2.00000, 1....\n",
       "1     A  POLYGON ((3.00000 2.00000, 2.00000 2.00000, 2....\n",
       "2     E  POLYGON ((2.00000 0.00000, 3.00000 0.00000, 3....\n",
       "3     F  POLYGON ((0.00000 2.00000, 1.00000 2.00000, 1....\n",
       "4     G  POLYGON ((1.00000 2.00000, 2.00000 2.00000, 2....\n",
       "5     H  POLYGON ((2.00000 1.00000, 3.00000 1.00000, 3....\n",
       "6     J  POLYGON ((0.00000 3.00000, 0.00000 4.00000, 1....\n",
       "7     L  POLYGON ((2.00000 3.00000, 3.00000 3.00000, 3...."
      ]
     },
     "execution_count": 34,
     "metadata": {},
     "output_type": "execute_result"
    }
   ],
   "source": [
    "# Dissolve by 'owner' (this combines all polygons with the same owner)\n",
    "g_dissolved = g.dissolve(by='owner')\n",
    "\n",
    "# Explode the dissolved geometries to handle non-adjacent polygons\n",
    "g_dissolved = g_dissolved.explode(index_parts=False).reset_index()\n",
    "g_dissolved"
   ]
  },
  {
   "cell_type": "code",
   "execution_count": 35,
   "metadata": {},
   "outputs": [
    {
     "data": {
      "text/plain": [
       "2"
      ]
     },
     "execution_count": 35,
     "metadata": {},
     "output_type": "execute_result"
    }
   ],
   "source": [
    "sp_counts = len(g_dissolved[g_dissolved['owner'].map(g_dissolved['owner'].value_counts()) > 1])\n",
    "sp_counts"
   ]
  },
  {
   "cell_type": "code",
   "execution_count": 36,
   "metadata": {},
   "outputs": [
    {
     "data": {
      "text/html": [
       "<div>\n",
       "<style scoped>\n",
       "    .dataframe tbody tr th:only-of-type {\n",
       "        vertical-align: middle;\n",
       "    }\n",
       "\n",
       "    .dataframe tbody tr th {\n",
       "        vertical-align: top;\n",
       "    }\n",
       "\n",
       "    .dataframe thead th {\n",
       "        text-align: right;\n",
       "    }\n",
       "</style>\n",
       "<table border=\"1\" class=\"dataframe\">\n",
       "  <thead>\n",
       "    <tr style=\"text-align: right;\">\n",
       "      <th></th>\n",
       "      <th>owner_left</th>\n",
       "      <th>geometry</th>\n",
       "      <th>index_right</th>\n",
       "      <th>owner_right</th>\n",
       "    </tr>\n",
       "  </thead>\n",
       "  <tbody>\n",
       "    <tr>\n",
       "      <th>0</th>\n",
       "      <td>A</td>\n",
       "      <td>POLYGON ((0.00000 0.00000, 1.00000 0.00000, 1....</td>\n",
       "      <td>0</td>\n",
       "      <td>A</td>\n",
       "    </tr>\n",
       "    <tr>\n",
       "      <th>1</th>\n",
       "      <td>A</td>\n",
       "      <td>POLYGON ((1.00000 0.00000, 2.00000 0.00000, 2....</td>\n",
       "      <td>0</td>\n",
       "      <td>A</td>\n",
       "    </tr>\n",
       "    <tr>\n",
       "      <th>2</th>\n",
       "      <td>A</td>\n",
       "      <td>POLYGON ((0.00000 1.00000, 1.00000 1.00000, 1....</td>\n",
       "      <td>0</td>\n",
       "      <td>A</td>\n",
       "    </tr>\n",
       "    <tr>\n",
       "      <th>3</th>\n",
       "      <td>A</td>\n",
       "      <td>POLYGON ((1.00000 1.00000, 2.00000 1.00000, 2....</td>\n",
       "      <td>0</td>\n",
       "      <td>A</td>\n",
       "    </tr>\n",
       "    <tr>\n",
       "      <th>4</th>\n",
       "      <td>E</td>\n",
       "      <td>POLYGON ((2.00000 0.00000, 3.00000 0.00000, 3....</td>\n",
       "      <td>2</td>\n",
       "      <td>E</td>\n",
       "    </tr>\n",
       "    <tr>\n",
       "      <th>5</th>\n",
       "      <td>F</td>\n",
       "      <td>POLYGON ((0.00000 2.00000, 1.00000 2.00000, 1....</td>\n",
       "      <td>3</td>\n",
       "      <td>F</td>\n",
       "    </tr>\n",
       "    <tr>\n",
       "      <th>6</th>\n",
       "      <td>G</td>\n",
       "      <td>POLYGON ((1.00000 2.00000, 2.00000 2.00000, 2....</td>\n",
       "      <td>4</td>\n",
       "      <td>G</td>\n",
       "    </tr>\n",
       "    <tr>\n",
       "      <th>7</th>\n",
       "      <td>H</td>\n",
       "      <td>POLYGON ((2.00000 1.00000, 3.00000 1.00000, 3....</td>\n",
       "      <td>5</td>\n",
       "      <td>H</td>\n",
       "    </tr>\n",
       "    <tr>\n",
       "      <th>8</th>\n",
       "      <td>A</td>\n",
       "      <td>POLYGON ((2.00000 2.00000, 3.00000 2.00000, 3....</td>\n",
       "      <td>1</td>\n",
       "      <td>A</td>\n",
       "    </tr>\n",
       "    <tr>\n",
       "      <th>9</th>\n",
       "      <td>J</td>\n",
       "      <td>POLYGON ((0.00000 3.00000, 1.00000 3.00000, 1....</td>\n",
       "      <td>6</td>\n",
       "      <td>J</td>\n",
       "    </tr>\n",
       "    <tr>\n",
       "      <th>10</th>\n",
       "      <td>J</td>\n",
       "      <td>POLYGON ((1.00000 3.00000, 2.00000 3.00000, 2....</td>\n",
       "      <td>6</td>\n",
       "      <td>J</td>\n",
       "    </tr>\n",
       "    <tr>\n",
       "      <th>11</th>\n",
       "      <td>L</td>\n",
       "      <td>POLYGON ((2.00000 3.00000, 3.00000 3.00000, 3....</td>\n",
       "      <td>7</td>\n",
       "      <td>L</td>\n",
       "    </tr>\n",
       "  </tbody>\n",
       "</table>\n",
       "</div>"
      ],
      "text/plain": [
       "   owner_left                                           geometry  index_right  \\\n",
       "0           A  POLYGON ((0.00000 0.00000, 1.00000 0.00000, 1....            0   \n",
       "1           A  POLYGON ((1.00000 0.00000, 2.00000 0.00000, 2....            0   \n",
       "2           A  POLYGON ((0.00000 1.00000, 1.00000 1.00000, 1....            0   \n",
       "3           A  POLYGON ((1.00000 1.00000, 2.00000 1.00000, 2....            0   \n",
       "4           E  POLYGON ((2.00000 0.00000, 3.00000 0.00000, 3....            2   \n",
       "5           F  POLYGON ((0.00000 2.00000, 1.00000 2.00000, 1....            3   \n",
       "6           G  POLYGON ((1.00000 2.00000, 2.00000 2.00000, 2....            4   \n",
       "7           H  POLYGON ((2.00000 1.00000, 3.00000 1.00000, 3....            5   \n",
       "8           A  POLYGON ((2.00000 2.00000, 3.00000 2.00000, 3....            1   \n",
       "9           J  POLYGON ((0.00000 3.00000, 1.00000 3.00000, 1....            6   \n",
       "10          J  POLYGON ((1.00000 3.00000, 2.00000 3.00000, 2....            6   \n",
       "11          L  POLYGON ((2.00000 3.00000, 3.00000 3.00000, 3....            7   \n",
       "\n",
       "   owner_right  \n",
       "0            A  \n",
       "1            A  \n",
       "2            A  \n",
       "3            A  \n",
       "4            E  \n",
       "5            F  \n",
       "6            G  \n",
       "7            H  \n",
       "8            A  \n",
       "9            J  \n",
       "10           J  \n",
       "11           L  "
      ]
     },
     "execution_count": 36,
     "metadata": {},
     "output_type": "execute_result"
    }
   ],
   "source": [
    "# spatial join g with g_dissolved\n",
    "g_sj = g.sjoin(g_dissolved, how='left', predicate='within')\n",
    "g_sj"
   ]
  },
  {
   "cell_type": "code",
   "execution_count": 37,
   "metadata": {},
   "outputs": [
    {
     "data": {
      "text/plain": [
       "6"
      ]
     },
     "execution_count": 37,
     "metadata": {},
     "output_type": "execute_result"
    }
   ],
   "source": [
    "dissolved_counts = len(g_sj[g_sj['index_right'].map(g_sj['index_right'].value_counts()) > 1])\n",
    "dissolved_counts"
   ]
  },
  {
   "cell_type": "code",
   "execution_count": 38,
   "metadata": {},
   "outputs": [
    {
     "data": {
      "text/plain": [
       "6"
      ]
     },
     "execution_count": 38,
     "metadata": {},
     "output_type": "execute_result"
    }
   ],
   "source": [
    "non_dissolved_counts = len(g) - dissolved_counts\n",
    "non_dissolved_counts"
   ]
  },
  {
   "cell_type": "code",
   "execution_count": 39,
   "metadata": {},
   "outputs": [
    {
     "data": {
      "image/png": "[encoded data removed]",
      "text/plain": [
       "<Figure size 1000x1000 with 1 Axes>"
      ]
     },
     "metadata": {},
     "output_type": "display_data"
    }
   ],
   "source": [
    "# use if viz isolates \n",
    "# g[g['owner'].map(g['owner'].value_counts()) > 1]\n",
    "\n",
    "# Plot the result\n",
    "fig, ax = plt.subplots(figsize=(10, 10))\n",
    "g_dissolved.plot(ax=ax, edgecolor='black', facecolor='lightblue')\n",
    "\n",
    "# Annotating the dissolved polygons with owner labels\n",
    "for idx, row in g_dissolved.iterrows():\n",
    "    centroid = row.geometry.centroid\n",
    "    ax.text(centroid.x, centroid.y, row['owner'], horizontalalignment='center', fontsize=12, weight='bold')\n",
    "\n",
    "plt.show()\n",
    "\n"
   ]
  },
  {
   "cell_type": "code",
   "execution_count": null,
   "metadata": {},
   "outputs": [],
   "source": []
  }
 ],
 "metadata": {
  "kernelspec": {
   "display_name": "Python 3",
   "language": "python",
   "name": "python3"
  },
  "language_info": {
   "codemirror_mode": {
    "name": "ipython",
    "version": 3
   },
   "file_extension": ".py",
   "mimetype": "text/x-python",
   "name": "python",
   "nbconvert_exporter": "python",
   "pygments_lexer": "ipython3",
   "version": "3.11.4"
  }
 },
 "nbformat": 4,
 "nbformat_minor": 2
}
