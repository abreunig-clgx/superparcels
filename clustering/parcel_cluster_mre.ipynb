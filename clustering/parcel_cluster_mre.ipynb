{
 "cells": [
  {
   "cell_type": "code",
   "execution_count": 992,
   "metadata": {},
   "outputs": [],
   "source": [
    "from shapely.geometry import Point, Polygon, LineString\n",
    "from sklearn.cluster import DBSCAN, HDBSCAN\n",
    "from shapely.ops import triangulate\n",
    "from shapely import concave_hull\n",
    "import pandas as pd\n",
    "import momepy as mm\n",
    "import geopandas as gpd\n",
    "import numpy as np\n",
    "import matplotlib.pyplot as plt\n",
    "import warnings\n",
    "warnings.filterwarnings('ignore')\n",
    "%matplotlib inline"
   ]
  },
  {
   "cell_type": "code",
   "execution_count": 975,
   "metadata": {},
   "outputs": [],
   "source": [
    "# create a simple polygon\n",
    "p1 = Polygon([(0, 0), (1, 0), (1, 1), (0, 1)])\n",
    "p2 = Polygon([(1, 0), (2, 0), (2, 1), (1, 1)])\n",
    "p3 = Polygon([(0, 1), (1, 1), (1, 2), (0, 2)])\n",
    "p4 = Polygon([(1, 1), (2, 1), (2, 2), (1, 2)])\n",
    "p5 = Polygon([(0, 2), (1, 2), (1, 3), (0, 3)])\n",
    "p6 = Polygon([(1, 2), (2, 2), (2, 3), (1, 3)])\n",
    "p7 = Polygon([(0, 3), (1, 3), (1, 4), (0, 4)])\n",
    "p8 = Polygon([(1, 3), (2, 3), (2, 4), (1, 4)])\n",
    "\n",
    "p9 = Polygon([(3, 0), (4, 0), (4, 1), (3, 1)])\n",
    "p10 = Polygon([(3, 1), (4, 1), (4, 2), (3, 2)])\n",
    "p11 = Polygon([(3, 2), (4, 2), (4, 3), (3, 3)])\n",
    "p12 = Polygon([(3, 3), (4, 3), (4, 4), (3, 4)])\n",
    "p13 = Polygon([(4, 0), (5, 0), (5, 1), (4, 1)])\n",
    "p14 = Polygon([(4, 1), (5, 1), (5, 2), (4, 2)])\n",
    "p15 = Polygon([(4, 2), (5, 2), (5, 3), (4, 3)])\n",
    "p16 = Polygon([(4, 3), (5, 3), (5, 4), (4, 4)])\n",
    "\n",
    "\n",
    "# split polygons with a linestring in the middle\n",
    "line = LineString([(2.5, 0), (2.5, 4)])\n",
    "\n",
    "\n",
    "\n",
    "\n",
    "\n"
   ]
  },
  {
   "cell_type": "code",
   "execution_count": 976,
   "metadata": {},
   "outputs": [],
   "source": [
    "# visualize all polygons\n",
    "# create a list from A to J\n",
    "attribs = {'owner': ['D', 'A', 'D', 'D', 'F', 'E', 'E', 'E', 'A', 'D', 'D', 'C', 'B', 'B', 'C', 'F']}\n",
    "g = gpd.GeoDataFrame(attribs, geometry=[p1, p2, p3, p4, p5, p6, p7, p8, p9, p10, p11, p12, p13, p14, p15, p16])\n",
    "l = gpd.GeoDataFrame(geometry=[line])\n",
    "\n"
   ]
  },
  {
   "cell_type": "code",
   "execution_count": 977,
   "metadata": {},
   "outputs": [
    {
     "data": {
      "image/png": "[encoded data removed]",
      "text/plain": [
       "<Figure size 1000x1000 with 1 Axes>"
      ]
     },
     "metadata": {},
     "output_type": "display_data"
    }
   ],
   "source": [
    "# visualize all polygons with their owner values\n",
    "fig, ax = plt.subplots(figsize=(10, 10))\n",
    "g.plot(ax=ax, edgecolor='black', facecolor='lightblue')\n",
    "l.plot(ax=ax, color='red')\n",
    "\n",
    "# Annotating each polygon with the 'owner' value at its centroid\n",
    "for idx, row in g.iterrows():\n",
    "    centroid = row.geometry.centroid\n",
    "    ax.text(centroid.x, centroid.y, row['owner'], horizontalalignment='center', fontsize=12, weight='bold')\n",
    "plt.show()"
   ]
  },
  {
   "cell_type": "code",
   "execution_count": 978,
   "metadata": {},
   "outputs": [],
   "source": [
    "g['point'] = g.centroid"
   ]
  },
  {
   "cell_type": "code",
   "execution_count": 979,
   "metadata": {},
   "outputs": [
    {
     "name": "stdout",
     "output_type": "stream",
     "text": [
      "['D' 'A' 'F' 'E' 'C' 'B']\n"
     ]
    }
   ],
   "source": [
    "unique_owners = g['owner'].unique()\n",
    "print(unique_owners)"
   ]
  },
  {
   "cell_type": "code",
   "execution_count": 980,
   "metadata": {},
   "outputs": [
    {
     "name": "stdout",
     "output_type": "stream",
     "text": [
      "OWNER: D\n",
      "Cluster Counts: cluster\n",
      "0    5\n",
      "Name: count, dtype: int64\n",
      "______________________________________________________________________________________\n",
      "OWNER: A\n",
      "Cluster Counts: cluster\n",
      "0    2\n",
      "Name: count, dtype: int64\n",
      "______________________________________________________________________________________\n",
      "OWNER: F\n",
      "Cluster Counts: cluster\n",
      "-1    2\n",
      "Name: count, dtype: int64\n",
      "______________________________________________________________________________________\n",
      "OWNER: E\n",
      "Cluster Counts: cluster\n",
      "0    3\n",
      "Name: count, dtype: int64\n",
      "______________________________________________________________________________________\n",
      "OWNER: C\n",
      "Cluster Counts: cluster\n",
      "0    2\n",
      "Name: count, dtype: int64\n",
      "______________________________________________________________________________________\n",
      "OWNER: B\n",
      "Cluster Counts: cluster\n",
      "0    2\n",
      "Name: count, dtype: int64\n",
      "______________________________________________________________________________________\n"
     ]
    }
   ],
   "source": [
    "clustered_parcel_data = gpd.GeoDataFrame()\n",
    "single_parcel_data = gpd.GeoDataFrame()\n",
    "for owner in unique_owners:\n",
    "    print(f'OWNER: {owner}')\n",
    "    owner_parcels = g[g['owner'] == owner]\n",
    "    owner_coords = [x.coords[0] for x in owner_parcels['point'].to_list()]\n",
    "    dbscan = DBSCAN(eps=3, min_samples=2)\n",
    "    clusters = dbscan.fit_predict(owner_coords)\n",
    "    owner_parcels['cluster'] = clusters \n",
    "    counts = owner_parcels['cluster'].value_counts()\n",
    "    print(f'Cluster Counts: {counts}')\n",
    "    single_parcel_clusters = counts[counts == 1].index\n",
    "    \n",
    "    single_parcel_filter = owner_parcels[owner_parcels['cluster'].isin(single_parcel_clusters)]\n",
    "    single_parcel_data = pd.concat([single_parcel_data, single_parcel_filter], ignore_index=True)\n",
    "    \n",
    "    cluster_filter = owner_parcels[(~owner_parcels['cluster'].isin(single_parcel_clusters))&(owner_parcels['cluster'] != -1)]\n",
    "    clustered_parcel_data = pd.concat([clustered_parcel_data, cluster_filter], ignore_index=True)\n",
    "    print('______________________________________________________________________________________')\n",
    "    \n",
    "\n",
    "    "
   ]
  },
  {
   "cell_type": "code",
   "execution_count": 981,
   "metadata": {},
   "outputs": [],
   "source": [
    "# create cluster ID\n",
    "clustered_parcel_data['cluster_ID'] = clustered_parcel_data['owner'] + clustered_parcel_data['cluster'].astype(str)\n",
    "single_parcel_data['cluster_ID'] = single_parcel_data['owner'] + single_parcel_data['cluster'].astype(str)"
   ]
  },
  {
   "cell_type": "code",
   "execution_count": 982,
   "metadata": {},
   "outputs": [
    {
     "data": {
      "text/html": [
       "<div>\n",
       "<style scoped>\n",
       "    .dataframe tbody tr th:only-of-type {\n",
       "        vertical-align: middle;\n",
       "    }\n",
       "\n",
       "    .dataframe tbody tr th {\n",
       "        vertical-align: top;\n",
       "    }\n",
       "\n",
       "    .dataframe thead th {\n",
       "        text-align: right;\n",
       "    }\n",
       "</style>\n",
       "<table border=\"1\" class=\"dataframe\">\n",
       "  <thead>\n",
       "    <tr style=\"text-align: right;\">\n",
       "      <th></th>\n",
       "      <th>owner</th>\n",
       "      <th>geometry</th>\n",
       "      <th>point</th>\n",
       "      <th>cluster</th>\n",
       "      <th>cluster_ID</th>\n",
       "    </tr>\n",
       "  </thead>\n",
       "  <tbody>\n",
       "    <tr>\n",
       "      <th>0</th>\n",
       "      <td>D</td>\n",
       "      <td>POLYGON ((0.00000 0.00000, 1.00000 0.00000, 1....</td>\n",
       "      <td>POINT (0.50000 0.50000)</td>\n",
       "      <td>0</td>\n",
       "      <td>D0</td>\n",
       "    </tr>\n",
       "    <tr>\n",
       "      <th>1</th>\n",
       "      <td>D</td>\n",
       "      <td>POLYGON ((0.00000 1.00000, 1.00000 1.00000, 1....</td>\n",
       "      <td>POINT (0.50000 1.50000)</td>\n",
       "      <td>0</td>\n",
       "      <td>D0</td>\n",
       "    </tr>\n",
       "    <tr>\n",
       "      <th>2</th>\n",
       "      <td>D</td>\n",
       "      <td>POLYGON ((1.00000 1.00000, 2.00000 1.00000, 2....</td>\n",
       "      <td>POINT (1.50000 1.50000)</td>\n",
       "      <td>0</td>\n",
       "      <td>D0</td>\n",
       "    </tr>\n",
       "    <tr>\n",
       "      <th>3</th>\n",
       "      <td>D</td>\n",
       "      <td>POLYGON ((3.00000 1.00000, 4.00000 1.00000, 4....</td>\n",
       "      <td>POINT (3.50000 1.50000)</td>\n",
       "      <td>0</td>\n",
       "      <td>D0</td>\n",
       "    </tr>\n",
       "    <tr>\n",
       "      <th>4</th>\n",
       "      <td>D</td>\n",
       "      <td>POLYGON ((3.00000 2.00000, 4.00000 2.00000, 4....</td>\n",
       "      <td>POINT (3.50000 2.50000)</td>\n",
       "      <td>0</td>\n",
       "      <td>D0</td>\n",
       "    </tr>\n",
       "    <tr>\n",
       "      <th>5</th>\n",
       "      <td>A</td>\n",
       "      <td>POLYGON ((1.00000 0.00000, 2.00000 0.00000, 2....</td>\n",
       "      <td>POINT (1.50000 0.50000)</td>\n",
       "      <td>0</td>\n",
       "      <td>A0</td>\n",
       "    </tr>\n",
       "    <tr>\n",
       "      <th>6</th>\n",
       "      <td>A</td>\n",
       "      <td>POLYGON ((3.00000 0.00000, 4.00000 0.00000, 4....</td>\n",
       "      <td>POINT (3.50000 0.50000)</td>\n",
       "      <td>0</td>\n",
       "      <td>A0</td>\n",
       "    </tr>\n",
       "    <tr>\n",
       "      <th>7</th>\n",
       "      <td>E</td>\n",
       "      <td>POLYGON ((1.00000 2.00000, 2.00000 2.00000, 2....</td>\n",
       "      <td>POINT (1.50000 2.50000)</td>\n",
       "      <td>0</td>\n",
       "      <td>E0</td>\n",
       "    </tr>\n",
       "    <tr>\n",
       "      <th>8</th>\n",
       "      <td>E</td>\n",
       "      <td>POLYGON ((0.00000 3.00000, 1.00000 3.00000, 1....</td>\n",
       "      <td>POINT (0.50000 3.50000)</td>\n",
       "      <td>0</td>\n",
       "      <td>E0</td>\n",
       "    </tr>\n",
       "    <tr>\n",
       "      <th>9</th>\n",
       "      <td>E</td>\n",
       "      <td>POLYGON ((1.00000 3.00000, 2.00000 3.00000, 2....</td>\n",
       "      <td>POINT (1.50000 3.50000)</td>\n",
       "      <td>0</td>\n",
       "      <td>E0</td>\n",
       "    </tr>\n",
       "    <tr>\n",
       "      <th>10</th>\n",
       "      <td>C</td>\n",
       "      <td>POLYGON ((3.00000 3.00000, 4.00000 3.00000, 4....</td>\n",
       "      <td>POINT (3.50000 3.50000)</td>\n",
       "      <td>0</td>\n",
       "      <td>C0</td>\n",
       "    </tr>\n",
       "    <tr>\n",
       "      <th>11</th>\n",
       "      <td>C</td>\n",
       "      <td>POLYGON ((4.00000 2.00000, 5.00000 2.00000, 5....</td>\n",
       "      <td>POINT (4.50000 2.50000)</td>\n",
       "      <td>0</td>\n",
       "      <td>C0</td>\n",
       "    </tr>\n",
       "    <tr>\n",
       "      <th>12</th>\n",
       "      <td>B</td>\n",
       "      <td>POLYGON ((4.00000 0.00000, 5.00000 0.00000, 5....</td>\n",
       "      <td>POINT (4.50000 0.50000)</td>\n",
       "      <td>0</td>\n",
       "      <td>B0</td>\n",
       "    </tr>\n",
       "    <tr>\n",
       "      <th>13</th>\n",
       "      <td>B</td>\n",
       "      <td>POLYGON ((4.00000 1.00000, 5.00000 1.00000, 5....</td>\n",
       "      <td>POINT (4.50000 1.50000)</td>\n",
       "      <td>0</td>\n",
       "      <td>B0</td>\n",
       "    </tr>\n",
       "  </tbody>\n",
       "</table>\n",
       "</div>"
      ],
      "text/plain": [
       "   owner                                           geometry  \\\n",
       "0      D  POLYGON ((0.00000 0.00000, 1.00000 0.00000, 1....   \n",
       "1      D  POLYGON ((0.00000 1.00000, 1.00000 1.00000, 1....   \n",
       "2      D  POLYGON ((1.00000 1.00000, 2.00000 1.00000, 2....   \n",
       "3      D  POLYGON ((3.00000 1.00000, 4.00000 1.00000, 4....   \n",
       "4      D  POLYGON ((3.00000 2.00000, 4.00000 2.00000, 4....   \n",
       "5      A  POLYGON ((1.00000 0.00000, 2.00000 0.00000, 2....   \n",
       "6      A  POLYGON ((3.00000 0.00000, 4.00000 0.00000, 4....   \n",
       "7      E  POLYGON ((1.00000 2.00000, 2.00000 2.00000, 2....   \n",
       "8      E  POLYGON ((0.00000 3.00000, 1.00000 3.00000, 1....   \n",
       "9      E  POLYGON ((1.00000 3.00000, 2.00000 3.00000, 2....   \n",
       "10     C  POLYGON ((3.00000 3.00000, 4.00000 3.00000, 4....   \n",
       "11     C  POLYGON ((4.00000 2.00000, 5.00000 2.00000, 5....   \n",
       "12     B  POLYGON ((4.00000 0.00000, 5.00000 0.00000, 5....   \n",
       "13     B  POLYGON ((4.00000 1.00000, 5.00000 1.00000, 5....   \n",
       "\n",
       "                      point  cluster cluster_ID  \n",
       "0   POINT (0.50000 0.50000)        0         D0  \n",
       "1   POINT (0.50000 1.50000)        0         D0  \n",
       "2   POINT (1.50000 1.50000)        0         D0  \n",
       "3   POINT (3.50000 1.50000)        0         D0  \n",
       "4   POINT (3.50000 2.50000)        0         D0  \n",
       "5   POINT (1.50000 0.50000)        0         A0  \n",
       "6   POINT (3.50000 0.50000)        0         A0  \n",
       "7   POINT (1.50000 2.50000)        0         E0  \n",
       "8   POINT (0.50000 3.50000)        0         E0  \n",
       "9   POINT (1.50000 3.50000)        0         E0  \n",
       "10  POINT (3.50000 3.50000)        0         C0  \n",
       "11  POINT (4.50000 2.50000)        0         C0  \n",
       "12  POINT (4.50000 0.50000)        0         B0  \n",
       "13  POINT (4.50000 1.50000)        0         B0  "
      ]
     },
     "execution_count": 982,
     "metadata": {},
     "output_type": "execute_result"
    }
   ],
   "source": [
    "clustered_parcel_data"
   ]
  },
  {
   "cell_type": "code",
   "execution_count": 983,
   "metadata": {},
   "outputs": [
    {
     "data": {
      "text/html": [
       "<div>\n",
       "<style scoped>\n",
       "    .dataframe tbody tr th:only-of-type {\n",
       "        vertical-align: middle;\n",
       "    }\n",
       "\n",
       "    .dataframe tbody tr th {\n",
       "        vertical-align: top;\n",
       "    }\n",
       "\n",
       "    .dataframe thead th {\n",
       "        text-align: right;\n",
       "    }\n",
       "</style>\n",
       "<table border=\"1\" class=\"dataframe\">\n",
       "  <thead>\n",
       "    <tr style=\"text-align: right;\">\n",
       "      <th></th>\n",
       "      <th>owner</th>\n",
       "      <th>geometry</th>\n",
       "      <th>point</th>\n",
       "      <th>cluster</th>\n",
       "      <th>cluster_ID</th>\n",
       "    </tr>\n",
       "  </thead>\n",
       "  <tbody>\n",
       "  </tbody>\n",
       "</table>\n",
       "</div>"
      ],
      "text/plain": [
       "Empty GeoDataFrame\n",
       "Columns: [owner, geometry, point, cluster, cluster_ID]\n",
       "Index: []"
      ]
     },
     "execution_count": 983,
     "metadata": {},
     "output_type": "execute_result"
    }
   ],
   "source": [
    "single_parcel_data"
   ]
  },
  {
   "cell_type": "code",
   "execution_count": 984,
   "metadata": {},
   "outputs": [
    {
     "data": {
      "image/png": "[encoded data removed]",
      "text/plain": [
       "<Figure size 1000x1000 with 1 Axes>"
      ]
     },
     "metadata": {},
     "output_type": "display_data"
    }
   ],
   "source": [
    "parcel_dissolve = clustered_parcel_data.dissolve(by='cluster_ID').reset_index()\n",
    "# visualize\n",
    "fig, ax = plt.subplots(figsize=(10, 10))\n",
    "clustered_parcel_data.plot(ax=ax, edgecolor='black', facecolor='none')\n",
    "l.plot(ax=ax, color='red')\n",
    "\n",
    "# Annotating each polygon with the 'owner' value on left side of the polygon\n",
    "for idx, row in clustered_parcel_data.iterrows():\n",
    "    centroid = row.geometry.centroid\n",
    "    ax.text(centroid.x, centroid.y, row['cluster_ID'], horizontalalignment='left', fontsize=12, weight='bold')"
   ]
  },
  {
   "cell_type": "code",
   "execution_count": 985,
   "metadata": {},
   "outputs": [
    {
     "data": {
      "text/html": [
       "<div>\n",
       "<style scoped>\n",
       "    .dataframe tbody tr th:only-of-type {\n",
       "        vertical-align: middle;\n",
       "    }\n",
       "\n",
       "    .dataframe tbody tr th {\n",
       "        vertical-align: top;\n",
       "    }\n",
       "\n",
       "    .dataframe thead th {\n",
       "        text-align: right;\n",
       "    }\n",
       "</style>\n",
       "<table border=\"1\" class=\"dataframe\">\n",
       "  <thead>\n",
       "    <tr style=\"text-align: right;\">\n",
       "      <th></th>\n",
       "      <th>cluster_ID</th>\n",
       "      <th>geometry</th>\n",
       "      <th>owner</th>\n",
       "      <th>point</th>\n",
       "      <th>cluster</th>\n",
       "    </tr>\n",
       "  </thead>\n",
       "  <tbody>\n",
       "    <tr>\n",
       "      <th>0</th>\n",
       "      <td>A0</td>\n",
       "      <td>MULTIPOLYGON (((1.00000 1.00000, 2.00000 1.000...</td>\n",
       "      <td>A</td>\n",
       "      <td>POINT (1.50000 0.50000)</td>\n",
       "      <td>0</td>\n",
       "    </tr>\n",
       "    <tr>\n",
       "      <th>1</th>\n",
       "      <td>B0</td>\n",
       "      <td>POLYGON ((5.00000 0.00000, 4.00000 0.00000, 4....</td>\n",
       "      <td>B</td>\n",
       "      <td>POINT (4.50000 0.50000)</td>\n",
       "      <td>0</td>\n",
       "    </tr>\n",
       "    <tr>\n",
       "      <th>2</th>\n",
       "      <td>C0</td>\n",
       "      <td>MULTIPOLYGON (((5.00000 3.00000, 5.00000 2.000...</td>\n",
       "      <td>C</td>\n",
       "      <td>POINT (3.50000 3.50000)</td>\n",
       "      <td>0</td>\n",
       "    </tr>\n",
       "    <tr>\n",
       "      <th>3</th>\n",
       "      <td>D0</td>\n",
       "      <td>MULTIPOLYGON (((0.00000 0.00000, 0.00000 1.000...</td>\n",
       "      <td>D</td>\n",
       "      <td>POINT (0.50000 0.50000)</td>\n",
       "      <td>0</td>\n",
       "    </tr>\n",
       "    <tr>\n",
       "      <th>4</th>\n",
       "      <td>E0</td>\n",
       "      <td>POLYGON ((2.00000 2.00000, 1.00000 2.00000, 1....</td>\n",
       "      <td>E</td>\n",
       "      <td>POINT (1.50000 2.50000)</td>\n",
       "      <td>0</td>\n",
       "    </tr>\n",
       "  </tbody>\n",
       "</table>\n",
       "</div>"
      ],
      "text/plain": [
       "  cluster_ID                                           geometry owner  \\\n",
       "0         A0  MULTIPOLYGON (((1.00000 1.00000, 2.00000 1.000...     A   \n",
       "1         B0  POLYGON ((5.00000 0.00000, 4.00000 0.00000, 4....     B   \n",
       "2         C0  MULTIPOLYGON (((5.00000 3.00000, 5.00000 2.000...     C   \n",
       "3         D0  MULTIPOLYGON (((0.00000 0.00000, 0.00000 1.000...     D   \n",
       "4         E0  POLYGON ((2.00000 2.00000, 1.00000 2.00000, 1....     E   \n",
       "\n",
       "                     point  cluster  \n",
       "0  POINT (1.50000 0.50000)        0  \n",
       "1  POINT (4.50000 0.50000)        0  \n",
       "2  POINT (3.50000 3.50000)        0  \n",
       "3  POINT (0.50000 0.50000)        0  \n",
       "4  POINT (1.50000 2.50000)        0  "
      ]
     },
     "execution_count": 985,
     "metadata": {},
     "output_type": "execute_result"
    }
   ],
   "source": [
    "super_parcels = parcel_dissolve.copy()\n",
    "super_parcels"
   ]
  },
  {
   "cell_type": "code",
   "execution_count": 995,
   "metadata": {},
   "outputs": [],
   "source": [
    "super_parcels['geometry'] = super_parcels['geometry'].apply(lambda x: concave_hull(x))"
   ]
  },
  {
   "cell_type": "code",
   "execution_count": 996,
   "metadata": {},
   "outputs": [
    {
     "data": {
      "image/png": "[encoded data removed]",
      "text/plain": [
       "<Figure size 1000x1000 with 1 Axes>"
      ]
     },
     "metadata": {},
     "output_type": "display_data"
    }
   ],
   "source": [
    "# visualize\n",
    "fig, ax = plt.subplots(figsize=(10, 10))\n",
    "super_parcels.plot(ax=ax, edgecolor='black', facecolor='none')\n",
    "l.plot(ax=ax, color='red')\n",
    "# add the single parcel data\n",
    "if not single_parcel_data.empty:\n",
    "    single_parcel_data.plot(ax=ax, edgecolor='black', facecolor='none')\n",
    "\n",
    "\n",
    "# Annotating each polygon with the 'owner' value on left side of the polygon\n",
    "for idx, row in super_parcels.iterrows():\n",
    "    centroid = row.geometry.centroid\n",
    "    ax.text(centroid.x, centroid.y, row['owner'], horizontalalignment='center', fontsize=12, weight='bold')\n",
    "\n",
    "# annotate single parcel data\n",
    "for idx, row in single_parcel_data.iterrows():\n",
    "    centroid = row.geometry.centroid\n",
    "    ax.text(centroid.x, centroid.y, row['owner'], horizontalalignment='center', fontsize=12, weight='bold')"
   ]
  },
  {
   "cell_type": "code",
   "execution_count": 874,
   "metadata": {},
   "outputs": [
    {
     "data": {
      "text/html": [
       "<div>\n",
       "<style scoped>\n",
       "    .dataframe tbody tr th:only-of-type {\n",
       "        vertical-align: middle;\n",
       "    }\n",
       "\n",
       "    .dataframe tbody tr th {\n",
       "        vertical-align: top;\n",
       "    }\n",
       "\n",
       "    .dataframe thead th {\n",
       "        text-align: right;\n",
       "    }\n",
       "</style>\n",
       "<table border=\"1\" class=\"dataframe\">\n",
       "  <thead>\n",
       "    <tr style=\"text-align: right;\">\n",
       "      <th></th>\n",
       "      <th>cluster_ID</th>\n",
       "      <th>geometry</th>\n",
       "      <th>owner</th>\n",
       "      <th>point</th>\n",
       "      <th>cluster</th>\n",
       "    </tr>\n",
       "  </thead>\n",
       "  <tbody>\n",
       "    <tr>\n",
       "      <th>0</th>\n",
       "      <td>A0</td>\n",
       "      <td>POLYGON ((1.00000 0.00000, 1.00000 1.00000, 4....</td>\n",
       "      <td>A</td>\n",
       "      <td>POINT (1.50000 0.50000)</td>\n",
       "      <td>0</td>\n",
       "    </tr>\n",
       "    <tr>\n",
       "      <th>1</th>\n",
       "      <td>B0</td>\n",
       "      <td>POLYGON ((4.00000 0.00000, 4.00000 2.00000, 5....</td>\n",
       "      <td>B</td>\n",
       "      <td>POINT (4.50000 0.50000)</td>\n",
       "      <td>0</td>\n",
       "    </tr>\n",
       "    <tr>\n",
       "      <th>2</th>\n",
       "      <td>C0</td>\n",
       "      <td>POLYGON ((4.00000 2.00000, 3.00000 3.00000, 3....</td>\n",
       "      <td>C</td>\n",
       "      <td>POINT (3.50000 3.50000)</td>\n",
       "      <td>0</td>\n",
       "    </tr>\n",
       "    <tr>\n",
       "      <th>3</th>\n",
       "      <td>D0</td>\n",
       "      <td>POLYGON ((0.00000 0.00000, 0.00000 2.00000, 3....</td>\n",
       "      <td>D</td>\n",
       "      <td>POINT (0.50000 0.50000)</td>\n",
       "      <td>0</td>\n",
       "    </tr>\n",
       "    <tr>\n",
       "      <th>4</th>\n",
       "      <td>E0</td>\n",
       "      <td>POLYGON ((1.00000 2.00000, 0.00000 3.00000, 0....</td>\n",
       "      <td>E</td>\n",
       "      <td>POINT (1.50000 2.50000)</td>\n",
       "      <td>0</td>\n",
       "    </tr>\n",
       "  </tbody>\n",
       "</table>\n",
       "</div>"
      ],
      "text/plain": [
       "  cluster_ID                                           geometry owner  \\\n",
       "0         A0  POLYGON ((1.00000 0.00000, 1.00000 1.00000, 4....     A   \n",
       "1         B0  POLYGON ((4.00000 0.00000, 4.00000 2.00000, 5....     B   \n",
       "2         C0  POLYGON ((4.00000 2.00000, 3.00000 3.00000, 3....     C   \n",
       "3         D0  POLYGON ((0.00000 0.00000, 0.00000 2.00000, 3....     D   \n",
       "4         E0  POLYGON ((1.00000 2.00000, 0.00000 3.00000, 0....     E   \n",
       "\n",
       "                     point  cluster  \n",
       "0  POINT (1.50000 0.50000)        0  \n",
       "1  POINT (4.50000 0.50000)        0  \n",
       "2  POINT (3.50000 3.50000)        0  \n",
       "3  POINT (0.50000 0.50000)        0  \n",
       "4  POINT (1.50000 2.50000)        0  "
      ]
     },
     "execution_count": 874,
     "metadata": {},
     "output_type": "execute_result"
    }
   ],
   "source": [
    "super_parcels"
   ]
  },
  {
   "cell_type": "code",
   "execution_count": 997,
   "metadata": {},
   "outputs": [],
   "source": [
    "\n",
    "for idx, parcel in super_parcels.iterrows():\n",
    "    parcel_geom = gpd.GeoDataFrame(geometry=[parcel.geometry])\n",
    "    parcel_id = parcel['cluster_ID']    \n",
    "    other_sp = super_parcels.loc[super_parcels['cluster_ID'] != parcel_id]\n",
    "    other_union = gpd.GeoDataFrame(geometry=[other_sp.unary_union])\n",
    "    parcel_clip = (gpd.overlay(parcel_geom, other_union, how='difference')\n",
    "                    .explode(ignore_index=True)\n",
    "                    .reset_index(drop=True))\n",
    "    parcel_clip['cluster_ID'] = parcel_id\n",
    "    parcel_clip['owner'] = parcel['owner']\n",
    "    # drop correspnding row in super_parcels\n",
    "    super_parcels = super_parcels[super_parcels['cluster_ID'] != parcel_id]\n",
    "    # add parcel clip to super_parcels\n",
    "    super_parcels = pd.concat([super_parcels, parcel_clip], ignore_index=True)\n",
    "    "
   ]
  },
  {
   "cell_type": "code",
   "execution_count": 998,
   "metadata": {},
   "outputs": [
    {
     "data": {
      "text/html": [
       "<div>\n",
       "<style scoped>\n",
       "    .dataframe tbody tr th:only-of-type {\n",
       "        vertical-align: middle;\n",
       "    }\n",
       "\n",
       "    .dataframe tbody tr th {\n",
       "        vertical-align: top;\n",
       "    }\n",
       "\n",
       "    .dataframe thead th {\n",
       "        text-align: right;\n",
       "    }\n",
       "</style>\n",
       "<table border=\"1\" class=\"dataframe\">\n",
       "  <thead>\n",
       "    <tr style=\"text-align: right;\">\n",
       "      <th></th>\n",
       "      <th>owner</th>\n",
       "      <th>cluster_ID</th>\n",
       "      <th>geometry</th>\n",
       "    </tr>\n",
       "  </thead>\n",
       "  <tbody>\n",
       "    <tr>\n",
       "      <th>0</th>\n",
       "      <td>A</td>\n",
       "      <td>A0</td>\n",
       "      <td>POLYGON ((1.00000 0.00000, 1.00000 1.00000, 2....</td>\n",
       "    </tr>\n",
       "    <tr>\n",
       "      <th>1</th>\n",
       "      <td>B</td>\n",
       "      <td>B0</td>\n",
       "      <td>POLYGON ((4.00000 2.00000, 5.00000 2.00000, 5....</td>\n",
       "    </tr>\n",
       "    <tr>\n",
       "      <th>2</th>\n",
       "      <td>C</td>\n",
       "      <td>C0</td>\n",
       "      <td>POLYGON ((3.00000 4.00000, 4.00000 4.00000, 4....</td>\n",
       "    </tr>\n",
       "    <tr>\n",
       "      <th>3</th>\n",
       "      <td>C</td>\n",
       "      <td>C0</td>\n",
       "      <td>POLYGON ((4.00000 3.00000, 5.00000 3.00000, 5....</td>\n",
       "    </tr>\n",
       "    <tr>\n",
       "      <th>4</th>\n",
       "      <td>D</td>\n",
       "      <td>D0</td>\n",
       "      <td>POLYGON ((0.00000 2.00000, 1.00000 2.00000, 2....</td>\n",
       "    </tr>\n",
       "    <tr>\n",
       "      <th>5</th>\n",
       "      <td>E</td>\n",
       "      <td>E0</td>\n",
       "      <td>POLYGON ((0.00000 3.00000, 0.00000 4.00000, 1....</td>\n",
       "    </tr>\n",
       "  </tbody>\n",
       "</table>\n",
       "</div>"
      ],
      "text/plain": [
       "  owner cluster_ID                                           geometry\n",
       "0     A         A0  POLYGON ((1.00000 0.00000, 1.00000 1.00000, 2....\n",
       "1     B         B0  POLYGON ((4.00000 2.00000, 5.00000 2.00000, 5....\n",
       "2     C         C0  POLYGON ((3.00000 4.00000, 4.00000 4.00000, 4....\n",
       "3     C         C0  POLYGON ((4.00000 3.00000, 5.00000 3.00000, 5....\n",
       "4     D         D0  POLYGON ((0.00000 2.00000, 1.00000 2.00000, 2....\n",
       "5     E         E0  POLYGON ((0.00000 3.00000, 0.00000 4.00000, 1...."
      ]
     },
     "execution_count": 998,
     "metadata": {},
     "output_type": "execute_result"
    }
   ],
   "source": [
    "super_parcels = super_parcels[['owner', 'cluster_ID', 'geometry']]\n",
    "super_parcels"
   ]
  },
  {
   "cell_type": "code",
   "execution_count": 999,
   "metadata": {},
   "outputs": [
    {
     "data": {
      "image/png": "[encoded data removed]",
      "text/plain": [
       "<Figure size 1000x1000 with 1 Axes>"
      ]
     },
     "metadata": {},
     "output_type": "display_data"
    }
   ],
   "source": [
    "# visualize\n",
    "fig, ax = plt.subplots(figsize=(10, 10))\n",
    "super_parcels.plot(ax=ax, edgecolor='black', facecolor='none')\n",
    "\n",
    "# Annotating each polygon with the 'owner' value on left side of the polygon\n",
    "for idx, row in super_parcels.iterrows():\n",
    "    centroid = row.geometry.centroid\n",
    "    ax.text(centroid.x, centroid.y, row['cluster_ID'], horizontalalignment='center', fontsize=12, weight='bold')"
   ]
  },
  {
   "cell_type": "code",
   "execution_count": 1000,
   "metadata": {},
   "outputs": [
    {
     "data": {
      "text/html": [
       "<div>\n",
       "<style scoped>\n",
       "    .dataframe tbody tr th:only-of-type {\n",
       "        vertical-align: middle;\n",
       "    }\n",
       "\n",
       "    .dataframe tbody tr th {\n",
       "        vertical-align: top;\n",
       "    }\n",
       "\n",
       "    .dataframe thead th {\n",
       "        text-align: right;\n",
       "    }\n",
       "</style>\n",
       "<table border=\"1\" class=\"dataframe\">\n",
       "  <thead>\n",
       "    <tr style=\"text-align: right;\">\n",
       "      <th></th>\n",
       "      <th>owner</th>\n",
       "      <th>cluster_ID</th>\n",
       "      <th>geometry</th>\n",
       "    </tr>\n",
       "  </thead>\n",
       "  <tbody>\n",
       "    <tr>\n",
       "      <th>0</th>\n",
       "      <td>A</td>\n",
       "      <td>A0</td>\n",
       "      <td>POLYGON ((1.00000 0.00000, 1.00000 1.00000, 2....</td>\n",
       "    </tr>\n",
       "    <tr>\n",
       "      <th>1</th>\n",
       "      <td>B</td>\n",
       "      <td>B0</td>\n",
       "      <td>POLYGON ((4.00000 2.00000, 5.00000 2.00000, 5....</td>\n",
       "    </tr>\n",
       "    <tr>\n",
       "      <th>2</th>\n",
       "      <td>C</td>\n",
       "      <td>C0</td>\n",
       "      <td>POLYGON ((3.00000 4.00000, 4.00000 4.00000, 4....</td>\n",
       "    </tr>\n",
       "    <tr>\n",
       "      <th>3</th>\n",
       "      <td>C</td>\n",
       "      <td>C0</td>\n",
       "      <td>POLYGON ((4.00000 3.00000, 5.00000 3.00000, 5....</td>\n",
       "    </tr>\n",
       "    <tr>\n",
       "      <th>4</th>\n",
       "      <td>D</td>\n",
       "      <td>D0</td>\n",
       "      <td>POLYGON ((0.00000 2.00000, 1.00000 2.00000, 2....</td>\n",
       "    </tr>\n",
       "    <tr>\n",
       "      <th>5</th>\n",
       "      <td>E</td>\n",
       "      <td>E0</td>\n",
       "      <td>POLYGON ((0.00000 3.00000, 0.00000 4.00000, 1....</td>\n",
       "    </tr>\n",
       "  </tbody>\n",
       "</table>\n",
       "</div>"
      ],
      "text/plain": [
       "  owner cluster_ID                                           geometry\n",
       "0     A         A0  POLYGON ((1.00000 0.00000, 1.00000 1.00000, 2....\n",
       "1     B         B0  POLYGON ((4.00000 2.00000, 5.00000 2.00000, 5....\n",
       "2     C         C0  POLYGON ((3.00000 4.00000, 4.00000 4.00000, 4....\n",
       "3     C         C0  POLYGON ((4.00000 3.00000, 5.00000 3.00000, 5....\n",
       "4     D         D0  POLYGON ((0.00000 2.00000, 1.00000 2.00000, 2....\n",
       "5     E         E0  POLYGON ((0.00000 3.00000, 0.00000 4.00000, 1...."
      ]
     },
     "execution_count": 1000,
     "metadata": {},
     "output_type": "execute_result"
    }
   ],
   "source": [
    "super_parcels"
   ]
  },
  {
   "cell_type": "code",
   "execution_count": 1001,
   "metadata": {},
   "outputs": [],
   "source": [
    "clipped_sp = super_parcels.copy()"
   ]
  },
  {
   "cell_type": "code",
   "execution_count": 1002,
   "metadata": {},
   "outputs": [],
   "source": [
    "single_union = gpd.GeoDataFrame(geometry=[single_parcel_data.unary_union])"
   ]
  },
  {
   "cell_type": "code",
   "execution_count": 1003,
   "metadata": {},
   "outputs": [
    {
     "data": {
      "text/html": [
       "<div>\n",
       "<style scoped>\n",
       "    .dataframe tbody tr th:only-of-type {\n",
       "        vertical-align: middle;\n",
       "    }\n",
       "\n",
       "    .dataframe tbody tr th {\n",
       "        vertical-align: top;\n",
       "    }\n",
       "\n",
       "    .dataframe thead th {\n",
       "        text-align: right;\n",
       "    }\n",
       "</style>\n",
       "<table border=\"1\" class=\"dataframe\">\n",
       "  <thead>\n",
       "    <tr style=\"text-align: right;\">\n",
       "      <th></th>\n",
       "      <th>owner</th>\n",
       "      <th>cluster_ID</th>\n",
       "      <th>geometry</th>\n",
       "    </tr>\n",
       "  </thead>\n",
       "  <tbody>\n",
       "    <tr>\n",
       "      <th>0</th>\n",
       "      <td>A</td>\n",
       "      <td>A0</td>\n",
       "      <td>POLYGON ((1.00000 0.00000, 1.00000 1.00000, 2....</td>\n",
       "    </tr>\n",
       "    <tr>\n",
       "      <th>1</th>\n",
       "      <td>B</td>\n",
       "      <td>B0</td>\n",
       "      <td>POLYGON ((4.00000 2.00000, 5.00000 2.00000, 5....</td>\n",
       "    </tr>\n",
       "    <tr>\n",
       "      <th>2</th>\n",
       "      <td>C</td>\n",
       "      <td>C0</td>\n",
       "      <td>POLYGON ((3.00000 4.00000, 4.00000 4.00000, 4....</td>\n",
       "    </tr>\n",
       "    <tr>\n",
       "      <th>3</th>\n",
       "      <td>C</td>\n",
       "      <td>C0</td>\n",
       "      <td>POLYGON ((4.00000 3.00000, 5.00000 3.00000, 5....</td>\n",
       "    </tr>\n",
       "    <tr>\n",
       "      <th>4</th>\n",
       "      <td>D</td>\n",
       "      <td>D0</td>\n",
       "      <td>POLYGON ((0.00000 2.00000, 1.00000 2.00000, 2....</td>\n",
       "    </tr>\n",
       "    <tr>\n",
       "      <th>5</th>\n",
       "      <td>E</td>\n",
       "      <td>E0</td>\n",
       "      <td>POLYGON ((0.00000 3.00000, 0.00000 4.00000, 1....</td>\n",
       "    </tr>\n",
       "  </tbody>\n",
       "</table>\n",
       "</div>"
      ],
      "text/plain": [
       "  owner cluster_ID                                           geometry\n",
       "0     A         A0  POLYGON ((1.00000 0.00000, 1.00000 1.00000, 2....\n",
       "1     B         B0  POLYGON ((4.00000 2.00000, 5.00000 2.00000, 5....\n",
       "2     C         C0  POLYGON ((3.00000 4.00000, 4.00000 4.00000, 4....\n",
       "3     C         C0  POLYGON ((4.00000 3.00000, 5.00000 3.00000, 5....\n",
       "4     D         D0  POLYGON ((0.00000 2.00000, 1.00000 2.00000, 2....\n",
       "5     E         E0  POLYGON ((0.00000 3.00000, 0.00000 4.00000, 1...."
      ]
     },
     "execution_count": 1003,
     "metadata": {},
     "output_type": "execute_result"
    }
   ],
   "source": [
    "clipped_sp_final = gpd.overlay(clipped_sp, single_union, how='difference')\n",
    "clipped_sp_final"
   ]
  },
  {
   "cell_type": "code",
   "execution_count": 1004,
   "metadata": {},
   "outputs": [],
   "source": [
    "clipped_sp_final = clipped_sp_final.explode(ignore_index=True)\n",
    "clipped_sp_final['superparcel_ID'] = clipped_sp_final['cluster_ID'] + \"_\" + clipped_sp_final.groupby('cluster_ID').cumcount().astype(str) "
   ]
  },
  {
   "cell_type": "code",
   "execution_count": 1009,
   "metadata": {},
   "outputs": [
    {
     "data": {
      "image/png": "[encoded data removed]",
      "text/plain": [
       "<Figure size 1000x1000 with 1 Axes>"
      ]
     },
     "metadata": {},
     "output_type": "display_data"
    }
   ],
   "source": [
    "\n",
    "# visualize\n",
    "fig, ax = plt.subplots(figsize=(10, 10))\n",
    "# visualize based on cluster_ID\n",
    "clipped_sp_final.plot(ax=ax, edgecolor='black', facecolor='lightblue', column='cluster_ID', cmap='tab20')\n",
    "unique_clusters = clipped_sp_final['superparcel_ID'].unique()\n",
    "cmap = plt.cm.get_cmap('tab20', len(unique_clusters))\n",
    "cluster_to_color = {cluster: cmap(i) for i, cluster in enumerate(unique_clusters)}\n",
    "\n",
    "l.plot(ax=ax, color='red')\n",
    "# add the single parcel data with no color\n",
    "if not single_parcel_data.empty:\n",
    "    single_parcel_data.plot(ax=ax, edgecolor='black', facecolor='none')\n",
    "g.plot(ax=ax, edgecolor='black', facecolor='none')  \n",
    "\n",
    "# Annotating each polygon with the 'owner' value on left side of the polygon\n",
    "for idx, row in clipped_sp_final.iterrows():\n",
    "    centroid = row.geometry.centroid\n",
    "    ax.text(centroid.x, centroid.y, row['superparcel_ID'], horizontalalignment='right', fontsize=12, weight='bold', color='darkblue')\n",
    "\n",
    "# annotate single parcel data\n",
    "for idx, row in g.iterrows():\n",
    "    centroid = row.geometry.centroid\n",
    "    ax.text(centroid.x, centroid.y, row['owner'], horizontalalignment='center', fontsize=12, weight='bold')"
   ]
  },
  {
   "cell_type": "code",
   "execution_count": null,
   "metadata": {},
   "outputs": [],
   "source": []
  }
 ],
 "metadata": {
  "kernelspec": {
   "display_name": "Python 3",
   "language": "python",
   "name": "python3"
  },
  "language_info": {
   "codemirror_mode": {
    "name": "ipython",
    "version": 3
   },
   "file_extension": ".py",
   "mimetype": "text/x-python",
   "name": "python",
   "nbconvert_exporter": "python",
   "pygments_lexer": "ipython3",
   "version": "3.11.4"
  }
 },
 "nbformat": 4,
 "nbformat_minor": 2
}
