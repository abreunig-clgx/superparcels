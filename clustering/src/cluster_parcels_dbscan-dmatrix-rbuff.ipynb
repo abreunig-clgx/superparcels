{
 "cells": [
  {
   "cell_type": "code",
   "execution_count": 55,
   "metadata": {},
   "outputs": [],
   "source": [
    "from sklearn.cluster import DBSCAN, HDBSCAN\n",
    "import numpy as np\n",
    "import geopandas as gpd \n",
    "import os\n",
    "import pandas as pd \n",
    "from shapely import concave_hull, convex_hull, segmentize, minimum_rotated_rectangle\n",
    "from shapely.ops import nearest_points\n",
    "# ignore warnings\n",
    "import warnings\n",
    "warnings.filterwarnings('ignore')\n"
   ]
  },
  {
   "cell_type": "code",
   "execution_count": 56,
   "metadata": {},
   "outputs": [],
   "source": [
    "dbscan_distance = 35\n",
    "density_threshold = 10\n",
    "concave_ratio = 0.7"
   ]
  },
  {
   "cell_type": "code",
   "execution_count": 57,
   "metadata": {},
   "outputs": [],
   "source": [
    "def polygon_distance(polygon1, polygon2):\n",
    "    # Calculate the minimum distance between two polygons\n",
    "    point1, point2 = nearest_points(polygon1, polygon2)\n",
    "    return point1.distance(point2)\n",
    "\n",
    "def compute_distance_matrix(polygons):\n",
    "    # Create a distance matrix between all polygons\n",
    "    num_polygons = len(polygons)\n",
    "    distance_matrix = np.zeros((num_polygons, num_polygons))\n",
    "    \n",
    "    for i in range(num_polygons):\n",
    "        for j in range(i + 1, num_polygons):\n",
    "            distance_matrix[i, j] = polygon_distance(polygons[i], polygons[j])\n",
    "            distance_matrix[j, i] = distance_matrix[i, j]  # Symmetry\n",
    "    \n",
    "    return distance_matrix"
   ]
  },
  {
   "cell_type": "code",
   "execution_count": 58,
   "metadata": {},
   "outputs": [],
   "source": [
    "data_dir = r'D:\\Projects\\superparcels\\data\\Rural\\Crook_OR'\n",
    "output_dir = r'D:\\Projects\\superparcels\\data\\urban\\outputs\\dmatrix'\n",
    "parcels = gpd.read_file(os.path.join(data_dir, 'sp_sample_41013_cluster_canidates.shp'))\n",
    "utm = parcels.estimate_utm_crs().to_epsg()"
   ]
  },
  {
   "cell_type": "code",
   "execution_count": 59,
   "metadata": {},
   "outputs": [],
   "source": [
    "parcels = parcels.to_crs(epsg=utm)  "
   ]
  },
  {
   "cell_type": "code",
   "execution_count": 60,
   "metadata": {},
   "outputs": [
    {
     "data": {
      "text/plain": [
       "OWNER\n",
       "BRADLEYSANTUCCI                        24\n",
       "CONNIE MHATFIELD                       18\n",
       "R HORTON INCD R HORTON INC-PORTLAND    18\n",
       "JOANNWEAVER                            14\n",
       "STEPHEN TGILLEN                        14\n",
       "                                       ..\n",
       "IRA GESSOE                              2\n",
       "MARY DMAYFIELD                          2\n",
       "SUSAN KCRAWFORD                         2\n",
       "DUSTINCOLLINS                           2\n",
       "IMPROVEMENTIDLEWAY                      2\n",
       "Name: count, Length: 1226, dtype: int64"
      ]
     },
     "execution_count": 60,
     "metadata": {},
     "output_type": "execute_result"
    }
   ],
   "source": [
    "parcels['OWNER'].value_counts()"
   ]
  },
  {
   "cell_type": "code",
   "execution_count": 61,
   "metadata": {},
   "outputs": [
    {
     "name": "stdout",
     "output_type": "stream",
     "text": [
      "Number of unique owners: 1226\n"
     ]
    }
   ],
   "source": [
    "unique_owners = parcels['OWNER'].unique()\n",
    "print('Number of unique owners:', len(unique_owners))   "
   ]
  },
  {
   "cell_type": "code",
   "execution_count": 62,
   "metadata": {},
   "outputs": [],
   "source": [
    "sample_size = 3"
   ]
  },
  {
   "cell_type": "code",
   "execution_count": 63,
   "metadata": {},
   "outputs": [],
   "source": [
    "clustered_parcel_data = gpd.GeoDataFrame()\n",
    "single_parcel_data = gpd.GeoDataFrame()\n",
    "cluster_counts_dict = {}\n",
    "for owner in unique_owners:\n",
    "    if owner != 'L RKOPCINSKI':\n",
    "        continue\n",
    "    dbscan_distance = 200\n",
    "    owner_parcels = parcels[parcels['OWNER'] == owner]\n",
    "    polygons = owner_parcels['geometry'].to_list()\n",
    "    distance_matrix = compute_distance_matrix(polygons)\n",
    "    \n",
    "    if distance_matrix.shape[0] < 3: # only two parcels\n",
    "        continue\n",
    "\n",
    "    if np.all(distance_matrix == 0): # get distance greater than 0 but minimum distance\n",
    "        dbscan_distance = 3\n",
    "    \n",
    "    dbscan = DBSCAN(eps=dbscan_distance, min_samples=sample_size, metric='precomputed')\n",
    "    clusters = dbscan.fit_predict(distance_matrix)\n",
    "    owner_parcels['cluster'] = clusters \n",
    "    owner_parcels['area'] = owner_parcels['geometry'].area\n",
    "    counts = owner_parcels['cluster'].value_counts()\n",
    "    \n",
    "    outliers = counts[counts.index == -1].index\n",
    "    # drop outliers\n",
    "    counts = counts[counts.index != -1]\n",
    "    single_parcel_filter_ids = set(list(outliers))\n",
    "        \n",
    "    single_parcel_filter = owner_parcels[owner_parcels['cluster'].isin(single_parcel_filter_ids)]\n",
    "    single_parcel_data = pd.concat([single_parcel_data, single_parcel_filter], ignore_index=True)\n",
    "    \n",
    "    cluster_filter = owner_parcels[~owner_parcels['cluster'].isin(single_parcel_filter_ids)]\n",
    "    if len(cluster_filter) > 0:\n",
    "        cluster_filter['pcount'] = cluster_filter['cluster'].map(counts)\n",
    "        cluster_filter['buff_dist'] = dbscan_distance\n",
    "        clustered_parcel_data = pd.concat([clustered_parcel_data, cluster_filter], ignore_index=True)\n",
    "\n",
    "\n"
   ]
  },
  {
   "cell_type": "code",
   "execution_count": 64,
   "metadata": {},
   "outputs": [
    {
     "data": {
      "text/plain": [
       "cluster\n",
       "0    5\n",
       "Name: count, dtype: int64"
      ]
     },
     "execution_count": 64,
     "metadata": {},
     "output_type": "execute_result"
    }
   ],
   "source": [
    "counts"
   ]
  },
  {
   "cell_type": "code",
   "execution_count": 65,
   "metadata": {},
   "outputs": [
    {
     "data": {
      "text/html": [
       "<div>\n",
       "<style scoped>\n",
       "    .dataframe tbody tr th:only-of-type {\n",
       "        vertical-align: middle;\n",
       "    }\n",
       "\n",
       "    .dataframe tbody tr th {\n",
       "        vertical-align: top;\n",
       "    }\n",
       "\n",
       "    .dataframe thead th {\n",
       "        text-align: right;\n",
       "    }\n",
       "</style>\n",
       "<table border=\"1\" class=\"dataframe\">\n",
       "  <thead>\n",
       "    <tr style=\"text-align: right;\">\n",
       "      <th></th>\n",
       "      <th>FIPS</th>\n",
       "      <th>OWNER</th>\n",
       "      <th>duplicate_</th>\n",
       "      <th>duplicat_1</th>\n",
       "      <th>classifica</th>\n",
       "      <th>classifi_1</th>\n",
       "      <th>geometry</th>\n",
       "      <th>cluster</th>\n",
       "      <th>area</th>\n",
       "      <th>pcount</th>\n",
       "      <th>buff_dist</th>\n",
       "    </tr>\n",
       "  </thead>\n",
       "  <tbody>\n",
       "    <tr>\n",
       "      <th>0</th>\n",
       "      <td>41013</td>\n",
       "      <td>L RKOPCINSKI</td>\n",
       "      <td>1</td>\n",
       "      <td>0</td>\n",
       "      <td>Class2: Duplicate Owner</td>\n",
       "      <td>2</td>\n",
       "      <td>POLYGON ((706875.541 4928174.174, 706923.916 4...</td>\n",
       "      <td>0</td>\n",
       "      <td>1.995683e+05</td>\n",
       "      <td>5</td>\n",
       "      <td>200</td>\n",
       "    </tr>\n",
       "    <tr>\n",
       "      <th>1</th>\n",
       "      <td>41013</td>\n",
       "      <td>L RKOPCINSKI</td>\n",
       "      <td>1</td>\n",
       "      <td>0</td>\n",
       "      <td>Class2: Duplicate Owner</td>\n",
       "      <td>2</td>\n",
       "      <td>POLYGON ((707775.642 4928936.781, 707786.399 4...</td>\n",
       "      <td>0</td>\n",
       "      <td>1.726039e+06</td>\n",
       "      <td>5</td>\n",
       "      <td>200</td>\n",
       "    </tr>\n",
       "    <tr>\n",
       "      <th>2</th>\n",
       "      <td>41013</td>\n",
       "      <td>L RKOPCINSKI</td>\n",
       "      <td>1</td>\n",
       "      <td>0</td>\n",
       "      <td>Class2: Duplicate Owner</td>\n",
       "      <td>2</td>\n",
       "      <td>POLYGON ((700237.515 4930263.665, 700250.683 4...</td>\n",
       "      <td>0</td>\n",
       "      <td>2.512830e+07</td>\n",
       "      <td>5</td>\n",
       "      <td>200</td>\n",
       "    </tr>\n",
       "    <tr>\n",
       "      <th>3</th>\n",
       "      <td>41013</td>\n",
       "      <td>L RKOPCINSKI</td>\n",
       "      <td>1</td>\n",
       "      <td>0</td>\n",
       "      <td>Class2: Duplicate Owner</td>\n",
       "      <td>2</td>\n",
       "      <td>POLYGON ((701995.624 4937563.549, 702006.582 4...</td>\n",
       "      <td>0</td>\n",
       "      <td>3.480336e+07</td>\n",
       "      <td>5</td>\n",
       "      <td>200</td>\n",
       "    </tr>\n",
       "    <tr>\n",
       "      <th>4</th>\n",
       "      <td>41013</td>\n",
       "      <td>L RKOPCINSKI</td>\n",
       "      <td>1</td>\n",
       "      <td>0</td>\n",
       "      <td>Class2: Duplicate Owner</td>\n",
       "      <td>2</td>\n",
       "      <td>POLYGON ((699513.147 4934531.966, 699539.222 4...</td>\n",
       "      <td>0</td>\n",
       "      <td>2.226989e+07</td>\n",
       "      <td>5</td>\n",
       "      <td>200</td>\n",
       "    </tr>\n",
       "  </tbody>\n",
       "</table>\n",
       "</div>"
      ],
      "text/plain": [
       "    FIPS         OWNER  duplicate_  duplicat_1               classifica  \\\n",
       "0  41013  L RKOPCINSKI           1           0  Class2: Duplicate Owner   \n",
       "1  41013  L RKOPCINSKI           1           0  Class2: Duplicate Owner   \n",
       "2  41013  L RKOPCINSKI           1           0  Class2: Duplicate Owner   \n",
       "3  41013  L RKOPCINSKI           1           0  Class2: Duplicate Owner   \n",
       "4  41013  L RKOPCINSKI           1           0  Class2: Duplicate Owner   \n",
       "\n",
       "   classifi_1                                           geometry  cluster  \\\n",
       "0           2  POLYGON ((706875.541 4928174.174, 706923.916 4...        0   \n",
       "1           2  POLYGON ((707775.642 4928936.781, 707786.399 4...        0   \n",
       "2           2  POLYGON ((700237.515 4930263.665, 700250.683 4...        0   \n",
       "3           2  POLYGON ((701995.624 4937563.549, 702006.582 4...        0   \n",
       "4           2  POLYGON ((699513.147 4934531.966, 699539.222 4...        0   \n",
       "\n",
       "           area  pcount  buff_dist  \n",
       "0  1.995683e+05       5        200  \n",
       "1  1.726039e+06       5        200  \n",
       "2  2.512830e+07       5        200  \n",
       "3  3.480336e+07       5        200  \n",
       "4  2.226989e+07       5        200  "
      ]
     },
     "execution_count": 65,
     "metadata": {},
     "output_type": "execute_result"
    }
   ],
   "source": [
    "clustered_parcel_data"
   ]
  },
  {
   "cell_type": "markdown",
   "metadata": {},
   "source": [
    "Example of Owner containing two parcels with their respective distances to eachother (meters)"
   ]
  },
  {
   "cell_type": "code",
   "execution_count": 66,
   "metadata": {},
   "outputs": [],
   "source": [
    "# create cluster ID\n",
    "clustered_parcel_data['cluster_ID'] = clustered_parcel_data['OWNER'] + '_' + clustered_parcel_data['cluster'].astype(str)\n",
    "single_parcel_data['cluster_ID'] = single_parcel_data['OWNER'] + '_' + single_parcel_data['cluster'].astype(str)"
   ]
  },
  {
   "cell_type": "code",
   "execution_count": 67,
   "metadata": {},
   "outputs": [],
   "source": [
    "parcel_dissolve = clustered_parcel_data.dissolve(by='cluster_ID').reset_index()\n"
   ]
  },
  {
   "cell_type": "code",
   "execution_count": 68,
   "metadata": {},
   "outputs": [],
   "source": [
    "parcel_dissolve['area'] = parcel_dissolve['geometry'].area"
   ]
  },
  {
   "cell_type": "code",
   "execution_count": 69,
   "metadata": {},
   "outputs": [
    {
     "data": {
      "text/plain": [
       "cluster_ID\n",
       "L RKOPCINSKI_0    8.412716e+07\n",
       "Name: area, dtype: float64"
      ]
     },
     "execution_count": 69,
     "metadata": {},
     "output_type": "execute_result"
    }
   ],
   "source": [
    "parcel_dissolve.groupby('cluster_ID')['area'].mean().sort_values(ascending=False)"
   ]
  },
  {
   "cell_type": "code",
   "execution_count": 70,
   "metadata": {},
   "outputs": [],
   "source": [
    "mean_area = parcel_dissolve.groupby('cluster_ID')['area'].mean()\n",
    "super_parcel_ids = mean_area[mean_area > 300000].index\n",
    "super_parcels = parcel_dissolve[parcel_dissolve['cluster_ID'].isin(super_parcel_ids)]\n",
    "super_parcels = super_parcels[['cluster_ID', 'area', 'pcount', 'OWNER', 'geometry']]"
   ]
  },
  {
   "cell_type": "code",
   "execution_count": 71,
   "metadata": {},
   "outputs": [],
   "source": [
    "super_parcels['geometry'] = super_parcels['geometry'].buffer(dbscan_distance)\n",
    "super_parcels['geometry'] = super_parcels['geometry'].buffer(-dbscan_distance)\n"
   ]
  },
  {
   "cell_type": "code",
   "execution_count": 72,
   "metadata": {},
   "outputs": [],
   "source": [
    "super_parcels['sp_id'] = super_parcels['cluster_ID'] + \"_\" + super_parcels.groupby('cluster_ID').cumcount().astype(str) \n",
    "super_parcels['rank'] = super_parcels['area'].rank(ascending=False)\n",
    "super_parcels = super_parcels.sort_values(by='rank', ascending=True)\n",
    "super_parcels = super_parcels.reset_index(drop=True)"
   ]
  },
  {
   "cell_type": "code",
   "execution_count": 73,
   "metadata": {},
   "outputs": [
    {
     "data": {
      "text/html": [
       "<div>\n",
       "<style scoped>\n",
       "    .dataframe tbody tr th:only-of-type {\n",
       "        vertical-align: middle;\n",
       "    }\n",
       "\n",
       "    .dataframe tbody tr th {\n",
       "        vertical-align: top;\n",
       "    }\n",
       "\n",
       "    .dataframe thead th {\n",
       "        text-align: right;\n",
       "    }\n",
       "</style>\n",
       "<table border=\"1\" class=\"dataframe\">\n",
       "  <thead>\n",
       "    <tr style=\"text-align: right;\">\n",
       "      <th></th>\n",
       "      <th>cluster_ID</th>\n",
       "      <th>area</th>\n",
       "      <th>pcount</th>\n",
       "      <th>OWNER</th>\n",
       "      <th>geometry</th>\n",
       "      <th>sp_id</th>\n",
       "      <th>rank</th>\n",
       "    </tr>\n",
       "  </thead>\n",
       "  <tbody>\n",
       "    <tr>\n",
       "      <th>0</th>\n",
       "      <td>L RKOPCINSKI_0</td>\n",
       "      <td>8.412716e+07</td>\n",
       "      <td>5</td>\n",
       "      <td>L RKOPCINSKI</td>\n",
       "      <td>POLYGON ((698115.618 4937420.146, 698120.275 4...</td>\n",
       "      <td>L RKOPCINSKI_0_0</td>\n",
       "      <td>1.0</td>\n",
       "    </tr>\n",
       "  </tbody>\n",
       "</table>\n",
       "</div>"
      ],
      "text/plain": [
       "       cluster_ID          area  pcount         OWNER  \\\n",
       "0  L RKOPCINSKI_0  8.412716e+07       5  L RKOPCINSKI   \n",
       "\n",
       "                                            geometry             sp_id  rank  \n",
       "0  POLYGON ((698115.618 4937420.146, 698120.275 4...  L RKOPCINSKI_0_0   1.0  "
      ]
     },
     "execution_count": 73,
     "metadata": {},
     "output_type": "execute_result"
    }
   ],
   "source": [
    "super_parcels"
   ]
  },
  {
   "cell_type": "code",
   "execution_count": 53,
   "metadata": {},
   "outputs": [],
   "source": [
    "super_parcels['sp_count'] = super_parcels['OWNER'].map(super_parcels.groupby('OWNER')['sp_id'].count())"
   ]
  },
  {
   "cell_type": "code",
   "execution_count": 54,
   "metadata": {},
   "outputs": [
    {
     "data": {
      "text/html": [
       "<div>\n",
       "<style scoped>\n",
       "    .dataframe tbody tr th:only-of-type {\n",
       "        vertical-align: middle;\n",
       "    }\n",
       "\n",
       "    .dataframe tbody tr th {\n",
       "        vertical-align: top;\n",
       "    }\n",
       "\n",
       "    .dataframe thead th {\n",
       "        text-align: right;\n",
       "    }\n",
       "</style>\n",
       "<table border=\"1\" class=\"dataframe\">\n",
       "  <thead>\n",
       "    <tr style=\"text-align: right;\">\n",
       "      <th></th>\n",
       "      <th>cluster_ID</th>\n",
       "      <th>area</th>\n",
       "      <th>pcount</th>\n",
       "      <th>OWNER</th>\n",
       "      <th>geometry</th>\n",
       "      <th>sp_id</th>\n",
       "      <th>rank</th>\n",
       "      <th>sp_count</th>\n",
       "    </tr>\n",
       "  </thead>\n",
       "  <tbody>\n",
       "    <tr>\n",
       "      <th>0</th>\n",
       "      <td>I S DGARLAND_3</td>\n",
       "      <td>398583.981299</td>\n",
       "      <td>4</td>\n",
       "      <td>I S DGARLAND</td>\n",
       "      <td>POLYGON ((719937.094 3649048.670, 719939.860 3...</td>\n",
       "      <td>I S DGARLAND_3_0</td>\n",
       "      <td>1.0</td>\n",
       "      <td>3</td>\n",
       "    </tr>\n",
       "    <tr>\n",
       "      <th>1</th>\n",
       "      <td>I S DGARLAND_6</td>\n",
       "      <td>370443.844441</td>\n",
       "      <td>4</td>\n",
       "      <td>I S DGARLAND</td>\n",
       "      <td>POLYGON ((725191.492 3649578.410, 725191.477 3...</td>\n",
       "      <td>I S DGARLAND_6_0</td>\n",
       "      <td>2.0</td>\n",
       "      <td>3</td>\n",
       "    </tr>\n",
       "    <tr>\n",
       "      <th>2</th>\n",
       "      <td>I S DGARLAND_5</td>\n",
       "      <td>353591.262642</td>\n",
       "      <td>5</td>\n",
       "      <td>I S DGARLAND</td>\n",
       "      <td>POLYGON ((726425.895 3647236.562, 726425.960 3...</td>\n",
       "      <td>I S DGARLAND_5_0</td>\n",
       "      <td>3.0</td>\n",
       "      <td>3</td>\n",
       "    </tr>\n",
       "  </tbody>\n",
       "</table>\n",
       "</div>"
      ],
      "text/plain": [
       "       cluster_ID           area  pcount         OWNER  \\\n",
       "0  I S DGARLAND_3  398583.981299       4  I S DGARLAND   \n",
       "1  I S DGARLAND_6  370443.844441       4  I S DGARLAND   \n",
       "2  I S DGARLAND_5  353591.262642       5  I S DGARLAND   \n",
       "\n",
       "                                            geometry             sp_id  rank  \\\n",
       "0  POLYGON ((719937.094 3649048.670, 719939.860 3...  I S DGARLAND_3_0   1.0   \n",
       "1  POLYGON ((725191.492 3649578.410, 725191.477 3...  I S DGARLAND_6_0   2.0   \n",
       "2  POLYGON ((726425.895 3647236.562, 726425.960 3...  I S DGARLAND_5_0   3.0   \n",
       "\n",
       "   sp_count  \n",
       "0         3  \n",
       "1         3  \n",
       "2         3  "
      ]
     },
     "execution_count": 54,
     "metadata": {},
     "output_type": "execute_result"
    }
   ],
   "source": [
    "super_parcels"
   ]
  },
  {
   "cell_type": "code",
   "execution_count": 49,
   "metadata": {},
   "outputs": [],
   "source": [
    "super_parcels.to_file(os.path.join(data_dir, 'super_parcels_temp.shp'))"
   ]
  },
  {
   "cell_type": "code",
   "execution_count": null,
   "metadata": {},
   "outputs": [],
   "source": []
  }
 ],
 "metadata": {
  "kernelspec": {
   "display_name": "Python 3",
   "language": "python",
   "name": "python3"
  },
  "language_info": {
   "codemirror_mode": {
    "name": "ipython",
    "version": 3
   },
   "file_extension": ".py",
   "mimetype": "text/x-python",
   "name": "python",
   "nbconvert_exporter": "python",
   "pygments_lexer": "ipython3",
   "version": "3.11.4"
  }
 },
 "nbformat": 4,
 "nbformat_minor": 2
}
