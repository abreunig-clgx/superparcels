{
 "cells": [
  {
   "cell_type": "code",
   "execution_count": 2,
   "metadata": {},
   "outputs": [],
   "source": [
    "from sklearn.cluster import DBSCAN, HDBSCAN\n",
    "import numpy as np\n",
    "import geopandas as gpd \n",
    "import os\n",
    "import pandas as pd \n",
    "from shapely import concave_hull, convex_hull, segmentize, minimum_rotated_rectangle\n",
    "from shapely.ops import nearest_points\n",
    "# ignore warnings\n",
    "import warnings\n",
    "warnings.filterwarnings('ignore')\n"
   ]
  },
  {
   "cell_type": "code",
   "execution_count": 3,
   "metadata": {},
   "outputs": [],
   "source": [
    "dbscan_distance = 35\n",
    "density_threshold = 10\n",
    "concave_ratio = 0.7"
   ]
  },
  {
   "cell_type": "code",
   "execution_count": 4,
   "metadata": {},
   "outputs": [],
   "source": [
    "def polygon_distance(polygon1, polygon2):\n",
    "    # Calculate the minimum distance between two polygons\n",
    "    point1, point2 = nearest_points(polygon1, polygon2)\n",
    "    return point1.distance(point2)\n",
    "\n",
    "def compute_distance_matrix(polygons):\n",
    "    # Create a distance matrix between all polygons\n",
    "    num_polygons = len(polygons)\n",
    "    distance_matrix = np.zeros((num_polygons, num_polygons))\n",
    "    \n",
    "    for i in range(num_polygons):\n",
    "        for j in range(i + 1, num_polygons):\n",
    "            distance_matrix[i, j] = polygon_distance(polygons[i], polygons[j])\n",
    "            distance_matrix[j, i] = distance_matrix[i, j]  # Symmetry\n",
    "    \n",
    "    return distance_matrix"
   ]
  },
  {
   "cell_type": "code",
   "execution_count": 6,
   "metadata": {},
   "outputs": [],
   "source": [
    "data_dir = r'D:\\Projects\\superparcels\\data\\Urban\\Alameda_CA'\n",
    "output_dir = r'D:\\Projects\\superparcels\\data\\urban\\outputs\\dmatrix'\n",
    "parcels = gpd.read_file(os.path.join(data_dir, 'sp_sample_06001_cluster_canidates.shp'))\n",
    "utm = parcels.estimate_utm_crs().to_epsg()"
   ]
  },
  {
   "cell_type": "code",
   "execution_count": 7,
   "metadata": {},
   "outputs": [],
   "source": [
    "parcels = parcels.to_crs(epsg=utm)  "
   ]
  },
  {
   "cell_type": "code",
   "execution_count": 8,
   "metadata": {},
   "outputs": [
    {
     "data": {
      "text/plain": [
       "OWNER\n",
       "DAVID SBOYD        70\n",
       "RAJNEESHSALWAN     60\n",
       "FAYEZ EABBOUD      51\n",
       "JOHN JSULLIVAN     49\n",
       "DANILOMAYORGA      46\n",
       "                   ..\n",
       "DOUGLAS ABROWN      1\n",
       "LAKSHMIKOSARAJU     1\n",
       "YUNGLINGCHEN        1\n",
       "MILANPETRENCIK      1\n",
       "LILLIANHOWAN        1\n",
       "Name: count, Length: 38644, dtype: int64"
      ]
     },
     "execution_count": 8,
     "metadata": {},
     "output_type": "execute_result"
    }
   ],
   "source": [
    "parcels['OWNER'].value_counts()"
   ]
  },
  {
   "cell_type": "code",
   "execution_count": 9,
   "metadata": {},
   "outputs": [
    {
     "name": "stdout",
     "output_type": "stream",
     "text": [
      "Number of unique owners: 38644\n"
     ]
    }
   ],
   "source": [
    "unique_owners = parcels['OWNER'].unique()\n",
    "print('Number of unique owners:', len(unique_owners))   "
   ]
  },
  {
   "cell_type": "code",
   "execution_count": 24,
   "metadata": {},
   "outputs": [
    {
     "name": "stdout",
     "output_type": "stream",
     "text": [
      "OWNER: COLEMANFOLEY\n",
      "Minimum valid distance: 59.0\n"
     ]
    }
   ],
   "source": [
    "clustered_parcel_data = gpd.GeoDataFrame()\n",
    "single_parcel_data = gpd.GeoDataFrame()\n",
    "for owner in unique_owners:\n",
    "    if owner != 'COLEMANFOLEY':\n",
    "        continue\n",
    "    print(f'OWNER: {owner}')\n",
    "\n",
    "    owner_parcels = parcels[parcels['OWNER'] == owner]\n",
    "    polygons = owner_parcels['geometry'].to_list()\n",
    "    distance_matrix = compute_distance_matrix(polygons)\n",
    "    # get distance greater than 0 but minimum distance\n",
    "    if np.all(distance_matrix == 0):\n",
    "        min_valid_distance = 3\n",
    "        \n",
    "    else:\n",
    "        min_valid_distance = np.round(np.min(distance_matrix[distance_matrix > 0]))\n",
    "        print(f'Minimum valid distance: {min_valid_distance}')\n",
    "\n",
    "\n",
    "    dbscan = DBSCAN(eps=dbscan_distance, min_samples=2, metric='precomputed')\n",
    "    clusters = dbscan.fit_predict(distance_matrix)\n",
    "    owner_parcels['cluster'] = clusters \n",
    "    owner_parcels['area'] = owner_parcels['geometry'].area\n",
    "    counts = owner_parcels['cluster'].value_counts()\n",
    "    \n",
    "    #single_parcel_clusters = counts[counts == 1].index\n",
    "    low_parcel_clusters = counts[counts < 3].index\n",
    "    outliers = counts[counts.index == -1].index\n",
    "    single_parcel_filter_ids = set(list(outliers) + list(low_parcel_clusters))\n",
    "        \n",
    "    single_parcel_filter = owner_parcels[owner_parcels['cluster'].isin(single_parcel_filter_ids)]\n",
    "    single_parcel_data = pd.concat([single_parcel_data, single_parcel_filter], ignore_index=True)\n",
    "    \n",
    "    cluster_filter = owner_parcels[~owner_parcels['cluster'].isin(single_parcel_filter_ids)]\n",
    "    clustered_parcel_data = pd.concat([clustered_parcel_data, cluster_filter], ignore_index=True)\n",
    "    print('______________________________________________________________________________________')\n",
    "    \n",
    "\n",
    "    "
   ]
  },
  {
   "cell_type": "code",
   "execution_count": 22,
   "metadata": {},
   "outputs": [],
   "source": [
    "if np.all(distance_matrix == 0):\n",
    "    print('All distances are zero')"
   ]
  },
  {
   "cell_type": "code",
   "execution_count": null,
   "metadata": {},
   "outputs": [],
   "source": [
    "min_valid_distance = np.min(distance_matrix[distance_matrix > 0])"
   ]
  },
  {
   "cell_type": "markdown",
   "metadata": {},
   "source": [
    "Example of Owner containing two parcels with their respective distances to eachother (meters)"
   ]
  },
  {
   "cell_type": "code",
   "execution_count": 10,
   "metadata": {},
   "outputs": [],
   "source": [
    "# create cluster ID\n",
    "clustered_parcel_data['cluster_ID'] = clustered_parcel_data['OWNER'] + '_' + clustered_parcel_data['cluster'].astype(str)\n",
    "single_parcel_data['cluster_ID'] = single_parcel_data['OWNER'] + '_' + single_parcel_data['cluster'].astype(str)"
   ]
  },
  {
   "cell_type": "code",
   "execution_count": 18,
   "metadata": {},
   "outputs": [],
   "source": [
    "parcel_dissolve = clustered_parcel_data.dissolve(by='cluster_ID').reset_index()\n"
   ]
  },
  {
   "cell_type": "code",
   "execution_count": 20,
   "metadata": {},
   "outputs": [],
   "source": [
    "parcel_dissolve['area'] = parcel_dissolve['geometry'].area"
   ]
  },
  {
   "cell_type": "code",
   "execution_count": 26,
   "metadata": {},
   "outputs": [
    {
     "data": {
      "text/plain": [
       "cluster_ID\n",
       "THERAPEUTICSEDGEWISE_0    865913.749402\n",
       "FRANCISCO JCASTRO_0       159065.579957\n",
       "JUDIMOOR_0                107411.532067\n",
       "DELTA BBEMENT_0            53037.217819\n",
       "JASONVON ESCHEN_0          12225.876271\n",
       "SOTERIOSPALMOS_0            7596.545356\n",
       "BARRY LOUISPLOOG_0          6876.254014\n",
       "ANNE GRACETOLBERT_0         5332.505209\n",
       "JOHN JKELLY_0               4764.154995\n",
       "DANIEL JMCCARTHY_0          4268.231304\n",
       "KEVIN DNESS_0               3626.093358\n",
       "FRED APICKRELL_0            2772.287780\n",
       "PETERFREYMUTH_0             2710.725644\n",
       "WAYNE EBENNETT_0            2557.883984\n",
       "MARK JWOJCIECHOWSKI_0       2354.993858\n",
       "DANIEL KGUESMAN_0           2348.315373\n",
       "CRAIG HRUSSELL_0            2282.800028\n",
       "WARD WRIGHTKING_0           1806.797998\n",
       "JOHN GROEMER_0              1653.527003\n",
       "YU TMORTON_0                1219.367472\n",
       "GARY RCOOK_0                 820.450929\n",
       "DOUGLAS EJOHNSON_0           693.257598\n",
       "JOHN PSTURGEON_0             455.272190\n",
       "DANIELCONNORS_0                8.167988\n",
       "Name: area, dtype: float64"
      ]
     },
     "execution_count": 26,
     "metadata": {},
     "output_type": "execute_result"
    }
   ],
   "source": [
    "parcel_dissolve.groupby('cluster_ID')['area'].mean().sort_values(ascending=False)"
   ]
  },
  {
   "cell_type": "code",
   "execution_count": 28,
   "metadata": {},
   "outputs": [],
   "source": [
    "mean_area = parcel_dissolve.groupby('cluster_ID')['area'].mean()\n",
    "super_parcel_ids = mean_area[mean_area > 100000].index\n",
    "super_parcels = parcel_dissolve[parcel_dissolve['cluster_ID'].isin(super_parcel_ids)]\n",
    "super_parcels = super_parcels[['cluster_ID', 'OWNER', 'geometry']]"
   ]
  },
  {
   "cell_type": "code",
   "execution_count": 29,
   "metadata": {},
   "outputs": [],
   "source": [
    "super_parcels['geometry'] = super_parcels['geometry'].buffer(dbscan_distance)\n",
    "super_parcels['geometry'] = super_parcels['geometry'].buffer(-dbscan_distance)\n"
   ]
  },
  {
   "cell_type": "code",
   "execution_count": 30,
   "metadata": {},
   "outputs": [],
   "source": [
    "super_parcels.to_file(os.path.join(output_dir, 'super_parcels_rbuff.shp'))"
   ]
  },
  {
   "cell_type": "code",
   "execution_count": null,
   "metadata": {},
   "outputs": [],
   "source": []
  }
 ],
 "metadata": {
  "kernelspec": {
   "display_name": "Python 3",
   "language": "python",
   "name": "python3"
  },
  "language_info": {
   "codemirror_mode": {
    "name": "ipython",
    "version": 3
   },
   "file_extension": ".py",
   "mimetype": "text/x-python",
   "name": "python",
   "nbconvert_exporter": "python",
   "pygments_lexer": "ipython3",
   "version": "3.11.4"
  }
 },
 "nbformat": 4,
 "nbformat_minor": 2
}
