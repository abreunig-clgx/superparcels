{
 "cells": [
  {
   "cell_type": "code",
   "execution_count": 9,
   "metadata": {},
   "outputs": [],
   "source": [
    "from sklearn.neighbors import NearestNeighbors\n",
    "from scipy.ndimage import uniform_filter1d\n",
    "from sklearn.cluster import DBSCAN\n",
    "import numpy as np\n",
    "import geopandas as gpd \n",
    "import os\n",
    "import pandas as pd \n",
    "from shapely.ops import nearest_points\n",
    "# ignore warnings\n",
    "import warnings\n",
    "warnings.filterwarnings('ignore')\n"
   ]
  },
  {
   "cell_type": "code",
   "execution_count": 11,
   "metadata": {},
   "outputs": [],
   "source": [
    "sample_size = 3"
   ]
  },
  {
   "cell_type": "code",
   "execution_count": 3,
   "metadata": {},
   "outputs": [],
   "source": [
    "def polygon_distance(polygon1, polygon2):\n",
    "    # Calculate the minimum distance between two polygons\n",
    "    point1, point2 = nearest_points(polygon1, polygon2)\n",
    "    return point1.distance(point2)\n",
    "\n",
    "def compute_distance_matrix(polygons):\n",
    "    # Create a distance matrix between all polygons\n",
    "    num_polygons = len(polygons)\n",
    "    distance_matrix = np.zeros((num_polygons, num_polygons))\n",
    "    \n",
    "    for i in range(num_polygons):\n",
    "        for j in range(i + 1, num_polygons):\n",
    "            distance_matrix[i, j] = polygon_distance(polygons[i], polygons[j])\n",
    "            distance_matrix[j, i] = distance_matrix[i, j]  # Symmetry\n",
    "    \n",
    "    return distance_matrix"
   ]
  },
  {
   "cell_type": "code",
   "execution_count": 43,
   "metadata": {},
   "outputs": [],
   "source": [
    "data_dir = r'D:\\Projects\\superparcels\\data\\Urban\\Alameda_CA'\n",
    "output_dir = r'D:\\Projects\\superparcels\\data\\urban\\outputs\\dmatrix'\n",
    "parcels = gpd.read_file(os.path.join(data_dir, 'sp_sample_06001_cluster_canidates.shp'))\n",
    "utm = parcels.estimate_utm_crs().to_epsg()"
   ]
  },
  {
   "cell_type": "code",
   "execution_count": 44,
   "metadata": {},
   "outputs": [],
   "source": [
    "parcels = parcels.to_crs(epsg=utm)  "
   ]
  },
  {
   "cell_type": "code",
   "execution_count": 45,
   "metadata": {},
   "outputs": [
    {
     "data": {
      "text/plain": [
       "OWNER\n",
       "DAVID SBOYD        70\n",
       "RAJNEESHSALWAN     60\n",
       "FAYEZ EABBOUD      51\n",
       "JOHN JSULLIVAN     49\n",
       "DANILOMAYORGA      46\n",
       "                   ..\n",
       "DOUGLAS ABROWN      1\n",
       "LAKSHMIKOSARAJU     1\n",
       "YUNGLINGCHEN        1\n",
       "MILANPETRENCIK      1\n",
       "LILLIANHOWAN        1\n",
       "Name: count, Length: 38644, dtype: int64"
      ]
     },
     "execution_count": 45,
     "metadata": {},
     "output_type": "execute_result"
    }
   ],
   "source": [
    "parcels['OWNER'].value_counts()"
   ]
  },
  {
   "cell_type": "code",
   "execution_count": 46,
   "metadata": {},
   "outputs": [
    {
     "name": "stdout",
     "output_type": "stream",
     "text": [
      "Number of unique owners: 38644\n"
     ]
    }
   ],
   "source": [
    "unique_owners = parcels['OWNER'].unique()\n",
    "print('Number of unique owners:', len(unique_owners))   "
   ]
  },
  {
   "cell_type": "code",
   "execution_count": 52,
   "metadata": {},
   "outputs": [
    {
     "name": "stdout",
     "output_type": "stream",
     "text": [
      "OWNER: PATRICK JMONAGHAN\n",
      "OWNER: PRADEEPCHIKKU\n",
      "OWNER: CHARLENE AHAWKINS\n",
      "OWNER: JUSTINKILBY\n",
      "OWNER: LUCYANDRADE\n",
      "OWNER: NORMANLEE\n",
      "OWNER: JOHN DSMITH\n",
      "OWNER: MAURICE EDANCE\n",
      "OWNER: GLENN CWENIG\n",
      "OWNER: TERESANAZARETH\n",
      "OWNER: WEI LZHAO\n",
      "OWNER: DUSTYGILLELAND\n",
      "OWNER: PATRICK BBAILEY\n",
      "OWNER: ROGER CTHOMPSON\n",
      "OWNER: THOMAS PSULLIVAN\n",
      "OWNER: GINASANFILIPPO\n",
      "OWNER: KATHYLEE\n",
      "OWNER: TIFFANYELAM\n",
      "OWNER: JOHNHARRIS\n",
      "OWNER: ESTELLA ETISCORNIA\n",
      "OWNER: HELEN HYU\n",
      "OWNER: JENNIFER ALEE\n",
      "OWNER: SHARON DROGERS\n",
      "OWNER: MARKATTARHA\n",
      "OWNER: SHAHABLAAL\n",
      "OWNER: CLINTJACKMAN\n",
      "OWNER: SANDEEPKAUR\n",
      "OWNER: FARHATSAFI\n",
      "OWNER: JASLEENKAUR\n",
      "OWNER: EVAN MJACKSON\n",
      "OWNER: JASONISSA GKARKAR\n",
      "OWNER: BENITO MDELGADOOLSON\n",
      "OWNER: IONASPORGESKIRIAKOU\n",
      "OWNER: ALFRED GBLOCH\n",
      "OWNER: MY QHUYNH\n",
      "OWNER: MINGJIANZHANG\n",
      "OWNER: ANNEPERKINS\n",
      "OWNER: PAMELA ERANDOLPH\n",
      "OWNER: SHAKIR AKHAN\n",
      "OWNER: BRANDENRENFRO\n",
      "OWNER: WILLIAMPRASAD\n",
      "OWNER: TONI KWILKERSON\n",
      "OWNER: JENNIE TDANG\n",
      "OWNER: JESUS OALCALA\n",
      "OWNER: BECKY AYAMAGAMI\n",
      "OWNER: SALVADORSANDOVAL\n",
      "OWNER: CARL PVALDERAMA\n",
      "OWNER: ANDRE JREYNIER\n",
      "OWNER: JOHN DWILLIAMS\n",
      "OWNER: CLAIREPREMONT\n",
      "OWNER: LEONARD LWONG\n",
      "OWNER: MARY EBELL\n",
      "OWNER: SUSAN MVILLA\n",
      "OWNER: KEVIN DCHAN\n",
      "OWNER: MARKUNGER\n",
      "OWNER: UMITALIS\n",
      "OWNER: ELMA TCONWAY\n",
      "OWNER: HNU\n",
      "OWNER: HUI ZYU\n",
      "OWNER: ERNESTALVIAR\n",
      "OWNER: ALLEN GKANADY\n",
      "OWNER: JEFFCAMBRA\n",
      "OWNER: GREGORY ASLIGH\n",
      "OWNER: CONRAD JBRANSON\n",
      "OWNER: JAMES SVOSSOUGHI\n",
      "OWNER: DANIELPEREIRA\n",
      "OWNER: DOLLY KRINGO\n",
      "OWNER: LAN HYUN\n",
      "OWNER: LILLYENG\n",
      "OWNER: YING CWU\n",
      "OWNER: SOON PLEE\n",
      "OWNER: CLARE CPORTER\n",
      "OWNER: YINGZHOU\n",
      "OWNER: DIANATWEDDALE\n",
      "OWNER: KHANH TTRAN\n",
      "OWNER: PHIEUDO\n",
      "OWNER: MICHAELOMI\n",
      "OWNER: CHONG BKIM\n",
      "OWNER: ALVIN KLAU\n",
      "OWNER: LINDAGOSSAGE\n",
      "OWNER: EDUARDO VVEGA\n",
      "OWNER: VARSHANEELESH\n",
      "OWNER: NANCY SYE\n",
      "OWNER: JIECHANG\n",
      "OWNER: ROHITSHARMA\n",
      "OWNER: ANDYLEE\n",
      "OWNER: CHENCHEN\n",
      "OWNER: PETER MLANDON\n",
      "OWNER: ROBERT JROSE\n",
      "OWNER: FREDERICMORRISON\n",
      "OWNER: MICHAELTOSTADO\n",
      "OWNER: SCOTTROGERS\n",
      "OWNER: EUGENEFONG\n",
      "OWNER: JINLIU\n",
      "OWNER: MAXWELLBAFFOETWUM\n",
      "OWNER: QIANGLI\n",
      "OWNER: WEISUN\n",
      "OWNER: XIAOHUAXU\n",
      "OWNER: KATHLEEN AWEISS\n",
      "OWNER: BRENDAGOLIANU\n",
      "OWNER: KETULSHAH\n",
      "OWNER: SOEMOEAUNG\n",
      "OWNER: MOZHOU\n",
      "OWNER: LIHUANG\n",
      "OWNER: XINHUANG\n",
      "OWNER: KENNETH DDURAN\n",
      "OWNER: FENGZHOU\n",
      "OWNER: SURESH MGOHIL\n",
      "OWNER: WEIGAO\n",
      "OWNER: ARUN LJADHAV\n",
      "OWNER: GURPREETKAUR\n",
      "OWNER: CRAIG EJOHNSON\n",
      "OWNER: RAYCHEN\n",
      "OWNER: APRILCHAU\n",
      "OWNER: VISHALVERMA\n",
      "OWNER: RICHARD CFELL\n",
      "OWNER: PARAGPRADHAN\n",
      "OWNER: THINH DNGUYEN\n",
      "OWNER: VINESHSUKUMAR\n",
      "OWNER: SUDHIRSUBRAMANYA\n",
      "OWNER: TORIBIORAMIREZ\n",
      "OWNER: ERIC WTSAI\n",
      "OWNER: CHARLES HSCARANO\n",
      "OWNER: RICHARD PMARIADASS\n",
      "OWNER: JACK TWONG\n",
      "OWNER: RICKY LBAKER\n",
      "OWNER: MARTHA CRUBIO\n",
      "OWNER: JAMES PAMARAL\n",
      "OWNER: SHAILESHHEDAOO\n",
      "OWNER: VIKRAMSINGHVI\n",
      "OWNER: VIET QNGUYEN\n",
      "OWNER: GURMEETSINGH\n",
      "OWNER: JOHN WMARTIN\n",
      "OWNER: AHMED KSADIQ\n",
      "OWNER: PARAMJITKAUR\n",
      "OWNER: IRVINGCHAO\n",
      "OWNER: GUDAWARSINGH\n",
      "OWNER: GANPINGSUN\n",
      "OWNER: BOLI\n",
      "OWNER: DARRYLLOPEZ\n",
      "OWNER: FANYANG\n",
      "OWNER: DAVINDERKUMAR\n",
      "OWNER: GOPAL KGARG\n",
      "OWNER: ARTUROVALDEZ\n",
      "OWNER: MARIORODRIGUEZ\n"
     ]
    },
    {
     "ename": "KeyboardInterrupt",
     "evalue": "",
     "output_type": "error",
     "traceback": [
      "\u001b[1;31m---------------------------------------------------------------------------\u001b[0m",
      "\u001b[1;31mKeyboardInterrupt\u001b[0m                         Traceback (most recent call last)",
      "\u001b[1;32m~\\AppData\\Local\\Temp\\2\\ipykernel_1324\\554513235.py\u001b[0m in \u001b[0;36m?\u001b[1;34m()\u001b[0m\n\u001b[0;32m      2\u001b[0m \u001b[0msingle_parcel_data\u001b[0m \u001b[1;33m=\u001b[0m \u001b[0mgpd\u001b[0m\u001b[1;33m.\u001b[0m\u001b[0mGeoDataFrame\u001b[0m\u001b[1;33m(\u001b[0m\u001b[1;33m)\u001b[0m\u001b[1;33m\u001b[0m\u001b[1;33m\u001b[0m\u001b[0m\n\u001b[0;32m      3\u001b[0m \u001b[1;32mfor\u001b[0m \u001b[0mowner\u001b[0m \u001b[1;32min\u001b[0m \u001b[0munique_owners\u001b[0m\u001b[1;33m:\u001b[0m\u001b[1;33m\u001b[0m\u001b[1;33m\u001b[0m\u001b[0m\n\u001b[0;32m      4\u001b[0m     \u001b[0mprint\u001b[0m\u001b[1;33m(\u001b[0m\u001b[1;34mf'OWNER: {owner}'\u001b[0m\u001b[1;33m)\u001b[0m\u001b[1;33m\u001b[0m\u001b[1;33m\u001b[0m\u001b[0m\n\u001b[0;32m      5\u001b[0m \u001b[1;33m\u001b[0m\u001b[0m\n\u001b[1;32m----> 6\u001b[1;33m     \u001b[0mowner_parcels\u001b[0m \u001b[1;33m=\u001b[0m \u001b[0mparcels\u001b[0m\u001b[1;33m[\u001b[0m\u001b[0mparcels\u001b[0m\u001b[1;33m[\u001b[0m\u001b[1;34m'OWNER'\u001b[0m\u001b[1;33m]\u001b[0m \u001b[1;33m==\u001b[0m \u001b[0mowner\u001b[0m\u001b[1;33m]\u001b[0m\u001b[1;33m\u001b[0m\u001b[1;33m\u001b[0m\u001b[0m\n\u001b[0m\u001b[0;32m      7\u001b[0m     \u001b[0mpolygons\u001b[0m \u001b[1;33m=\u001b[0m \u001b[0mowner_parcels\u001b[0m\u001b[1;33m[\u001b[0m\u001b[1;34m'geometry'\u001b[0m\u001b[1;33m]\u001b[0m\u001b[1;33m.\u001b[0m\u001b[0mto_list\u001b[0m\u001b[1;33m(\u001b[0m\u001b[1;33m)\u001b[0m\u001b[1;33m\u001b[0m\u001b[1;33m\u001b[0m\u001b[0m\n\u001b[0;32m      8\u001b[0m     \u001b[0mdistance_matrix\u001b[0m \u001b[1;33m=\u001b[0m \u001b[0mcompute_distance_matrix\u001b[0m\u001b[1;33m(\u001b[0m\u001b[0mpolygons\u001b[0m\u001b[1;33m)\u001b[0m\u001b[1;33m\u001b[0m\u001b[1;33m\u001b[0m\u001b[0m\n\u001b[0;32m      9\u001b[0m \u001b[1;33m\u001b[0m\u001b[0m\n",
      "\u001b[1;32md:\\mini-forge\\envs\\growth_model\\Lib\\site-packages\\geopandas\\geodataframe.py\u001b[0m in \u001b[0;36m?\u001b[1;34m(self, key)\u001b[0m\n\u001b[0;32m   1471\u001b[0m         \u001b[0mIf\u001b[0m \u001b[0mthe\u001b[0m \u001b[0mresult\u001b[0m \u001b[1;32mis\u001b[0m \u001b[0ma\u001b[0m \u001b[0mcolumn\u001b[0m \u001b[0mcontaining\u001b[0m \u001b[0monly\u001b[0m \u001b[1;34m'geometry'\u001b[0m\u001b[1;33m,\u001b[0m \u001b[1;32mreturn\u001b[0m \u001b[0ma\u001b[0m\u001b[1;33m\u001b[0m\u001b[1;33m\u001b[0m\u001b[0m\n\u001b[0;32m   1472\u001b[0m         \u001b[0mGeoSeries\u001b[0m\u001b[1;33m.\u001b[0m \u001b[0mIf\u001b[0m \u001b[0mit\u001b[0m\u001b[0;31m'\u001b[0m\u001b[0ms\u001b[0m \u001b[0ma\u001b[0m \u001b[0mDataFrame\u001b[0m \u001b[1;32mwith\u001b[0m \u001b[0many\u001b[0m \u001b[0mcolumns\u001b[0m \u001b[0mof\u001b[0m \u001b[0mGeometryDtype\u001b[0m\u001b[1;33m,\u001b[0m\u001b[1;33m\u001b[0m\u001b[1;33m\u001b[0m\u001b[0m\n\u001b[0;32m   1473\u001b[0m         \u001b[1;32mreturn\u001b[0m \u001b[0ma\u001b[0m \u001b[0mGeoDataFrame\u001b[0m\u001b[1;33m.\u001b[0m\u001b[1;33m\u001b[0m\u001b[1;33m\u001b[0m\u001b[0m\n\u001b[0;32m   1474\u001b[0m         \"\"\"\n\u001b[1;32m-> 1475\u001b[1;33m         \u001b[0mresult\u001b[0m \u001b[1;33m=\u001b[0m \u001b[0msuper\u001b[0m\u001b[1;33m(\u001b[0m\u001b[1;33m)\u001b[0m\u001b[1;33m.\u001b[0m\u001b[0m__getitem__\u001b[0m\u001b[1;33m(\u001b[0m\u001b[0mkey\u001b[0m\u001b[1;33m)\u001b[0m\u001b[1;33m\u001b[0m\u001b[1;33m\u001b[0m\u001b[0m\n\u001b[0m\u001b[0;32m   1476\u001b[0m         \u001b[1;31m# Custom logic to avoid waiting for pandas GH51895\u001b[0m\u001b[1;33m\u001b[0m\u001b[1;33m\u001b[0m\u001b[0m\n\u001b[0;32m   1477\u001b[0m         \u001b[1;31m# result is not geometry dtype for multi-indexes\u001b[0m\u001b[1;33m\u001b[0m\u001b[1;33m\u001b[0m\u001b[0m\n\u001b[0;32m   1478\u001b[0m         if (\n",
      "\u001b[1;32md:\\mini-forge\\envs\\growth_model\\Lib\\site-packages\\pandas\\core\\frame.py\u001b[0m in \u001b[0;36m?\u001b[1;34m(self, key)\u001b[0m\n\u001b[0;32m   3748\u001b[0m             \u001b[1;32mreturn\u001b[0m \u001b[0mself\u001b[0m\u001b[1;33m.\u001b[0m\u001b[0mwhere\u001b[0m\u001b[1;33m(\u001b[0m\u001b[0mkey\u001b[0m\u001b[1;33m)\u001b[0m\u001b[1;33m\u001b[0m\u001b[1;33m\u001b[0m\u001b[0m\n\u001b[0;32m   3749\u001b[0m \u001b[1;33m\u001b[0m\u001b[0m\n\u001b[0;32m   3750\u001b[0m         \u001b[1;31m# Do we have a (boolean) 1d indexer?\u001b[0m\u001b[1;33m\u001b[0m\u001b[1;33m\u001b[0m\u001b[0m\n\u001b[0;32m   3751\u001b[0m         \u001b[1;32mif\u001b[0m \u001b[0mcom\u001b[0m\u001b[1;33m.\u001b[0m\u001b[0mis_bool_indexer\u001b[0m\u001b[1;33m(\u001b[0m\u001b[0mkey\u001b[0m\u001b[1;33m)\u001b[0m\u001b[1;33m:\u001b[0m\u001b[1;33m\u001b[0m\u001b[1;33m\u001b[0m\u001b[0m\n\u001b[1;32m-> 3752\u001b[1;33m             \u001b[1;32mreturn\u001b[0m \u001b[0mself\u001b[0m\u001b[1;33m.\u001b[0m\u001b[0m_getitem_bool_array\u001b[0m\u001b[1;33m(\u001b[0m\u001b[0mkey\u001b[0m\u001b[1;33m)\u001b[0m\u001b[1;33m\u001b[0m\u001b[1;33m\u001b[0m\u001b[0m\n\u001b[0m\u001b[0;32m   3753\u001b[0m \u001b[1;33m\u001b[0m\u001b[0m\n\u001b[0;32m   3754\u001b[0m         \u001b[1;31m# We are left with two options: a single key, and a collection of keys,\u001b[0m\u001b[1;33m\u001b[0m\u001b[1;33m\u001b[0m\u001b[0m\n\u001b[0;32m   3755\u001b[0m         \u001b[1;31m# We interpret tuples as collections only for non-MultiIndex\u001b[0m\u001b[1;33m\u001b[0m\u001b[1;33m\u001b[0m\u001b[0m\n",
      "\u001b[1;32md:\\mini-forge\\envs\\growth_model\\Lib\\site-packages\\pandas\\core\\frame.py\u001b[0m in \u001b[0;36m?\u001b[1;34m(self, key)\u001b[0m\n\u001b[0;32m   3806\u001b[0m \u001b[1;33m\u001b[0m\u001b[0m\n\u001b[0;32m   3807\u001b[0m         \u001b[1;32mif\u001b[0m \u001b[0mkey\u001b[0m\u001b[1;33m.\u001b[0m\u001b[0mall\u001b[0m\u001b[1;33m(\u001b[0m\u001b[1;33m)\u001b[0m\u001b[1;33m:\u001b[0m\u001b[1;33m\u001b[0m\u001b[1;33m\u001b[0m\u001b[0m\n\u001b[0;32m   3808\u001b[0m             \u001b[1;32mreturn\u001b[0m \u001b[0mself\u001b[0m\u001b[1;33m.\u001b[0m\u001b[0mcopy\u001b[0m\u001b[1;33m(\u001b[0m\u001b[0mdeep\u001b[0m\u001b[1;33m=\u001b[0m\u001b[1;32mNone\u001b[0m\u001b[1;33m)\u001b[0m\u001b[1;33m\u001b[0m\u001b[1;33m\u001b[0m\u001b[0m\n\u001b[0;32m   3809\u001b[0m \u001b[1;33m\u001b[0m\u001b[0m\n\u001b[1;32m-> 3810\u001b[1;33m         \u001b[0mindexer\u001b[0m \u001b[1;33m=\u001b[0m \u001b[0mkey\u001b[0m\u001b[1;33m.\u001b[0m\u001b[0mnonzero\u001b[0m\u001b[1;33m(\u001b[0m\u001b[1;33m)\u001b[0m\u001b[1;33m[\u001b[0m\u001b[1;36m0\u001b[0m\u001b[1;33m]\u001b[0m\u001b[1;33m\u001b[0m\u001b[1;33m\u001b[0m\u001b[0m\n\u001b[0m\u001b[0;32m   3811\u001b[0m         \u001b[1;32mreturn\u001b[0m \u001b[0mself\u001b[0m\u001b[1;33m.\u001b[0m\u001b[0m_take_with_is_copy\u001b[0m\u001b[1;33m(\u001b[0m\u001b[0mindexer\u001b[0m\u001b[1;33m,\u001b[0m \u001b[0maxis\u001b[0m\u001b[1;33m=\u001b[0m\u001b[1;36m0\u001b[0m\u001b[1;33m)\u001b[0m\u001b[1;33m\u001b[0m\u001b[1;33m\u001b[0m\u001b[0m\n",
      "\u001b[1;31mKeyboardInterrupt\u001b[0m: "
     ]
    }
   ],
   "source": [
    "clustered_parcel_data = gpd.GeoDataFrame()\n",
    "single_parcel_data = gpd.GeoDataFrame()\n",
    "for owner in unique_owners:\n",
    "    print(f'OWNER: {owner}')\n",
    "\n",
    "    owner_parcels = parcels[parcels['OWNER'] == owner]\n",
    "    polygons = owner_parcels['geometry'].to_list()\n",
    "    distance_matrix = compute_distance_matrix(polygons)\n",
    "\n",
    "    if distance_matrix.ndim < sample_size:\n",
    "        continue\n",
    "    \n",
    "    # get distance greater than 0 but minimum distance\n",
    "    if np.all(distance_matrix == 0):\n",
    "        min_valid_distance = 3\n",
    "        \n",
    "    else:\n",
    "        min_valid_distance = np.round(np.min(distance_matrix[distance_matrix > 0]))\n",
    "        print(f'Minimum valid distance: {min_valid_distance}')\n",
    "\n",
    "    # Assuming distance_matrix is the precomputed distance matrix\n",
    "    neighbors = NearestNeighbors(n_neighbors=sample_size, metric='precomputed')\n",
    "    neighbors_fit = neighbors.fit(distance_matrix)\n",
    "    \n",
    "    distances, indices = neighbors_fit.kneighbors(distance_matrix)\n",
    "    continue\n",
    "    # Sort distances to the k-th nearest neighbor\n",
    "    sorted_distances = np.sort(distances[:, sample_size-1])\n",
    "    smooth_dist = uniform_filter1d(sorted_distances, size=10)\n",
    "    difference = np.diff(smooth_dist)\n",
    "    elbow_index = np.argmax(difference) + 1\n",
    "    optimal_distance = np.round(smooth_dist[elbow_index])\n",
    "    print(f'Optimal distance: {optimal_distance}')\n",
    "    \n",
    "    dbscan = DBSCAN(eps=optimal_distance, min_samples=sample_size, metric='precomputed')\n",
    "    clusters = dbscan.fit_predict(distance_matrix)\n",
    "    owner_parcels['cluster'] = clusters \n",
    "    owner_parcels['area'] = owner_parcels['geometry'].area\n",
    "    counts = owner_parcels['cluster'].value_counts()\n",
    "    \n",
    "    #single_parcel_clusters = counts[counts == 1].index\n",
    "    low_parcel_clusters = counts[counts < 3].index\n",
    "    outliers = counts[counts.index == -1].index\n",
    "    single_parcel_filter_ids = set(list(outliers) + list(low_parcel_clusters))\n",
    "        \n",
    "    single_parcel_filter = owner_parcels[owner_parcels['cluster'].isin(single_parcel_filter_ids)]\n",
    "    single_parcel_data = pd.concat([single_parcel_data, single_parcel_filter], ignore_index=True)\n",
    "    \n",
    "    cluster_filter = owner_parcels[~owner_parcels['cluster'].isin(single_parcel_filter_ids)]\n",
    "    if len(cluster_filter) > 0:\n",
    "        cluster_filter['buff_dist'] = min_valid_distance\n",
    "        clustered_parcel_data = pd.concat([clustered_parcel_data, cluster_filter], ignore_index=True)\n",
    "    print('______________________________________________________________________________________')\n",
    "    break        \n",
    "\n",
    "    "
   ]
  },
  {
   "cell_type": "markdown",
   "metadata": {},
   "source": [
    "Example of Owner containing two parcels with their respective distances to eachother (meters)"
   ]
  },
  {
   "cell_type": "code",
   "execution_count": 51,
   "metadata": {},
   "outputs": [
    {
     "data": {
      "text/plain": [
       "2"
      ]
     },
     "execution_count": 51,
     "metadata": {},
     "output_type": "execute_result"
    }
   ],
   "source": [
    "distance_matrix.ndim"
   ]
  },
  {
   "cell_type": "code",
   "execution_count": 36,
   "metadata": {},
   "outputs": [],
   "source": [
    "# create cluster ID\n",
    "clustered_parcel_data['cluster_ID'] = clustered_parcel_data['OWNER'] + '_' + clustered_parcel_data['cluster'].astype(str)\n",
    "single_parcel_data['cluster_ID'] = single_parcel_data['OWNER'] + '_' + single_parcel_data['cluster'].astype(str)"
   ]
  },
  {
   "cell_type": "code",
   "execution_count": 37,
   "metadata": {},
   "outputs": [],
   "source": [
    "parcel_dissolve = clustered_parcel_data.dissolve(by='cluster_ID').reset_index()\n"
   ]
  },
  {
   "cell_type": "code",
   "execution_count": 38,
   "metadata": {},
   "outputs": [],
   "source": [
    "parcel_dissolve['area'] = parcel_dissolve['geometry'].area"
   ]
  },
  {
   "cell_type": "code",
   "execution_count": 39,
   "metadata": {},
   "outputs": [
    {
     "data": {
      "text/plain": [
       "cluster_ID\n",
       "COLEMANFOLEY_0    1.592413e+07\n",
       "Name: area, dtype: float64"
      ]
     },
     "execution_count": 39,
     "metadata": {},
     "output_type": "execute_result"
    }
   ],
   "source": [
    "parcel_dissolve.groupby('cluster_ID')['area'].mean().sort_values(ascending=False)"
   ]
  },
  {
   "cell_type": "code",
   "execution_count": 40,
   "metadata": {},
   "outputs": [],
   "source": [
    "mean_area = parcel_dissolve.groupby('cluster_ID')['area'].mean()\n",
    "super_parcel_ids = mean_area[mean_area > 100000].index\n",
    "super_parcels = parcel_dissolve[parcel_dissolve['cluster_ID'].isin(super_parcel_ids)]\n",
    "super_parcels = super_parcels[['cluster_ID', 'OWNER', 'area', 'buff_dist', 'geometry']]"
   ]
  },
  {
   "cell_type": "code",
   "execution_count": 41,
   "metadata": {},
   "outputs": [],
   "source": [
    "# Define a function to buffer the geometry by its buff_dist\n",
    "def buffer_geometry(geometry, buff_dist):\n",
    "    return geometry.buffer(buff_dist)\n",
    "\n",
    "# Use map to apply the buffer_geometry function to each geometry and buff_dist\n",
    "super_parcels['geometry'] = list(map(buffer_geometry, super_parcels['geometry'], super_parcels['buff_dist']))\n",
    "super_parcels['geometry'] = list(map(buffer_geometry, super_parcels['geometry'], -super_parcels['buff_dist']))\n"
   ]
  },
  {
   "cell_type": "code",
   "execution_count": null,
   "metadata": {},
   "outputs": [],
   "source": []
  },
  {
   "cell_type": "code",
   "execution_count": 29,
   "metadata": {},
   "outputs": [],
   "source": [
    "super_parcels['geometry'] = super_parcels['geometry'].buffer(dbscan_distance)\n",
    "super_parcels['geometry'] = super_parcels['geometry'].buffer(-dbscan_distance)\n"
   ]
  },
  {
   "cell_type": "code",
   "execution_count": 42,
   "metadata": {},
   "outputs": [],
   "source": [
    "super_parcels.to_file(os.path.join(data_dir, 'super_parcels_rbuff_var.shp'))"
   ]
  },
  {
   "cell_type": "code",
   "execution_count": null,
   "metadata": {},
   "outputs": [],
   "source": []
  }
 ],
 "metadata": {
  "kernelspec": {
   "display_name": "Python 3",
   "language": "python",
   "name": "python3"
  },
  "language_info": {
   "codemirror_mode": {
    "name": "ipython",
    "version": 3
   },
   "file_extension": ".py",
   "mimetype": "text/x-python",
   "name": "python",
   "nbconvert_exporter": "python",
   "pygments_lexer": "ipython3",
   "version": "3.11.4"
  }
 },
 "nbformat": 4,
 "nbformat_minor": 2
}
