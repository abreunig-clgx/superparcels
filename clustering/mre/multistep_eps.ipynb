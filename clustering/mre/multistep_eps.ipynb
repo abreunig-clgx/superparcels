{
 "cells": [
  {
   "cell_type": "code",
   "execution_count": 28,
   "id": "1dfd474f",
   "metadata": {},
   "outputs": [],
   "source": [
    "from maply.geometry import Polygon\n",
    "from maply.plot import Map\n",
    "import geopandas as gpd\n",
    "import pandas as pd\n",
    "\n",
    "\n",
    "import sys\n",
    "import os\n",
    "\n",
    "sys.path.append(os.path.abspath(os.path.join(os.path.dirname(os.getcwd()), '..', 'src')))\n",
    "from sp_geoprocessing import cluster, superparcels"
   ]
  },
  {
   "cell_type": "code",
   "execution_count": 29,
   "id": "a8d91a00",
   "metadata": {},
   "outputs": [],
   "source": [
    "p1 = Polygon(origin=(0,0), size=(1,1), data={'id': 'A'})\n",
    "p2 = Polygon(origin=(1,0), size=(1,1), data={'id': 'B'})\n",
    "p3 = Polygon(origin=(0,1), size=(1,1), data={'id': 'A'})\n",
    "p4 = Polygon(origin=(1,1), size=(1,1), data={'id': 'B'})\n",
    "\n",
    "p5 = Polygon(origin=(4,0), size=(1,1), data={'id': 'A'})\n",
    "p6 = Polygon(origin=(4,1), size=(1,1), data={'id': 'A'})\n",
    "p7 = Polygon(origin=(5,0), size=(1,1), data={'id': 'A'})\n",
    "p8 = Polygon(origin=(5,1), size=(1,1), data={'id': 'A'})\n",
    "\n",
    "p9 = Polygon(origin=(4,3), size=(1,1), data={'id': 'A'})\n",
    "p10 = Polygon(origin=(5,3), size=(1,1), data={'id': 'A'})\n",
    "\n",
    "p_list = [p1, p2, p3, p4, p5, p6, p7, p8, p9, p10]"
   ]
  },
  {
   "cell_type": "code",
   "execution_count": 30,
   "id": "a3abf765",
   "metadata": {},
   "outputs": [
    {
     "data": {
      "image/png": "[encoded data removed]",
      "text/plain": [
       "<Figure size 1000x1000 with 1 Axes>"
      ]
     },
     "metadata": {},
     "output_type": "display_data"
    }
   ],
   "source": [
    "test_map = Map()\n",
    "for p in p_list:\n",
    "    test_map.add_shape(p, style={'facecolor': 'none'}, label='id')\n",
    "test_map.plot()"
   ]
  },
  {
   "cell_type": "code",
   "execution_count": 32,
   "id": "beffe2d2",
   "metadata": {},
   "outputs": [
    {
     "data": {
      "text/html": [
       "<div>\n",
       "<style scoped>\n",
       "    .dataframe tbody tr th:only-of-type {\n",
       "        vertical-align: middle;\n",
       "    }\n",
       "\n",
       "    .dataframe tbody tr th {\n",
       "        vertical-align: top;\n",
       "    }\n",
       "\n",
       "    .dataframe thead th {\n",
       "        text-align: right;\n",
       "    }\n",
       "</style>\n",
       "<table border=\"1\" class=\"dataframe\">\n",
       "  <thead>\n",
       "    <tr style=\"text-align: right;\">\n",
       "      <th></th>\n",
       "      <th>id</th>\n",
       "      <th>geometry</th>\n",
       "    </tr>\n",
       "  </thead>\n",
       "  <tbody>\n",
       "    <tr>\n",
       "      <th>0</th>\n",
       "      <td>A</td>\n",
       "      <td>POLYGON ((0 0, 1 0, 1 1, 0 1, 0 0))</td>\n",
       "    </tr>\n",
       "    <tr>\n",
       "      <th>1</th>\n",
       "      <td>B</td>\n",
       "      <td>POLYGON ((1 0, 2 0, 2 1, 1 1, 1 0))</td>\n",
       "    </tr>\n",
       "    <tr>\n",
       "      <th>2</th>\n",
       "      <td>A</td>\n",
       "      <td>POLYGON ((0 1, 1 1, 1 2, 0 2, 0 1))</td>\n",
       "    </tr>\n",
       "    <tr>\n",
       "      <th>3</th>\n",
       "      <td>B</td>\n",
       "      <td>POLYGON ((1 1, 2 1, 2 2, 1 2, 1 1))</td>\n",
       "    </tr>\n",
       "    <tr>\n",
       "      <th>4</th>\n",
       "      <td>A</td>\n",
       "      <td>POLYGON ((4 0, 5 0, 5 1, 4 1, 4 0))</td>\n",
       "    </tr>\n",
       "    <tr>\n",
       "      <th>5</th>\n",
       "      <td>A</td>\n",
       "      <td>POLYGON ((4 1, 5 1, 5 2, 4 2, 4 1))</td>\n",
       "    </tr>\n",
       "    <tr>\n",
       "      <th>6</th>\n",
       "      <td>A</td>\n",
       "      <td>POLYGON ((5 0, 6 0, 6 1, 5 1, 5 0))</td>\n",
       "    </tr>\n",
       "    <tr>\n",
       "      <th>7</th>\n",
       "      <td>A</td>\n",
       "      <td>POLYGON ((5 1, 6 1, 6 2, 5 2, 5 1))</td>\n",
       "    </tr>\n",
       "    <tr>\n",
       "      <th>8</th>\n",
       "      <td>A</td>\n",
       "      <td>POLYGON ((4 3, 5 3, 5 4, 4 4, 4 3))</td>\n",
       "    </tr>\n",
       "    <tr>\n",
       "      <th>9</th>\n",
       "      <td>A</td>\n",
       "      <td>POLYGON ((5 3, 6 3, 6 4, 5 4, 5 3))</td>\n",
       "    </tr>\n",
       "  </tbody>\n",
       "</table>\n",
       "</div>"
      ],
      "text/plain": [
       "  id                             geometry\n",
       "0  A  POLYGON ((0 0, 1 0, 1 1, 0 1, 0 0))\n",
       "1  B  POLYGON ((1 0, 2 0, 2 1, 1 1, 1 0))\n",
       "2  A  POLYGON ((0 1, 1 1, 1 2, 0 2, 0 1))\n",
       "3  B  POLYGON ((1 1, 2 1, 2 2, 1 2, 1 1))\n",
       "4  A  POLYGON ((4 0, 5 0, 5 1, 4 1, 4 0))\n",
       "5  A  POLYGON ((4 1, 5 1, 5 2, 4 2, 4 1))\n",
       "6  A  POLYGON ((5 0, 6 0, 6 1, 5 1, 5 0))\n",
       "7  A  POLYGON ((5 1, 6 1, 6 2, 5 2, 5 1))\n",
       "8  A  POLYGON ((4 3, 5 3, 5 4, 4 4, 4 3))\n",
       "9  A  POLYGON ((5 3, 6 3, 6 4, 5 4, 5 3))"
      ]
     },
     "execution_count": 32,
     "metadata": {},
     "output_type": "execute_result"
    }
   ],
   "source": [
    "candidate_parcels = gpd.GeoDataFrame()\n",
    "for p in p_list:\n",
    "    candidate_parcels = pd.concat([candidate_parcels, p.to_gdf()], ignore_index=True)\n",
    "candidate_parcels = candidate_parcels.reset_index(drop=True)\n",
    "candidate_parcels"
   ]
  },
  {
   "cell_type": "code",
   "execution_count": null,
   "id": "59202496",
   "metadata": {},
   "outputs": [
    {
     "name": "stdout",
     "output_type": "stream",
     "text": [
      "Owner: A\n",
      "Eps: 6\n",
      "[0 0 0 0 0 0 0 0]\n",
      "Eps: 3\n",
      "[0 0 0 0 0 0 0 0]\n",
      "______\n",
      "Owner: B\n",
      "Eps: 6\n",
      "[]\n",
      "Eps: 3\n",
      "[]\n",
      "______\n"
     ]
    }
   ],
   "source": [
    "# multi step eps\n",
    "eps_list = [6, 3]\n",
    "\n",
    "for owner in candidate_parcels['id'].unique():\n",
    "    print(f'Owner: {owner}')\n",
    "    owner_parcels = candidate_parcels[candidate_parcels['id'] == owner]\n",
    "    for eps in eps_list:\n",
    "        print(f'Eps: {eps}')\n",
    "        clusters = cluster.build_owner_clusters(\n",
    "            owner_parcels, \n",
    "            min_samples=3,\n",
    "            eps=eps\n",
    "        )\n",
    "        \n",
    "        print(clusters)\n",
    "    print('______')"
   ]
  },
  {
   "cell_type": "code",
   "execution_count": null,
   "id": "a5e53714",
   "metadata": {},
   "outputs": [],
   "source": []
  }
 ],
 "metadata": {
  "kernelspec": {
   "display_name": "sp_dev",
   "language": "python",
   "name": "python3"
  },
  "language_info": {
   "codemirror_mode": {
    "name": "ipython",
    "version": 3
   },
   "file_extension": ".py",
   "mimetype": "text/x-python",
   "name": "python",
   "nbconvert_exporter": "python",
   "pygments_lexer": "ipython3",
   "version": "3.11.11"
  }
 },
 "nbformat": 4,
 "nbformat_minor": 5
}
