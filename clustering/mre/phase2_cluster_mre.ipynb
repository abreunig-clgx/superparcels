{
 "cells": [
  {
   "cell_type": "code",
   "execution_count": 161,
   "metadata": {},
   "outputs": [],
   "source": [
    "from geometry import *\n",
    "\n",
    "from shapely.ops import nearest_points\n",
    "from sklearn.neighbors import NearestNeighbors\n",
    "from scipy.ndimage import uniform_filter1d\n",
    "import numpy as np\n",
    "from math import ceil\n",
    "from sklearn.cluster import DBSCAN\n",
    "import warnings\n",
    "warnings.filterwarnings('ignore')"
   ]
  },
  {
   "cell_type": "markdown",
   "metadata": {},
   "source": [
    "### MRE Data: County and Place Data\n",
    "Place boundaries represent locally dense urban areas. Boundaries will be used initally as a proxy for regional parcel density where adaptive eps will be calcualted. "
   ]
  },
  {
   "cell_type": "code",
   "execution_count": 162,
   "metadata": {},
   "outputs": [],
   "source": [
    "county1 = mPolygon(origin=(0,0), size=(25,25), alpha=0)"
   ]
  },
  {
   "cell_type": "code",
   "execution_count": 163,
   "metadata": {},
   "outputs": [
    {
     "data": {
      "text/html": [
       "<div>\n",
       "<style scoped>\n",
       "    .dataframe tbody tr th:only-of-type {\n",
       "        vertical-align: middle;\n",
       "    }\n",
       "\n",
       "    .dataframe tbody tr th {\n",
       "        vertical-align: top;\n",
       "    }\n",
       "\n",
       "    .dataframe thead th {\n",
       "        text-align: right;\n",
       "    }\n",
       "</style>\n",
       "<table border=\"1\" class=\"dataframe\">\n",
       "  <thead>\n",
       "    <tr style=\"text-align: right;\">\n",
       "      <th></th>\n",
       "      <th>Place</th>\n",
       "      <th>geometry</th>\n",
       "    </tr>\n",
       "  </thead>\n",
       "  <tbody>\n",
       "    <tr>\n",
       "      <th>0</th>\n",
       "      <td>P1</td>\n",
       "      <td>POLYGON ((0.00000 0.00000, 10.00000 0.00000, 1...</td>\n",
       "    </tr>\n",
       "    <tr>\n",
       "      <th>1</th>\n",
       "      <td>P2</td>\n",
       "      <td>POLYGON ((0.00000 12.00000, 10.00000 12.00000,...</td>\n",
       "    </tr>\n",
       "    <tr>\n",
       "      <th>2</th>\n",
       "      <td>P3</td>\n",
       "      <td>POLYGON ((14.00000 5.00000, 24.00000 5.00000, ...</td>\n",
       "    </tr>\n",
       "  </tbody>\n",
       "</table>\n",
       "</div>"
      ],
      "text/plain": [
       "  Place                                           geometry\n",
       "0    P1  POLYGON ((0.00000 0.00000, 10.00000 0.00000, 1...\n",
       "1    P2  POLYGON ((0.00000 12.00000, 10.00000 12.00000,...\n",
       "2    P3  POLYGON ((14.00000 5.00000, 24.00000 5.00000, ..."
      ]
     },
     "execution_count": 163,
     "metadata": {},
     "output_type": "execute_result"
    }
   ],
   "source": [
    "place1 = mPolygon(origin=(0, 0), size=(10, 10))\n",
    "place2 = mPolygon(origin=(0, 12), size=(10, 10))\n",
    "place3 = mPolygon(origin=(14, 5), size=(10, 10))\n",
    "places = [place1, place2, place3]\n",
    "\n",
    "place_data = {\n",
    "    'Place': ['P1', 'P2', 'P3']\n",
    "}\n",
    "place_gdf = GeoDataFrame(place_data, places).build()\n",
    "place_gdf"
   ]
  },
  {
   "cell_type": "code",
   "execution_count": 164,
   "metadata": {},
   "outputs": [],
   "source": [
    "map = Map()"
   ]
  },
  {
   "cell_type": "code",
   "execution_count": 165,
   "metadata": {},
   "outputs": [
    {
     "data": {
      "image/png": "[encoded data removed]",
      "text/plain": [
       "<Figure size 640x480 with 1 Axes>"
      ]
     },
     "metadata": {},
     "output_type": "display_data"
    }
   ],
   "source": [
    "map.add_gdf(place_gdf, label='Place', alpha=0)\n",
    "map.add_shape(county1)\n",
    "map.plot()"
   ]
  },
  {
   "cell_type": "markdown",
   "metadata": {},
   "source": [
    "### Places 1 Parcel Data"
   ]
  },
  {
   "cell_type": "code",
   "execution_count": 166,
   "metadata": {},
   "outputs": [],
   "source": [
    "p1_1 = mPolygon(origin=(0, 0), size=(2,2))\n",
    "p1_2 = mPolygon(origin=(0,2), size=(2,2))\n",
    "p1_3 = mPolygon(origin=(0,4), size=(2,2))\n",
    "p1_4 = mPolygon(origin=(0,6), size=(2,2))\n",
    "p1_5 = mPolygon(origin=(0,8), size=(2,2))\n",
    "p1_6 = mPolygon(origin=(2,0), size=(2,2))\n",
    "p1_7 = mPolygon(origin=(2,2), size=(2,2))\n",
    "p1_8 = mPolygon(origin=(2,4), size=(2,2))\n",
    "p1_9 = mPolygon(origin=(2,6), size=(2,2))\n",
    "p1_10 = mPolygon(origin=(2,8), size=(2,2))\n",
    "\n",
    "p1_11 = mPolygon(origin=(6,0), size=(2,2))\n",
    "p1_12 = mPolygon(origin=(6,2), size=(2,2))\n",
    "p1_13 = mPolygon(origin=(6,4), size=(2,2))\n",
    "p1_14 = mPolygon(origin=(6,6), size=(2,2))\n",
    "p1_15 = mPolygon(origin=(6,8), size=(2,2))\n",
    "p1_16 = mPolygon(origin=(8,0), size=(2,2))\n",
    "p1_17 = mPolygon(origin=(8,2), size=(2,2))\n",
    "p1_18 = mPolygon(origin=(8,4), size=(2,2))\n",
    "p1_19 = mPolygon(origin=(8,6), size=(2,2))\n",
    "p1_20 = mPolygon(origin=(8,8), size=(2,2))\n",
    "\n",
    "p1_parcels = [p1_1, p1_2, p1_3, p1_4, p1_5, p1_6, p1_7, p1_8, p1_9, p1_10, p1_11, p1_12, p1_13, p1_14, p1_15, p1_16, p1_17, p1_18, p1_19, p1_20]\n",
    "\n",
    "p1_parcel_data = {\n",
    "    'OWNER': ['D', 'D', 'F', 'E', 'E', 'A', 'D', 'E', 'E', 'E', 'A', 'D', 'D', 'C', 'F', 'B', 'B', 'C', 'F', 'F']\n",
    "}\n",
    "p1_parcel_gdf = GeoDataFrame(p1_parcel_data, p1_parcels).build()\n",
    "\n",
    "# add line to map\n",
    "p1_line = mLine(coords=[(5, 0), (5, 10)], color='black')\n",
    "\n"
   ]
  },
  {
   "cell_type": "code",
   "execution_count": 167,
   "metadata": {},
   "outputs": [],
   "source": [
    "map.add_gdf(p1_parcel_gdf, label='OWNER', alpha=0.2, color='blue')\n",
    "map.add_shape(p1_line)"
   ]
  },
  {
   "cell_type": "code",
   "execution_count": 168,
   "metadata": {},
   "outputs": [
    {
     "data": {
      "image/png": "[encoded data removed]",
      "text/plain": [
       "<Figure size 640x480 with 1 Axes>"
      ]
     },
     "metadata": {},
     "output_type": "display_data"
    }
   ],
   "source": [
    "map.plot()"
   ]
  },
  {
   "cell_type": "markdown",
   "metadata": {},
   "source": [
    "### Places 2 Parcel Data"
   ]
  },
  {
   "cell_type": "code",
   "execution_count": 169,
   "metadata": {},
   "outputs": [],
   "source": [
    "p2_1 = mPolygon(origin=(0, 12), size=(2,2))\n",
    "p2_2 = mPolygon(origin=(0,14), size=(2,2))\n",
    "p2_3 = mPolygon(origin=(0,16), size=(2,2))\n",
    "p2_4 = mPolygon(origin=(0,18), size=(2,2))\n",
    "p2_5 = mPolygon(origin=(0,20), size=(2,2))\n",
    "p2_6 = mPolygon(origin=(2,12), size=(2,2))\n",
    "p2_7 = mPolygon(origin=(2,14), size=(2,2))\n",
    "p2_8 = mPolygon(origin=(2,16), size=(2,2))\n",
    "p2_9 = mPolygon(origin=(2,18), size=(2,2))\n",
    "p2_10 = mPolygon(origin=(2,20), size=(2,2))\n",
    "\n",
    "p2_11 = mPolygon(origin=(6,12), size=(2,2))\n",
    "p2_12 = mPolygon(origin=(6,14), size=(2,2))\n",
    "p2_13 = mPolygon(origin=(6,16), size=(2,2))\n",
    "p2_14 = mPolygon(origin=(6,18), size=(2,2))\n",
    "p2_15 = mPolygon(origin=(6,20), size=(2,2))\n",
    "p2_16 = mPolygon(origin=(8,12), size=(2,2))\n",
    "p2_17 = mPolygon(origin=(8,14), size=(2,2))\n",
    "p2_18 = mPolygon(origin=(8,16), size=(2,2))\n",
    "p2_19 = mPolygon(origin=(8,18), size=(2,2))\n",
    "p2_20 = mPolygon(origin=(8,20), size=(2,2))\n",
    "\n",
    "\n",
    "p2_parcels = [p2_1, p2_2, p2_3, p2_4, p2_5, p2_6, p2_7, p2_8, p2_9, p2_10, p2_11, p2_12, p2_13, p2_14, p2_15, p2_16, p2_17, p2_18, p2_19, p2_20]\n",
    "\n",
    "p2_parcel_data = {\n",
    "    'OWNER': ['E', 'C', 'C', 'C', 'E', 'E', 'B', 'F', 'A', 'D', 'F', 'F', 'C', 'C', 'C', 'F', 'G', 'H', 'I', 'J']\n",
    "}\n",
    "p2_parcel_gdf = GeoDataFrame(p2_parcel_data, p2_parcels).build()\n",
    "\n",
    "# add line to map\n",
    "p2_line = mLine(coords=[(5, 12), (5, 22)], color='black')\n"
   ]
  },
  {
   "cell_type": "code",
   "execution_count": 170,
   "metadata": {},
   "outputs": [
    {
     "data": {
      "image/png": "[encoded data removed]",
      "text/plain": [
       "<Figure size 640x480 with 1 Axes>"
      ]
     },
     "metadata": {},
     "output_type": "display_data"
    }
   ],
   "source": [
    "map.add_gdf(p2_parcel_gdf, label='OWNER', alpha=0.2, color='blue')\n",
    "map.add_shape(p2_line)\n",
    "map.plot()"
   ]
  },
  {
   "cell_type": "markdown",
   "metadata": {},
   "source": [
    "### Place 3 Parcel Data"
   ]
  },
  {
   "cell_type": "code",
   "execution_count": 171,
   "metadata": {},
   "outputs": [],
   "source": [
    "p3_p1 = mPolygon(origin=(14, 5), size=(2,2))\n",
    "p3_p2 = mPolygon(origin=(14,7), size=(2,2))\n",
    "p3_p3 = mPolygon(origin=(14,9), size=(2,2))\n",
    "p3_p4 = mPolygon(origin=(14,11), size=(2,2))\n",
    "p3_p5 = mPolygon(origin=(14,13), size=(2,2))\n",
    "p3_p6 = mPolygon(origin=(16,5), size=(2,2))\n",
    "p3_p7 = mPolygon(origin=(16,7), size=(2,2))\n",
    "p3_p8 = mPolygon(origin=(16,9), size=(2,2))\n",
    "p3_p9 = mPolygon(origin=(16,11), size=(2,2))\n",
    "p3_p10 = mPolygon(origin=(16,13), size=(2,2))\n",
    "\n",
    "p3_11 = mPolygon(origin=(20,5), size=(2,2))\n",
    "p3_12 = mPolygon(origin=(20,7), size=(2,2))\n",
    "p3_13 = mPolygon(origin=(20,9), size=(2,2))\n",
    "p3_14 = mPolygon(origin=(20,11), size=(2,2))\n",
    "p3_15 = mPolygon(origin=(20,13), size=(2,2))\n",
    "p3_16 = mPolygon(origin=(22,5), size=(2,2))\n",
    "p3_17 = mPolygon(origin=(22,7), size=(2,2))\n",
    "p3_18 = mPolygon(origin=(22,9), size=(2,2))\n",
    "p3_19 = mPolygon(origin=(22,11), size=(2,2))\n",
    "p3_20 = mPolygon(origin=(22,13), size=(2,2))\n",
    "\n",
    "# add line to map\n",
    "p3_line = mLine(coords=[(19, 5), (19, 15)], color='black')\n",
    "\n",
    "p3_parcels = [p3_p1, p3_p2, p3_p3, p3_p4, p3_p5, p3_p6, p3_p7, p3_p8, p3_p9, p3_p10, p3_11, p3_12, p3_13, p3_14, p3_15, p3_16, p3_17, p3_18, p3_19, p3_20]\n",
    "\n",
    "p3_parcel_data = {\n",
    "    'OWNER': ['F', 'F', 'F', 'F', 'F', 'C', 'C', 'C', 'B', 'B', 'C', 'C', 'C', 'C', 'C', 'D', 'D', 'D', 'D', 'D']\n",
    "}\n",
    "p3_parcel_gdf = GeoDataFrame(p3_parcel_data, p3_parcels).build()"
   ]
  },
  {
   "cell_type": "code",
   "execution_count": 172,
   "metadata": {},
   "outputs": [
    {
     "data": {
      "image/png": "[encoded data removed]",
      "text/plain": [
       "<Figure size 640x480 with 1 Axes>"
      ]
     },
     "metadata": {},
     "output_type": "display_data"
    }
   ],
   "source": [
    "map.add_gdf(p3_parcel_gdf, label='OWNER', alpha=0.2, color='blue')\n",
    "map.add_shape(p3_line)\n",
    "map.plot()"
   ]
  },
  {
   "cell_type": "markdown",
   "metadata": {},
   "source": [
    "### Clustering Workflow"
   ]
  },
  {
   "cell_type": "code",
   "execution_count": 173,
   "metadata": {},
   "outputs": [],
   "source": [
    "def polygon_distance(polygon1, polygon2):\n",
    "    # Calculate the minimum distance between two polygons\n",
    "    point1, point2 = nearest_points(polygon1, polygon2)\n",
    "    return point1.distance(point2)\n",
    "\n",
    "def compute_distance_matrix(polygons):\n",
    "    # Create a distance matrix between all polygons\n",
    "    num_polygons = len(polygons)\n",
    "    distance_matrix = np.zeros((num_polygons, num_polygons))\n",
    "    \n",
    "    for i in range(num_polygons):\n",
    "        for j in range(i + 1, num_polygons):\n",
    "            distance_matrix[i, j] = polygon_distance(polygons[i], polygons[j])\n",
    "            distance_matrix[j, i] = distance_matrix[i, j]  # Symmetry\n",
    "    \n",
    "    return distance_matrix"
   ]
  },
  {
   "cell_type": "code",
   "execution_count": 174,
   "metadata": {},
   "outputs": [
    {
     "data": {
      "text/html": [
       "<div>\n",
       "<style scoped>\n",
       "    .dataframe tbody tr th:only-of-type {\n",
       "        vertical-align: middle;\n",
       "    }\n",
       "\n",
       "    .dataframe tbody tr th {\n",
       "        vertical-align: top;\n",
       "    }\n",
       "\n",
       "    .dataframe thead th {\n",
       "        text-align: right;\n",
       "    }\n",
       "</style>\n",
       "<table border=\"1\" class=\"dataframe\">\n",
       "  <thead>\n",
       "    <tr style=\"text-align: right;\">\n",
       "      <th></th>\n",
       "      <th>OWNER</th>\n",
       "      <th>geometry</th>\n",
       "    </tr>\n",
       "  </thead>\n",
       "  <tbody>\n",
       "    <tr>\n",
       "      <th>0</th>\n",
       "      <td>D</td>\n",
       "      <td>POLYGON ((0.00000 0.00000, 2.00000 0.00000, 2....</td>\n",
       "    </tr>\n",
       "    <tr>\n",
       "      <th>1</th>\n",
       "      <td>D</td>\n",
       "      <td>POLYGON ((0.00000 2.00000, 2.00000 2.00000, 2....</td>\n",
       "    </tr>\n",
       "    <tr>\n",
       "      <th>2</th>\n",
       "      <td>F</td>\n",
       "      <td>POLYGON ((0.00000 4.00000, 2.00000 4.00000, 2....</td>\n",
       "    </tr>\n",
       "  </tbody>\n",
       "</table>\n",
       "</div>"
      ],
      "text/plain": [
       "  OWNER                                           geometry\n",
       "0     D  POLYGON ((0.00000 0.00000, 2.00000 0.00000, 2....\n",
       "1     D  POLYGON ((0.00000 2.00000, 2.00000 2.00000, 2....\n",
       "2     F  POLYGON ((0.00000 4.00000, 2.00000 4.00000, 2...."
      ]
     },
     "metadata": {},
     "output_type": "display_data"
    }
   ],
   "source": [
    "parcels = pd.concat([p1_parcel_gdf, p2_parcel_gdf, p3_parcel_gdf], ignore_index=True)\n",
    "\n",
    "display(parcels.head(3))"
   ]
  },
  {
   "cell_type": "code",
   "execution_count": 175,
   "metadata": {},
   "outputs": [
    {
     "name": "stdout",
     "output_type": "stream",
     "text": [
      "Processing place 0\n",
      "Optimal distance for Place 0: 2\n",
      "________________________________________________________\n",
      "Processing place 1\n",
      "Optimal distance for Place 1: 2\n",
      "________________________________________________________\n",
      "Processing place 2\n",
      "Optimal distance for Place 2: 2\n",
      "________________________________________________________\n"
     ]
    }
   ],
   "source": [
    "sample_size = 3\n",
    "min_urban_distance = 2\n",
    "max_distance = 5\n",
    "n_ratio = 0.3\n",
    "knn_max_neighbors = 5\n",
    "all_clustered_parcel_data = gpd.GeoDataFrame()\n",
    "all_single_parcel_data = gpd.GeoDataFrame()\n",
    "for place_id, place_data in place_gdf.iterrows():\n",
    "    print(f\"Processing place {place_id}\")\n",
    "    sub_parcels = parcels[parcels.within(place_data['geometry'])]\n",
    "    \n",
    "    def compute_regional_distance_matrix(df):\n",
    "        distance_matrix = df.geometry.apply(lambda g: df.distance(g)).values\n",
    "        distances = distance_matrix[np.triu_indices_from(distance_matrix, k=1)]\n",
    "        distances = distances[distances > 0]\n",
    "\n",
    "        return distances\n",
    "\n",
    "    distances = compute_regional_distance_matrix(sub_parcels)\n",
    "\n",
    "\n",
    "    def compute_density(dmatrix, num_parcels):\n",
    "        density = len(sub_parcels) / np.ptp(distances) \n",
    "        return density\n",
    "\n",
    "    density = compute_density(distances, len(sub_parcels))\n",
    "    \n",
    "    def compute_nneighbors(density, num_parcels):\n",
    "        # 10% of the data or 5 neighbors\n",
    "        n_neighbors = min(int(num_parcels * density), num_parcels - 1)\n",
    "        return n_neighbors\n",
    "\n",
    "    n_neighbors = compute_nneighbors(density, len(sub_parcels))\n",
    "    \n",
    "    def compute_optimal_distance(dmatrix, n_neighbors, min_urban_distance, max_distance):\n",
    "        knn = NearestNeighbors(n_neighbors=n_neighbors).fit(dmatrix.reshape(-1, 1))\n",
    "        knn_distances, _ = knn.kneighbors(dmatrix.reshape(-1, 1))\n",
    "        sorted_distances = np.sort(knn_distances[:, -1])\n",
    "        smooth_dist = uniform_filter1d(sorted_distances, size=10)\n",
    "        difference = np.diff(smooth_dist)\n",
    "        elbow_index = np.argmax(difference) + 1\n",
    "\n",
    "        # take distance from KNN elbow --> must be greater than min_urban_distance and less than max_distance\n",
    "        knn_optimal_distance = smooth_dist[elbow_index]\n",
    "        optimal_distance = min(max(ceil(knn_optimal_distance), min_urban_distance), max_distance)\n",
    "        \n",
    "        return optimal_distance, knn_optimal_distance\n",
    "\n",
    "    optimal_distance, knn_optimal_distance = compute_optimal_distance(distances, n_neighbors, min_urban_distance, max_distance)\n",
    "    \n",
    "    print(f\"Optimal distance for Place {place_id}: {optimal_distance}\")\n",
    "    \n",
    "    \n",
    "    unique_owners = sub_parcels['OWNER'].unique()\n",
    "    clustered_parcel_data = gpd.GeoDataFrame()\n",
    "    single_parcel_data = gpd.GeoDataFrame()\n",
    "    for owner in unique_owners:\n",
    "        owner_parcels = sub_parcels[sub_parcels['OWNER'] == owner]\n",
    "        #print(f\"Owner {owner} has {len(owner_parcels)} parcels\")\n",
    "        polygons = owner_parcels['geometry'].to_list()\n",
    "        distance_matrix = compute_distance_matrix(polygons)\n",
    "        if distance_matrix.shape[0] < 3: # only two parcels\n",
    "            continue\n",
    "\n",
    "        dbscan = DBSCAN(eps=optimal_distance, min_samples=sample_size, metric='precomputed')\n",
    "        clusters = dbscan.fit_predict(distance_matrix)\n",
    "\n",
    "        owner_parcels['cluster'] = clusters # clustert ID\n",
    "        owner_parcels['area'] = owner_parcels['geometry'].area\n",
    "        counts = owner_parcels['cluster'].value_counts() # pd.series of cluster counts\n",
    "        \n",
    "        outliers = counts[counts.index == -1].index # outliers always identified as -1\n",
    "        counts = counts[counts.index != -1] # drop outliers\n",
    "\n",
    "        single_parcel_filter_ids = set(list(outliers)) # not apart of any cluster\n",
    "            \n",
    "        single_parcel_filter = owner_parcels[owner_parcels['cluster'].isin(single_parcel_filter_ids)]\n",
    "        single_parcel_data = pd.concat([single_parcel_data, single_parcel_filter], ignore_index=True)\n",
    "        \n",
    "        cluster_filter = owner_parcels[~owner_parcels['cluster'].isin(single_parcel_filter_ids)]\n",
    "        if len(cluster_filter) > 0:\n",
    "            cluster_filter['pcount'] = cluster_filter['cluster'].map(counts) # add parcel count to filter dataframe\n",
    "            cluster_filter['knn_dst'] = knn_optimal_distance\n",
    "            cluster_filter['opt_dst'] = optimal_distance # dbscan distane is euivalent to the required buffer distance\n",
    "            cluster_filter['place_id'] = place_id\n",
    "            clustered_parcel_data = pd.concat([clustered_parcel_data, cluster_filter], ignore_index=True)\n",
    "\n",
    "    clustered_parcel_data['cluster_ID'] = clustered_parcel_data['OWNER'] + '_' + str(place_id) + '_' + clustered_parcel_data['cluster'].astype(str)\n",
    "    all_clustered_parcel_data = pd.concat([all_clustered_parcel_data, clustered_parcel_data], ignore_index=True)\n",
    "    all_single_parcel_data = pd.concat([all_single_parcel_data, single_parcel_data], ignore_index=True)\n",
    "\n",
    "        \n",
    "\n",
    "    \n",
    "\n",
    "    print('________________________________________________________')\n",
    "    "
   ]
  },
  {
   "cell_type": "code",
   "execution_count": 176,
   "metadata": {},
   "outputs": [
    {
     "data": {
      "text/html": [
       "<div>\n",
       "<style scoped>\n",
       "    .dataframe tbody tr th:only-of-type {\n",
       "        vertical-align: middle;\n",
       "    }\n",
       "\n",
       "    .dataframe tbody tr th {\n",
       "        vertical-align: top;\n",
       "    }\n",
       "\n",
       "    .dataframe thead th {\n",
       "        text-align: right;\n",
       "    }\n",
       "</style>\n",
       "<table border=\"1\" class=\"dataframe\">\n",
       "  <thead>\n",
       "    <tr style=\"text-align: right;\">\n",
       "      <th></th>\n",
       "      <th>OWNER</th>\n",
       "      <th>place_id</th>\n",
       "      <th>knn_dst</th>\n",
       "      <th>opt_dst</th>\n",
       "    </tr>\n",
       "  </thead>\n",
       "  <tbody>\n",
       "    <tr>\n",
       "      <th>0</th>\n",
       "      <td>C</td>\n",
       "      <td>1</td>\n",
       "      <td>1.465938</td>\n",
       "      <td>2</td>\n",
       "    </tr>\n",
       "    <tr>\n",
       "      <th>1</th>\n",
       "      <td>C</td>\n",
       "      <td>2</td>\n",
       "      <td>1.465938</td>\n",
       "      <td>2</td>\n",
       "    </tr>\n",
       "    <tr>\n",
       "      <th>2</th>\n",
       "      <td>D</td>\n",
       "      <td>0</td>\n",
       "      <td>1.465938</td>\n",
       "      <td>2</td>\n",
       "    </tr>\n",
       "    <tr>\n",
       "      <th>3</th>\n",
       "      <td>D</td>\n",
       "      <td>2</td>\n",
       "      <td>1.465938</td>\n",
       "      <td>2</td>\n",
       "    </tr>\n",
       "    <tr>\n",
       "      <th>4</th>\n",
       "      <td>E</td>\n",
       "      <td>0</td>\n",
       "      <td>1.465938</td>\n",
       "      <td>2</td>\n",
       "    </tr>\n",
       "    <tr>\n",
       "      <th>5</th>\n",
       "      <td>F</td>\n",
       "      <td>0</td>\n",
       "      <td>1.465938</td>\n",
       "      <td>2</td>\n",
       "    </tr>\n",
       "    <tr>\n",
       "      <th>6</th>\n",
       "      <td>F</td>\n",
       "      <td>1</td>\n",
       "      <td>1.465938</td>\n",
       "      <td>2</td>\n",
       "    </tr>\n",
       "    <tr>\n",
       "      <th>7</th>\n",
       "      <td>F</td>\n",
       "      <td>2</td>\n",
       "      <td>1.465938</td>\n",
       "      <td>2</td>\n",
       "    </tr>\n",
       "  </tbody>\n",
       "</table>\n",
       "</div>"
      ],
      "text/plain": [
       "  OWNER  place_id   knn_dst  opt_dst\n",
       "0     C         1  1.465938        2\n",
       "1     C         2  1.465938        2\n",
       "2     D         0  1.465938        2\n",
       "3     D         2  1.465938        2\n",
       "4     E         0  1.465938        2\n",
       "5     F         0  1.465938        2\n",
       "6     F         1  1.465938        2\n",
       "7     F         2  1.465938        2"
      ]
     },
     "execution_count": 176,
     "metadata": {},
     "output_type": "execute_result"
    }
   ],
   "source": [
    "all_clustered_parcel_data.groupby(['OWNER', 'place_id']).agg(knn_dst=('knn_dst', 'first'), opt_dst=('opt_dst', 'first')).reset_index()"
   ]
  },
  {
   "cell_type": "code",
   "execution_count": 177,
   "metadata": {},
   "outputs": [
    {
     "data": {
      "text/html": [
       "<div>\n",
       "<style scoped>\n",
       "    .dataframe tbody tr th:only-of-type {\n",
       "        vertical-align: middle;\n",
       "    }\n",
       "\n",
       "    .dataframe tbody tr th {\n",
       "        vertical-align: top;\n",
       "    }\n",
       "\n",
       "    .dataframe thead th {\n",
       "        text-align: right;\n",
       "    }\n",
       "</style>\n",
       "<table border=\"1\" class=\"dataframe\">\n",
       "  <thead>\n",
       "    <tr style=\"text-align: right;\">\n",
       "      <th></th>\n",
       "      <th>cluster_ID</th>\n",
       "      <th>geometry</th>\n",
       "      <th>OWNER</th>\n",
       "      <th>cluster</th>\n",
       "      <th>area</th>\n",
       "      <th>pcount</th>\n",
       "      <th>knn_dst</th>\n",
       "      <th>opt_dst</th>\n",
       "      <th>place_id</th>\n",
       "    </tr>\n",
       "  </thead>\n",
       "  <tbody>\n",
       "    <tr>\n",
       "      <th>0</th>\n",
       "      <td>C_1_0</td>\n",
       "      <td>POLYGON ((2.00000 14.00000, 0.00000 14.00000, ...</td>\n",
       "      <td>C</td>\n",
       "      <td>0</td>\n",
       "      <td>4.0</td>\n",
       "      <td>3</td>\n",
       "      <td>1.465938</td>\n",
       "      <td>2</td>\n",
       "      <td>1</td>\n",
       "    </tr>\n",
       "    <tr>\n",
       "      <th>1</th>\n",
       "      <td>C_1_1</td>\n",
       "      <td>POLYGON ((8.00000 16.00000, 6.00000 16.00000, ...</td>\n",
       "      <td>C</td>\n",
       "      <td>1</td>\n",
       "      <td>4.0</td>\n",
       "      <td>3</td>\n",
       "      <td>1.465938</td>\n",
       "      <td>2</td>\n",
       "      <td>1</td>\n",
       "    </tr>\n",
       "    <tr>\n",
       "      <th>2</th>\n",
       "      <td>C_2_0</td>\n",
       "      <td>MULTIPOLYGON (((16.00000 5.00000, 16.00000 7.0...</td>\n",
       "      <td>C</td>\n",
       "      <td>0</td>\n",
       "      <td>4.0</td>\n",
       "      <td>8</td>\n",
       "      <td>1.465938</td>\n",
       "      <td>2</td>\n",
       "      <td>2</td>\n",
       "    </tr>\n",
       "    <tr>\n",
       "      <th>3</th>\n",
       "      <td>D_0_0</td>\n",
       "      <td>MULTIPOLYGON (((0.00000 0.00000, 0.00000 2.000...</td>\n",
       "      <td>D</td>\n",
       "      <td>0</td>\n",
       "      <td>4.0</td>\n",
       "      <td>5</td>\n",
       "      <td>1.465938</td>\n",
       "      <td>2</td>\n",
       "      <td>0</td>\n",
       "    </tr>\n",
       "    <tr>\n",
       "      <th>4</th>\n",
       "      <td>D_2_0</td>\n",
       "      <td>POLYGON ((22.00000 5.00000, 22.00000 7.00000, ...</td>\n",
       "      <td>D</td>\n",
       "      <td>0</td>\n",
       "      <td>4.0</td>\n",
       "      <td>5</td>\n",
       "      <td>1.465938</td>\n",
       "      <td>2</td>\n",
       "      <td>2</td>\n",
       "    </tr>\n",
       "    <tr>\n",
       "      <th>5</th>\n",
       "      <td>E_0_0</td>\n",
       "      <td>POLYGON ((4.00000 4.00000, 2.00000 4.00000, 2....</td>\n",
       "      <td>E</td>\n",
       "      <td>0</td>\n",
       "      <td>4.0</td>\n",
       "      <td>5</td>\n",
       "      <td>1.465938</td>\n",
       "      <td>2</td>\n",
       "      <td>0</td>\n",
       "    </tr>\n",
       "    <tr>\n",
       "      <th>6</th>\n",
       "      <td>F_0_0</td>\n",
       "      <td>POLYGON ((10.00000 6.00000, 8.00000 6.00000, 8...</td>\n",
       "      <td>F</td>\n",
       "      <td>0</td>\n",
       "      <td>4.0</td>\n",
       "      <td>3</td>\n",
       "      <td>1.465938</td>\n",
       "      <td>2</td>\n",
       "      <td>0</td>\n",
       "    </tr>\n",
       "    <tr>\n",
       "      <th>7</th>\n",
       "      <td>F_1_0</td>\n",
       "      <td>MULTIPOLYGON (((6.00000 14.00000, 6.00000 16.0...</td>\n",
       "      <td>F</td>\n",
       "      <td>0</td>\n",
       "      <td>4.0</td>\n",
       "      <td>4</td>\n",
       "      <td>1.465938</td>\n",
       "      <td>2</td>\n",
       "      <td>1</td>\n",
       "    </tr>\n",
       "    <tr>\n",
       "      <th>8</th>\n",
       "      <td>F_2_0</td>\n",
       "      <td>POLYGON ((14.00000 5.00000, 14.00000 7.00000, ...</td>\n",
       "      <td>F</td>\n",
       "      <td>0</td>\n",
       "      <td>4.0</td>\n",
       "      <td>5</td>\n",
       "      <td>1.465938</td>\n",
       "      <td>2</td>\n",
       "      <td>2</td>\n",
       "    </tr>\n",
       "  </tbody>\n",
       "</table>\n",
       "</div>"
      ],
      "text/plain": [
       "  cluster_ID                                           geometry OWNER  \\\n",
       "0      C_1_0  POLYGON ((2.00000 14.00000, 0.00000 14.00000, ...     C   \n",
       "1      C_1_1  POLYGON ((8.00000 16.00000, 6.00000 16.00000, ...     C   \n",
       "2      C_2_0  MULTIPOLYGON (((16.00000 5.00000, 16.00000 7.0...     C   \n",
       "3      D_0_0  MULTIPOLYGON (((0.00000 0.00000, 0.00000 2.000...     D   \n",
       "4      D_2_0  POLYGON ((22.00000 5.00000, 22.00000 7.00000, ...     D   \n",
       "5      E_0_0  POLYGON ((4.00000 4.00000, 2.00000 4.00000, 2....     E   \n",
       "6      F_0_0  POLYGON ((10.00000 6.00000, 8.00000 6.00000, 8...     F   \n",
       "7      F_1_0  MULTIPOLYGON (((6.00000 14.00000, 6.00000 16.0...     F   \n",
       "8      F_2_0  POLYGON ((14.00000 5.00000, 14.00000 7.00000, ...     F   \n",
       "\n",
       "   cluster  area  pcount   knn_dst  opt_dst  place_id  \n",
       "0        0   4.0       3  1.465938        2         1  \n",
       "1        1   4.0       3  1.465938        2         1  \n",
       "2        0   4.0       8  1.465938        2         2  \n",
       "3        0   4.0       5  1.465938        2         0  \n",
       "4        0   4.0       5  1.465938        2         2  \n",
       "5        0   4.0       5  1.465938        2         0  \n",
       "6        0   4.0       3  1.465938        2         0  \n",
       "7        0   4.0       4  1.465938        2         1  \n",
       "8        0   4.0       5  1.465938        2         2  "
      ]
     },
     "execution_count": 177,
     "metadata": {},
     "output_type": "execute_result"
    }
   ],
   "source": [
    "parcel_dissolve = all_clustered_parcel_data.dissolve(by='cluster_ID').reset_index()\n",
    "parcel_dissolve"
   ]
  },
  {
   "cell_type": "code",
   "execution_count": 178,
   "metadata": {},
   "outputs": [],
   "source": [
    "parcel_dissolve['geometry'] = parcel_dissolve['geometry'].buffer(3)\n",
    "parcel_dissolve['geometry'] = parcel_dissolve['geometry'].buffer(-3)\n",
    "parcel_dissolve = parcel_dissolve.explode(index_parts=True)\n"
   ]
  },
  {
   "cell_type": "code",
   "execution_count": 179,
   "metadata": {},
   "outputs": [
    {
     "data": {
      "image/png": "[encoded data removed]",
      "text/plain": [
       "<Figure size 640x480 with 1 Axes>"
      ]
     },
     "metadata": {},
     "output_type": "display_data"
    }
   ],
   "source": [
    "cluster_map = Map()\n",
    "cluster_map.add_gdf(parcel_dissolve, alpha=0, edgecolor='red', label='OWNER', label_color='red')\n",
    "cluster_map.plot()"
   ]
  },
  {
   "cell_type": "code",
   "execution_count": 180,
   "metadata": {},
   "outputs": [],
   "source": [
    "map.add_gdf(parcel_dissolve, alpha=0, edgecolor='red', label='OWNER', label_color='red')"
   ]
  },
  {
   "cell_type": "code",
   "execution_count": 181,
   "metadata": {},
   "outputs": [
    {
     "data": {
      "image/png": "[encoded data removed]",
      "text/plain": [
       "<Figure size 640x480 with 1 Axes>"
      ]
     },
     "metadata": {},
     "output_type": "display_data"
    }
   ],
   "source": [
    "map.plot()"
   ]
  },
  {
   "cell_type": "code",
   "execution_count": null,
   "metadata": {},
   "outputs": [],
   "source": []
  }
 ],
 "metadata": {
  "kernelspec": {
   "display_name": "Python 3",
   "language": "python",
   "name": "python3"
  },
  "language_info": {
   "codemirror_mode": {
    "name": "ipython",
    "version": 3
   },
   "file_extension": ".py",
   "mimetype": "text/x-python",
   "name": "python",
   "nbconvert_exporter": "python",
   "pygments_lexer": "ipython3",
   "version": "3.11.4"
  }
 },
 "nbformat": 4,
 "nbformat_minor": 2
}
