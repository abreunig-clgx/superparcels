{
 "cells": [
  {
   "cell_type": "markdown",
   "metadata": {},
   "source": [
    "**Table of contents**<a id='toc0_'></a>    \n",
    "- [Phase II: Clustering within Place Boundaries](#toc1_)    \n",
    "  - [Introduction](#toc1_1_)    \n",
    "  - [I: MRE (Minimum Reproducible Example) Data](#toc1_2_)    \n",
    "    - [County and Place Data](#toc1_2_1_)    \n",
    "    - [Places 1 Parcel Data](#toc1_2_2_)    \n",
    "    - [Places 2 Parcel Data](#toc1_2_3_)    \n",
    "    - [Place 3 Parcel Data](#toc1_2_4_)    \n",
    "  - [II. Clustering Workflow](#toc1_3_)    \n",
    "    - [Functions](#toc1_3_1_)    \n",
    "      - [Step 1: Computing the Distance Matrix for each Region](#toc1_3_1_1_)    \n",
    "      - [Step 2: Calculating the Density of the Region](#toc1_3_1_2_)    \n",
    "      - [Step 3: Calculating the Nearest Neighbors Sample Size](#toc1_3_1_3_)    \n",
    "      - [Step 4: Calculating the Optimal Epsilon](#toc1_3_1_4_)    \n",
    "      - [Step 5: Clustering the Data](#toc1_3_1_5_)    \n",
    "      - [Understanding The Variables](#toc1_3_1_6_)    \n",
    "  - [III. Results](#toc1_4_)    \n",
    "  - [IV. Cross-Region Clustering](#toc1_5_)    \n",
    "    - [Step 1: Identify Single Parcels within the Optimal Distance](#toc1_5_1_)    \n",
    "    - [Step 2: Identify Same-Owner Clusters in different regions within the Optimal Distance](#toc1_5_2_)    \n",
    "    - [Step 3: Dissolve and Reverse Buffer](#toc1_5_3_)    \n",
    "  - [V. Cross-Region Clustering Results](#toc1_6_)    \n",
    "      - [Final Thoughts:](#toc1_6_1_1_)    \n",
    "\n",
    "<!-- vscode-jupyter-toc-config\n",
    "\tnumbering=false\n",
    "\tanchor=true\n",
    "\tflat=false\n",
    "\tminLevel=1\n",
    "\tmaxLevel=6\n",
    "\t/vscode-jupyter-toc-config -->\n",
    "<!-- THIS CELL WILL BE REPLACED ON TOC UPDATE. DO NOT WRITE YOUR TEXT IN THIS CELL -->"
   ]
  },
  {
   "cell_type": "markdown",
   "metadata": {},
   "source": [
    "# <a id='toc1_'></a>[Phase II: Clustering within Place Boundaries](#toc0_)\n",
    "## <a id='toc1_1_'></a>[Introduction](#toc0_)\n",
    "In this notebook, we are taking our inital clustering workflow and applying a dynamic eplison to the DBSCAN. The notebook applies this idea by utilizing a Place Boundary, which is an unofficial Census boundary representing a local urban area. Within these boundaries, density is calculated to determine an effective Nearest Neibor sample size. The KNN Nearest Neighbor alogrithm is then used to determine the optimal epsilon for the DBSCAN algorithm. The notebook then applies the DBSCAN algorithm to the data and visualizes the results."
   ]
  },
  {
   "cell_type": "code",
   "execution_count": 1,
   "metadata": {},
   "outputs": [],
   "source": [
    "from geometry import * # custom module used for MRE data creation and visualization\n",
    "\n",
    "from shapely.ops import nearest_points\n",
    "from sklearn.neighbors import NearestNeighbors\n",
    "from scipy.ndimage import uniform_filter1d\n",
    "import numpy as np\n",
    "from math import ceil\n",
    "from sklearn.cluster import DBSCAN\n",
    "from shapely.geometry import MultiPolygon\n",
    "from scipy.spatial import cKDTree\n",
    "import warnings\n",
    "warnings.filterwarnings('ignore')"
   ]
  },
  {
   "cell_type": "markdown",
   "metadata": {},
   "source": [
    "## <a id='toc1_2_'></a>[I: MRE (Minimum Reproducible Example) Data](#toc0_)\n",
    "### <a id='toc1_2_1_'></a>[County and Place Data](#toc0_)\n",
    "Place boundaries represent locally dense urban areas. Boundaries will be used initally as a proxy for regional parcel density where adaptive eps will be calcualted. "
   ]
  },
  {
   "cell_type": "code",
   "execution_count": 2,
   "metadata": {},
   "outputs": [],
   "source": [
    "county1 = mPolygon(origin=(0,0), size=(25,25), alpha=0, edgecolor='red', linestyle='--')"
   ]
  },
  {
   "cell_type": "code",
   "execution_count": 3,
   "metadata": {},
   "outputs": [
    {
     "data": {
      "text/html": [
       "<div>\n",
       "<style scoped>\n",
       "    .dataframe tbody tr th:only-of-type {\n",
       "        vertical-align: middle;\n",
       "    }\n",
       "\n",
       "    .dataframe tbody tr th {\n",
       "        vertical-align: top;\n",
       "    }\n",
       "\n",
       "    .dataframe thead th {\n",
       "        text-align: right;\n",
       "    }\n",
       "</style>\n",
       "<table border=\"1\" class=\"dataframe\">\n",
       "  <thead>\n",
       "    <tr style=\"text-align: right;\">\n",
       "      <th></th>\n",
       "      <th>Place</th>\n",
       "      <th>geometry</th>\n",
       "    </tr>\n",
       "  </thead>\n",
       "  <tbody>\n",
       "    <tr>\n",
       "      <th>0</th>\n",
       "      <td>P1</td>\n",
       "      <td>POLYGON ((0.00000 0.00000, 10.00000 0.00000, 1...</td>\n",
       "    </tr>\n",
       "    <tr>\n",
       "      <th>1</th>\n",
       "      <td>P2</td>\n",
       "      <td>POLYGON ((0.00000 12.00000, 10.00000 12.00000,...</td>\n",
       "    </tr>\n",
       "    <tr>\n",
       "      <th>2</th>\n",
       "      <td>P3</td>\n",
       "      <td>POLYGON ((14.00000 0.00000, 24.00000 0.00000, ...</td>\n",
       "    </tr>\n",
       "  </tbody>\n",
       "</table>\n",
       "</div>"
      ],
      "text/plain": [
       "  Place                                           geometry\n",
       "0    P1  POLYGON ((0.00000 0.00000, 10.00000 0.00000, 1...\n",
       "1    P2  POLYGON ((0.00000 12.00000, 10.00000 12.00000,...\n",
       "2    P3  POLYGON ((14.00000 0.00000, 24.00000 0.00000, ..."
      ]
     },
     "execution_count": 3,
     "metadata": {},
     "output_type": "execute_result"
    }
   ],
   "source": [
    "place1 = mPolygon(origin=(0, 0), size=(10, 10))\n",
    "place2 = mPolygon(origin=(0, 12), size=(10, 10))\n",
    "place3 = mPolygon(origin=(14, 0), size=(10, 25))\n",
    "places = [place1, place2, place3]\n",
    "\n",
    "place_data = {\n",
    "    'Place': ['P1', 'P2', 'P3']\n",
    "}\n",
    "place_gdf = GeoDataFrame(place_data, places).build()\n",
    "place_gdf"
   ]
  },
  {
   "cell_type": "code",
   "execution_count": 4,
   "metadata": {},
   "outputs": [],
   "source": [
    "map = Map()"
   ]
  },
  {
   "cell_type": "code",
   "execution_count": 5,
   "metadata": {},
   "outputs": [
    {
     "data": {
      "image/png": "[encoded data removed]",
      "text/plain": [
       "<Figure size 640x480 with 1 Axes>"
      ]
     },
     "metadata": {},
     "output_type": "display_data"
    }
   ],
   "source": [
    "map.add_gdf(place_gdf, label='Place', alpha=0)\n",
    "map.add_shape(county1)\n",
    "map.plot()"
   ]
  },
  {
   "cell_type": "markdown",
   "metadata": {},
   "source": [
    "### <a id='toc1_2_2_'></a>[Places 1 Parcel Data](#toc0_)"
   ]
  },
  {
   "cell_type": "code",
   "execution_count": 6,
   "metadata": {},
   "outputs": [],
   "source": [
    "p1_1 = mPolygon(origin=(0, 0), size=(2,2))\n",
    "p1_2 = mPolygon(origin=(0,2), size=(2,2))\n",
    "p1_3 = mPolygon(origin=(0,4), size=(2,2))\n",
    "p1_4 = mPolygon(origin=(0,6), size=(2,2))\n",
    "p1_5 = mPolygon(origin=(0,8), size=(2,2))\n",
    "p1_6 = mPolygon(origin=(2,0), size=(2,2))\n",
    "p1_7 = mPolygon(origin=(2,2), size=(2,2))\n",
    "p1_8 = mPolygon(origin=(2,4), size=(2,2))\n",
    "p1_9 = mPolygon(origin=(2,6), size=(2,2))\n",
    "p1_10 = mPolygon(origin=(2,8), size=(2,2))\n",
    "\n",
    "p1_11 = mPolygon(origin=(6,0), size=(2,2))\n",
    "p1_12 = mPolygon(origin=(6,2), size=(2,2))\n",
    "p1_13 = mPolygon(origin=(6,4), size=(2,2))\n",
    "p1_14 = mPolygon(origin=(6,6), size=(2,2))\n",
    "p1_15 = mPolygon(origin=(6,8), size=(2,2))\n",
    "p1_16 = mPolygon(origin=(8,0), size=(2,2))\n",
    "p1_17 = mPolygon(origin=(8,2), size=(2,2))\n",
    "p1_18 = mPolygon(origin=(8,4), size=(2,2))\n",
    "p1_19 = mPolygon(origin=(8,6), size=(2,2))\n",
    "p1_20 = mPolygon(origin=(8,8), size=(2,2))\n",
    "\n",
    "p1_parcels = [p1_1, p1_2, p1_3, p1_4, p1_5, p1_6, p1_7, p1_8, p1_9, p1_10, p1_11, p1_12, p1_13, p1_14, p1_15, p1_16, p1_17, p1_18, p1_19, p1_20]\n",
    "\n",
    "p1_parcel_data = {\n",
    "    'OWNER': ['D', 'D', 'F', 'E', 'E', 'A', 'D', 'E', 'E', 'E', 'A', 'D', 'D', 'C', 'F', 'B', 'B', 'C', 'F', 'F']\n",
    "}\n",
    "p1_parcel_gdf = GeoDataFrame(p1_parcel_data, p1_parcels).build()\n",
    "\n",
    "# add line to map\n",
    "p1_line = mLine(coords=[(5, 0), (5, 10)], color='black')\n",
    "\n"
   ]
  },
  {
   "cell_type": "code",
   "execution_count": 7,
   "metadata": {},
   "outputs": [],
   "source": [
    "map.add_gdf(p1_parcel_gdf, label='OWNER', alpha=0.2, color='blue')\n",
    "map.add_shape(p1_line)"
   ]
  },
  {
   "cell_type": "code",
   "execution_count": 8,
   "metadata": {},
   "outputs": [
    {
     "data": {
      "image/png": "[encoded data removed]",
      "text/plain": [
       "<Figure size 640x480 with 1 Axes>"
      ]
     },
     "metadata": {},
     "output_type": "display_data"
    }
   ],
   "source": [
    "map.plot()"
   ]
  },
  {
   "cell_type": "markdown",
   "metadata": {},
   "source": [
    "### <a id='toc1_2_3_'></a>[Places 2 Parcel Data](#toc0_)"
   ]
  },
  {
   "cell_type": "code",
   "execution_count": 9,
   "metadata": {},
   "outputs": [],
   "source": [
    "p2_1 = mPolygon(origin=(0, 12), size=(2,2))\n",
    "p2_2 = mPolygon(origin=(0,14), size=(2,2))\n",
    "p2_3 = mPolygon(origin=(0,16), size=(2,2))\n",
    "p2_4 = mPolygon(origin=(0,18), size=(2,2))\n",
    "p2_5 = mPolygon(origin=(0,20), size=(2,2))\n",
    "p2_6 = mPolygon(origin=(2,12), size=(2,2))\n",
    "p2_7 = mPolygon(origin=(2,14), size=(2,2))\n",
    "p2_8 = mPolygon(origin=(2,16), size=(2,2))\n",
    "p2_9 = mPolygon(origin=(2,18), size=(2,2))\n",
    "p2_10 = mPolygon(origin=(2,20), size=(2,2))\n",
    "\n",
    "p2_11 = mPolygon(origin=(6,12), size=(2,2))\n",
    "p2_12 = mPolygon(origin=(6,14), size=(2,2))\n",
    "p2_13 = mPolygon(origin=(6,16), size=(2,2))\n",
    "p2_14 = mPolygon(origin=(6,18), size=(2,2))\n",
    "p2_15 = mPolygon(origin=(6,20), size=(2,2))\n",
    "p2_16 = mPolygon(origin=(8,12), size=(2,2))\n",
    "p2_17 = mPolygon(origin=(8,14), size=(2,2))\n",
    "p2_18 = mPolygon(origin=(8,16), size=(2,2))\n",
    "p2_19 = mPolygon(origin=(8,18), size=(2,2))\n",
    "p2_20 = mPolygon(origin=(8,20), size=(2,2))\n",
    "\n",
    "\n",
    "p2_parcels = [p2_1, p2_2, p2_3, p2_4, p2_5, p2_6, p2_7, p2_8, p2_9, p2_10, p2_11, p2_12, p2_13, p2_14, p2_15, p2_16, p2_17, p2_18, p2_19, p2_20]\n",
    "\n",
    "p2_parcel_data = {\n",
    "    'OWNER': ['E', 'C', 'C', 'C', 'E', 'E', 'B', 'F', 'A', 'D', 'F', 'F', 'C', 'C', 'C', 'F', 'G', 'H', 'I', 'J']\n",
    "}\n",
    "p2_parcel_gdf = GeoDataFrame(p2_parcel_data, p2_parcels).build()\n",
    "\n",
    "# add line to map\n",
    "p2_line = mLine(coords=[(5, 12), (5, 22)], color='black')\n"
   ]
  },
  {
   "cell_type": "code",
   "execution_count": 10,
   "metadata": {},
   "outputs": [
    {
     "data": {
      "image/png": "[encoded data removed]",
      "text/plain": [
       "<Figure size 640x480 with 1 Axes>"
      ]
     },
     "metadata": {},
     "output_type": "display_data"
    }
   ],
   "source": [
    "map.add_gdf(p2_parcel_gdf, label='OWNER', alpha=0.2, color='blue')\n",
    "map.add_shape(p2_line)\n",
    "map.plot()"
   ]
  },
  {
   "cell_type": "markdown",
   "metadata": {},
   "source": [
    "### <a id='toc1_2_4_'></a>[Place 3 Parcel Data](#toc0_)"
   ]
  },
  {
   "cell_type": "code",
   "execution_count": 11,
   "metadata": {},
   "outputs": [],
   "source": [
    "p3_p1 = mPolygon(origin=(14, 0), size=(2,2))\n",
    "p3_p2 = mPolygon(origin=(14,2), size=(2,2))\n",
    "#p3_p3 = mPolygon(origin=(14,9), size=(2,2))\n",
    "#p3_p4 = mPolygon(origin=(14,11), size=(2,2))\n",
    "p3_p5 = mPolygon(origin=(14,10), size=(2,2))\n",
    "p3_p6 = mPolygon(origin=(16,10), size=(2,2))\n",
    "p3_p7 = mPolygon(origin=(20,10), size=(2,2))\n",
    "#p3_p8 = mPolygon(origin=(16,9), size=(2,2))\n",
    "#p3_p9 = mPolygon(origin=(16,11), size=(2,2))\n",
    "p3_p10 = mPolygon(origin=(14,20), size=(2,2))\n",
    "\n",
    "#p3_11 = mPolygon(origin=(20,5), size=(2,2))\n",
    "#p3_12 = mPolygon(origin=(20,7), size=(2,2))\n",
    "p3_13 = mPolygon(origin=(20,0), size=(2,2))\n",
    "p3_14 = mPolygon(origin=(22,4), size=(2,2))\n",
    "#p3_15 = mPolygon(origin=(20,13), size=(2,2))\n",
    "p3_16 = mPolygon(origin=(22,14), size=(2,2))\n",
    "p3_17 = mPolygon(origin=(22,18), size=(2,2))\n",
    "p3_18 = mPolygon(origin=(22,0), size=(2,2))\n",
    "#p3_19 = mPolygon(origin=(22,11), size=(2,2))\n",
    "#p3_20 = mPolygon(origin=(22,13), size=(2,2))\n",
    "\n",
    "# add line to map\n",
    "p3_line = mLine(coords=[(19, 0), (19, 25)], color='black')\n",
    "\n",
    "p3_parcels = [p3_p1, p3_p2, p3_p5, p3_p6, p3_p7, p3_p10, p3_13, p3_14, p3_16, p3_17, p3_18]\n",
    "p3_parcel_data = {\n",
    "    'OWNER': ['A', 'A', 'B', 'B', 'B', 'C', 'C', 'C', 'D', 'D', 'D']\n",
    "}\n",
    "p3_parcel_gdf = GeoDataFrame(p3_parcel_data, p3_parcels).build()"
   ]
  },
  {
   "cell_type": "code",
   "execution_count": 12,
   "metadata": {},
   "outputs": [
    {
     "data": {
      "image/png": "[encoded data removed]",
      "text/plain": [
       "<Figure size 640x480 with 1 Axes>"
      ]
     },
     "metadata": {},
     "output_type": "display_data"
    }
   ],
   "source": [
    "map.add_gdf(p3_parcel_gdf, label='OWNER', alpha=0.2, color='blue')\n",
    "map.add_shape(p3_line)\n",
    "map.plot()"
   ]
  },
  {
   "cell_type": "code",
   "execution_count": 13,
   "metadata": {},
   "outputs": [
    {
     "data": {
      "text/plain": [
       "OWNER\n",
       "C    11\n",
       "D     9\n",
       "F     8\n",
       "E     8\n",
       "B     6\n",
       "A     5\n",
       "G     1\n",
       "H     1\n",
       "I     1\n",
       "J     1\n",
       "Name: count, dtype: int64"
      ]
     },
     "metadata": {},
     "output_type": "display_data"
    }
   ],
   "source": [
    "parcels = pd.concat([p1_parcel_gdf, p2_parcel_gdf, p3_parcel_gdf], ignore_index=True)\n",
    "\n",
    "display(parcels['OWNER'].value_counts())"
   ]
  },
  {
   "cell_type": "markdown",
   "metadata": {},
   "source": [
    "## <a id='toc1_3_'></a>[II. Clustering Workflow](#toc0_)\n",
    "### <a id='toc1_3_1_'></a>[Functions](#toc0_)\n",
    "#### <a id='toc1_3_1_1_'></a>[Step 1: Computing the Distance Matrix for each Region](#toc0_)\n",
    "This step gives us the inital matrix with valid distance between each polygon in the region. This will then be used to calculate the density of the region.\n",
    "#### <a id='toc1_3_1_2_'></a>[Step 2: Calculating the Density of the Region](#toc0_)\n",
    "Density of each Region is calculated by dviding the number of parcels by the range of the distance matrix. Doing so, will help us calculate a dynamic and optimal n_neighbor parameter for the KNN algorithm. \n",
    "#### <a id='toc1_3_1_3_'></a>[Step 3: Calculating the Nearest Neighbors Sample Size](#toc0_)\n",
    "The Number of Neighbors used in the KNN algorithm distaces how large the underlying clusters will be. The smaller the number of neighbors, the more more clusters will be localized. The larger the size, the looser the clusters will be. \n",
    "\n",
    "Ultimately, the number of neighbors will be used to calculate the optimal epsilon for the DBSCAN algorithm.\n",
    "#### <a id='toc1_3_1_4_'></a>[Step 4: Calculating the Optimal Epsilon](#toc0_)\n",
    "Computes the optimal distance for the DBSCAN algorithm:\n",
    "    -Nearest Neighbors is used to fit the distance matrix and compute the distances for n_neighbors nearest neighbors.\n",
    "    Dmatrix is reshaped to a 2d array to fit the Nearest Neighbors model.\n",
    "    -The distances are sorted and smoothed using a uniform filter. This gives us a smooth curve of sorted distances which helps make the elbow more accurate.\n",
    "    -The difference between the smoothed distances is computed to find the elbow point.\n",
    "    -The optimal distance is computed as the distance at the elbow point. This distance is then rounded up and constrained to be between the min_urban_distance and max_distance.\n",
    "    \n",
    "    CONSTANTS:\n",
    "    1. Min_urban_distance is the minimum distance between two likely neighbors. This could be the minimum distance across a street centerline to cluster neighboring parcels (i.e. 10 meters).\n",
    "    2. Max_distance is the maximum distance between two likely neighbors. This could be set to 200 meters.\n",
    "\n",
    "**What does the Optimal Epsilon represent?**\n",
    "The optimal eplison is the optimal distance threshold for the particular region. The distance threshold means that same owner parcels must be within this distance to be considered a cluster. \n",
    "\n",
    "It was important to calculate the corrrect n_neighbors because this influences the distance. Without understanding the regions density, the eplison may be too large and therefore, the resulting super parcels will overlap neighboring parcels. Conversely, it could also be too small, and not capture all same-owner parcels.\n",
    "\n",
    "#### <a id='toc1_3_1_5_'></a>[Step 5: Clustering the Data](#toc0_)\n",
    "This step applies the DBSCAN algorithm to each Owner in each region. The same workflow is used as in Phase I, but with the optimal eplison.\n",
    "\n"
   ]
  },
  {
   "cell_type": "code",
   "execution_count": 14,
   "metadata": {},
   "outputs": [],
   "source": [
    "def compute_regional_distance_matrix(df):\n",
    "    \"\"\"\n",
    "    Computes the Distance Matrix for all polygons in each region (i.e. Place)\n",
    "    Only the upper triangle of the matrix is computed as these are\n",
    "    valid distances between polygons. The diagonal is removed as the\n",
    "    distance between a polygon and itself is 0.\n",
    "    \"\"\"\n",
    "    distance_matrix = df.geometry.apply(lambda g: df.distance(g)).values\n",
    "    distances = distance_matrix[np.triu_indices_from(distance_matrix, k=1)]\n",
    "    distances = distances[distances > 0]\n",
    "\n",
    "    return distances\n",
    "\n",
    "def compute_density(dmatrix, num_parcels):\n",
    "    \"\"\"\n",
    "    Density = Number of Parcels / Range of the Distance Matrix\n",
    "    \"\"\"\n",
    "    density = len(sub_parcels) / np.ptp(dmatrix) \n",
    "    return density\n",
    "\n",
    "def compute_nneighbors(density, min_nneighbors):\n",
    "    \"\"\"\n",
    "    Scales the number of N Neighbors based on the density of the Region. \n",
    "    Takes the minimum of the computed value or the total number of parcels - 1\n",
    "    \"\"\"\n",
    "    n_neighbors = max(1, int(min_nneighbors / density))\n",
    "    return n_neighbors\n",
    "\n",
    "def compute_optimal_distance(dmatrix, n_neighbors, min_urban_distance, max_distance):\n",
    "    \"\"\"\n",
    "    Computes the optimal distance for the DBSCAN algorithm.\n",
    "        -Nearest Neighbors is used to fit the distance matrix and compute the distances for n_neighbors nearest neighbors.\n",
    "        Dmatrix is reshaped to a 2d array to fit the Nearest Neighbors model.\n",
    "        -The distances are sorted and smoothed using a uniform filter. This gives us a smooth curve of sorted sitances which helps make the elbow more accurate.\n",
    "        -The difference between the smoothed distances is computed to find the elbow point.\n",
    "        -The optimal distance is computed as the distance at the elbow point. This distance is then rounded up and constrained to be between the min_urban_distance and max_distance.\n",
    "        \n",
    "        Min_urban_distance is the minimum distance between two liekly neighbors.\n",
    "        Max_distance is the maximum distance between two likely neighbors. This will mostley be set to 200 meters.\n",
    "    \"\"\"\n",
    "    knn = NearestNeighbors(n_neighbors=n_neighbors).fit(dmatrix.reshape(-1, 1))\n",
    "    knn_distances, _ = knn.kneighbors(dmatrix.reshape(-1, 1))\n",
    "    sorted_distances = np.sort(knn_distances[:, -1])\n",
    "    smooth_dist = uniform_filter1d(sorted_distances, size=10)\n",
    "    difference = np.diff(smooth_dist)\n",
    "    elbow_index = np.argmax(difference) + 1\n",
    "\n",
    "    # take distance from KNN elbow --> must be greater than min_urban_distance and less than max_distance\n",
    "    knn_optimal_distance = smooth_dist[elbow_index]\n",
    "    optimal_distance = min(max(ceil(knn_optimal_distance), min_urban_distance), max_distance)\n",
    "    \n",
    "    return optimal_distance, knn_optimal_distance\n",
    "\n",
    "def polygon_distance(polygon1, polygon2):\n",
    "    # Calculate the minimum distance between two polygons\n",
    "    point1, point2 = nearest_points(polygon1, polygon2)\n",
    "    return point1.distance(point2)\n",
    "\n",
    "def compute_distance_matrix(polygons):\n",
    "    # Create a distance matrix between all polygons\n",
    "    num_polygons = len(polygons)\n",
    "    distance_matrix = np.zeros((num_polygons, num_polygons))\n",
    "    \n",
    "    for i in range(num_polygons):\n",
    "        for j in range(i + 1, num_polygons):\n",
    "            distance_matrix[i, j] = polygon_distance(polygons[i], polygons[j])\n",
    "            distance_matrix[j, i] = distance_matrix[i, j]  # Symmetry\n",
    "    \n",
    "    return distance_matrix\n"
   ]
  },
  {
   "cell_type": "code",
   "execution_count": 15,
   "metadata": {},
   "outputs": [
    {
     "name": "stdout",
     "output_type": "stream",
     "text": [
      "Processing place 1\n",
      "Density for Place 1: 3.0839062865407563\n",
      "Min N Neighbors for Place 1: 3\n",
      "N Neighbors for Place 1: 1\n",
      "KNN distance for Place 1: 0.0\n",
      "Optimal distance for Place 1: 2\n",
      "________________________________________________________\n",
      "Processing place 2\n",
      "Density for Place 2: 3.0839062865407563\n",
      "Min N Neighbors for Place 2: 3\n",
      "N Neighbors for Place 2: 1\n",
      "KNN distance for Place 2: 0.0\n",
      "Optimal distance for Place 2: 2\n",
      "________________________________________________________\n",
      "Processing place 3\n",
      "Density for Place 3: 0.6480627122784074\n",
      "Min N Neighbors for Place 3: 3\n",
      "N Neighbors for Place 3: 4\n",
      "KNN distance for Place 3: 1.0844364454059576\n",
      "Optimal distance for Place 3: 2\n",
      "________________________________________________________\n"
     ]
    }
   ],
   "source": [
    "sample_size = 3 # clusters must have at least 3 parcels\n",
    "min_urban_distance = 2 # min. distance between two likely neighbors\n",
    "max_distance = 5 # max. distance between two likely neighbors\n",
    "\n",
    "\n",
    "all_clustered_parcel_data = gpd.GeoDataFrame()\n",
    "all_single_parcel_data = gpd.GeoDataFrame()\n",
    "for place_id, place_data in place_gdf.iterrows():\n",
    "    place_id += 1\n",
    "    print(f\"Processing place {place_id}\")\n",
    "    sub_parcels = parcels[parcels.within(place_data['geometry'])]\n",
    "    \n",
    "    distances = compute_regional_distance_matrix(sub_parcels)\n",
    "   \n",
    "    density = compute_density(distances, len(sub_parcels))\n",
    "\n",
    "    min_nneighbors = max(0.1 * len(sub_parcels), 3) # 10% of the total number of parcels\n",
    "    n_neighbors = compute_nneighbors(density, min_nneighbors)\n",
    "\n",
    "    optimal_distance, knn_optimal_distance = compute_optimal_distance(distances, n_neighbors, min_urban_distance, max_distance)\n",
    "\n",
    "    print(f'Density for Place {place_id}: {density}')\n",
    "    print(f'Min N Neighbors for Place {place_id}: {min_nneighbors}')\n",
    "    print(f'N Neighbors for Place {place_id}: {n_neighbors}')\n",
    "    print(f'KNN distance for Place {place_id}: {knn_optimal_distance}')\n",
    "    print(f\"Optimal distance for Place {place_id}: {optimal_distance}\")\n",
    "    unique_owners = sub_parcels['OWNER'].unique()\n",
    "    clustered_parcel_data = gpd.GeoDataFrame()\n",
    "    single_parcel_data = gpd.GeoDataFrame()\n",
    "    \n",
    "    for owner in unique_owners:\n",
    "        owner_parcels = sub_parcels[sub_parcels['OWNER'] == owner]\n",
    "        #print(f\"Owner {owner} has {len(owner_parcels)} parcels\")\n",
    "        polygons = owner_parcels['geometry'].to_list()\n",
    "        distance_matrix = compute_distance_matrix(polygons)\n",
    "        if distance_matrix.shape[0] < 3: # only two parcels\n",
    "            continue\n",
    "\n",
    "        dbscan = DBSCAN(eps=optimal_distance, min_samples=sample_size, metric='precomputed')\n",
    "        clusters = dbscan.fit_predict(distance_matrix)\n",
    "\n",
    "        owner_parcels['cluster'] = clusters # clustert ID\n",
    "        owner_parcels['area'] = owner_parcels['geometry'].area\n",
    "        counts = owner_parcels['cluster'].value_counts() # pd.series of cluster counts\n",
    "        \n",
    "        outliers = counts[counts.index == -1].index # outliers always identified as -1\n",
    "        counts = counts[counts.index != -1] # drop outliers\n",
    "\n",
    "        single_parcel_filter_ids = set(list(outliers)) # not apart of any cluster\n",
    "            \n",
    "        single_parcel_filter = owner_parcels[owner_parcels['cluster'].isin(single_parcel_filter_ids)]\n",
    "        single_parcel_data = pd.concat([single_parcel_data, single_parcel_filter], ignore_index=True)\n",
    "        \n",
    "        cluster_filter = owner_parcels[~owner_parcels['cluster'].isin(single_parcel_filter_ids)]\n",
    "        if len(cluster_filter) > 0:\n",
    "            cluster_filter['pcount'] = cluster_filter['cluster'].map(counts) # add parcel count to filter dataframe\n",
    "            cluster_filter['knn_dst'] = knn_optimal_distance\n",
    "            cluster_filter['opt_dst'] = optimal_distance # dbscan distane is euivalent to the required buffer distance\n",
    "            cluster_filter['place_id'] = place_id\n",
    "            clustered_parcel_data = pd.concat([clustered_parcel_data, cluster_filter], ignore_index=True)\n",
    "\n",
    "    # create cluster ID\n",
    "    if len(clustered_parcel_data) != 0:\n",
    "        clustered_parcel_data['cluster_ID'] = clustered_parcel_data['OWNER'] + '_' + str(place_id) + '_' + clustered_parcel_data['cluster'].astype(str)\n",
    "        all_clustered_parcel_data = pd.concat([all_clustered_parcel_data, clustered_parcel_data], ignore_index=True)\n",
    "    all_single_parcel_data = pd.concat([all_single_parcel_data, single_parcel_data], ignore_index=True)\n",
    "\n",
    "        \n",
    "\n",
    "    \n",
    "\n",
    "    print('________________________________________________________')\n",
    "    "
   ]
  },
  {
   "cell_type": "markdown",
   "metadata": {},
   "source": [
    "\n",
    "#### <a id='toc1_3_1_6_'></a>[Understanding The Variables](#toc0_)\n",
    "\n",
    "- **Density**: The density of the region. This is the number of parcels divided by the range of the distance matrix. Higher the value, the more dense the region.\n",
    "&nbsp;\n",
    "\n",
    "- **Minimum Nearest Neighbors**: Either a constant (3 in this case) or 10% of the number of parcels in the region, whichever is greater.\n",
    "&nbsp;\n",
    "\n",
    "- **N Neighbors**: Min Neighbors divided by the density of region. Therefore, more neighbors are used to calculate the eplison in sparse regions and less neighbors are used in dense regions.\n",
    "  - eg. High Density: min_neighbors = 3, density = 10, n_neighbors = 0.3\n",
    "  - eg. Low Density: min_neighbors = 3, density = 1, n_neighbors = 3\n",
    "&nbsp;\n",
    "\n",
    "- **KNN Distance**: Calculated optimal distance from the KNN algorithm (i.e. the elbow)\n",
    "&nbsp;\n",
    "\n",
    "- **Optimal Distance**: The KNN distance greater than the minimum urban distance and less than the max distance.\n",
    "\n"
   ]
  },
  {
   "cell_type": "code",
   "execution_count": 16,
   "metadata": {},
   "outputs": [
    {
     "data": {
      "text/html": [
       "<div>\n",
       "<style scoped>\n",
       "    .dataframe tbody tr th:only-of-type {\n",
       "        vertical-align: middle;\n",
       "    }\n",
       "\n",
       "    .dataframe tbody tr th {\n",
       "        vertical-align: top;\n",
       "    }\n",
       "\n",
       "    .dataframe thead th {\n",
       "        text-align: right;\n",
       "    }\n",
       "</style>\n",
       "<table border=\"1\" class=\"dataframe\">\n",
       "  <thead>\n",
       "    <tr style=\"text-align: right;\">\n",
       "      <th></th>\n",
       "      <th>cluster_ID</th>\n",
       "      <th>geometry</th>\n",
       "      <th>OWNER</th>\n",
       "      <th>cluster</th>\n",
       "      <th>area</th>\n",
       "      <th>pcount</th>\n",
       "      <th>knn_dst</th>\n",
       "      <th>opt_dst</th>\n",
       "      <th>place_id</th>\n",
       "    </tr>\n",
       "  </thead>\n",
       "  <tbody>\n",
       "    <tr>\n",
       "      <th>0</th>\n",
       "      <td>B_3_0</td>\n",
       "      <td>MULTIPOLYGON (((14.00000 10.00000, 14.00000 12...</td>\n",
       "      <td>B</td>\n",
       "      <td>0</td>\n",
       "      <td>4.0</td>\n",
       "      <td>3</td>\n",
       "      <td>1.084436</td>\n",
       "      <td>2</td>\n",
       "      <td>3</td>\n",
       "    </tr>\n",
       "    <tr>\n",
       "      <th>1</th>\n",
       "      <td>C_2_0</td>\n",
       "      <td>POLYGON ((2.00000 14.00000, 0.00000 14.00000, ...</td>\n",
       "      <td>C</td>\n",
       "      <td>0</td>\n",
       "      <td>4.0</td>\n",
       "      <td>3</td>\n",
       "      <td>0.000000</td>\n",
       "      <td>2</td>\n",
       "      <td>2</td>\n",
       "    </tr>\n",
       "    <tr>\n",
       "      <th>2</th>\n",
       "      <td>C_2_1</td>\n",
       "      <td>POLYGON ((8.00000 16.00000, 6.00000 16.00000, ...</td>\n",
       "      <td>C</td>\n",
       "      <td>1</td>\n",
       "      <td>4.0</td>\n",
       "      <td>3</td>\n",
       "      <td>0.000000</td>\n",
       "      <td>2</td>\n",
       "      <td>2</td>\n",
       "    </tr>\n",
       "    <tr>\n",
       "      <th>3</th>\n",
       "      <td>D_1_0</td>\n",
       "      <td>MULTIPOLYGON (((0.00000 0.00000, 0.00000 2.000...</td>\n",
       "      <td>D</td>\n",
       "      <td>0</td>\n",
       "      <td>4.0</td>\n",
       "      <td>5</td>\n",
       "      <td>0.000000</td>\n",
       "      <td>2</td>\n",
       "      <td>1</td>\n",
       "    </tr>\n",
       "    <tr>\n",
       "      <th>4</th>\n",
       "      <td>E_1_0</td>\n",
       "      <td>POLYGON ((4.00000 4.00000, 2.00000 4.00000, 2....</td>\n",
       "      <td>E</td>\n",
       "      <td>0</td>\n",
       "      <td>4.0</td>\n",
       "      <td>5</td>\n",
       "      <td>0.000000</td>\n",
       "      <td>2</td>\n",
       "      <td>1</td>\n",
       "    </tr>\n",
       "    <tr>\n",
       "      <th>5</th>\n",
       "      <td>F_1_0</td>\n",
       "      <td>POLYGON ((10.00000 6.00000, 8.00000 6.00000, 8...</td>\n",
       "      <td>F</td>\n",
       "      <td>0</td>\n",
       "      <td>4.0</td>\n",
       "      <td>3</td>\n",
       "      <td>0.000000</td>\n",
       "      <td>2</td>\n",
       "      <td>1</td>\n",
       "    </tr>\n",
       "    <tr>\n",
       "      <th>6</th>\n",
       "      <td>F_2_0</td>\n",
       "      <td>MULTIPOLYGON (((6.00000 14.00000, 6.00000 16.0...</td>\n",
       "      <td>F</td>\n",
       "      <td>0</td>\n",
       "      <td>4.0</td>\n",
       "      <td>4</td>\n",
       "      <td>0.000000</td>\n",
       "      <td>2</td>\n",
       "      <td>2</td>\n",
       "    </tr>\n",
       "  </tbody>\n",
       "</table>\n",
       "</div>"
      ],
      "text/plain": [
       "  cluster_ID                                           geometry OWNER  \\\n",
       "0      B_3_0  MULTIPOLYGON (((14.00000 10.00000, 14.00000 12...     B   \n",
       "1      C_2_0  POLYGON ((2.00000 14.00000, 0.00000 14.00000, ...     C   \n",
       "2      C_2_1  POLYGON ((8.00000 16.00000, 6.00000 16.00000, ...     C   \n",
       "3      D_1_0  MULTIPOLYGON (((0.00000 0.00000, 0.00000 2.000...     D   \n",
       "4      E_1_0  POLYGON ((4.00000 4.00000, 2.00000 4.00000, 2....     E   \n",
       "5      F_1_0  POLYGON ((10.00000 6.00000, 8.00000 6.00000, 8...     F   \n",
       "6      F_2_0  MULTIPOLYGON (((6.00000 14.00000, 6.00000 16.0...     F   \n",
       "\n",
       "   cluster  area  pcount   knn_dst  opt_dst  place_id  \n",
       "0        0   4.0       3  1.084436        2         3  \n",
       "1        0   4.0       3  0.000000        2         2  \n",
       "2        1   4.0       3  0.000000        2         2  \n",
       "3        0   4.0       5  0.000000        2         1  \n",
       "4        0   4.0       5  0.000000        2         1  \n",
       "5        0   4.0       3  0.000000        2         1  \n",
       "6        0   4.0       4  0.000000        2         2  "
      ]
     },
     "execution_count": 16,
     "metadata": {},
     "output_type": "execute_result"
    }
   ],
   "source": [
    "parcel_dissolve = all_clustered_parcel_data.dissolve(by='cluster_ID').reset_index()\n",
    "parcel_dissolve"
   ]
  },
  {
   "cell_type": "code",
   "execution_count": 17,
   "metadata": {},
   "outputs": [],
   "source": [
    "parcel_dissolve['geometry'] = parcel_dissolve.apply(lambda x: x['geometry'].buffer(x['opt_dst']), axis=1)\n",
    "parcel_dissolve['geometry'] = parcel_dissolve.apply(lambda x: x['geometry'].buffer(-x['opt_dst']), axis=1)\n",
    "parcel_dissolve = parcel_dissolve.explode(index_parts=True)\n"
   ]
  },
  {
   "cell_type": "code",
   "execution_count": 18,
   "metadata": {},
   "outputs": [
    {
     "data": {
      "image/png": "[encoded data removed]",
      "text/plain": [
       "<Figure size 640x480 with 1 Axes>"
      ]
     },
     "metadata": {},
     "output_type": "display_data"
    }
   ],
   "source": [
    "cluster_map = Map()\n",
    "cluster_map.add_gdf(parcel_dissolve, alpha=0, edgecolor='red', label='OWNER', label_color='red')\n",
    "cluster_map.plot()"
   ]
  },
  {
   "cell_type": "code",
   "execution_count": 19,
   "metadata": {},
   "outputs": [],
   "source": [
    "map.add_gdf(parcel_dissolve, alpha=0, edgecolor='red', label='OWNER', label_color='red')"
   ]
  },
  {
   "cell_type": "code",
   "execution_count": 20,
   "metadata": {},
   "outputs": [
    {
     "data": {
      "image/png": "[encoded data removed]",
      "text/plain": [
       "<Figure size 640x480 with 1 Axes>"
      ]
     },
     "metadata": {},
     "output_type": "display_data"
    }
   ],
   "source": [
    "map.plot()"
   ]
  },
  {
   "cell_type": "markdown",
   "metadata": {},
   "source": [
    "## <a id='toc1_4_'></a>[III. Results](#toc0_)\n",
    "We see that each region has effectively captured same-owner parcels **within** each place boundary. **However**, is has NOT effectively captured same-owner parcels **between** place boundaries. \n",
    "\n",
    "If the distance between **P1** and **P2** is within the optimal distance, then same-owner **E** and **F** should have been a signle cluster. We see that two E-parcels in P2 were not clustered at all because they fell under the sample size of 3. Alternatively, we don't want the F-cluster in P1 to associate with the F-cluster in P3. These two regions are too far apart. \n",
    "\n",
    "This identifies a need to solve **Cross-Region Clustering**. This will be addressed below..."
   ]
  },
  {
   "cell_type": "markdown",
   "metadata": {},
   "source": [
    "## <a id='toc1_5_'></a>[IV. Cross-Region Clustering](#toc0_)"
   ]
  },
  {
   "cell_type": "markdown",
   "metadata": {},
   "source": [
    "### <a id='toc1_5_1_'></a>[Step 1: Identify Single Parcels within the Optimal Distance](#toc0_)\n"
   ]
  },
  {
   "cell_type": "code",
   "execution_count": 21,
   "metadata": {},
   "outputs": [],
   "source": [
    "for single_id, single_data in all_single_parcel_data.iterrows():\n",
    "    owner = single_data['OWNER']\n",
    "    same_owner_n = all_clustered_parcel_data[(all_clustered_parcel_data['OWNER'] == owner)]\n",
    "    if same_owner_n.empty:\n",
    "        continue\n",
    "    same_owner_n['cross_dist'] = same_owner_n['geometry'].apply(lambda x: polygon_distance(x, single_data['geometry']))\n",
    "    same_owner_nclusters = same_owner_n.loc[same_owner_n['cross_dist'] <= 3]\n",
    "    \n",
    "    \n",
    "    if same_owner_nclusters.empty:\n",
    "        continue\n",
    "\n",
    "    same_owner_ncluster = same_owner_nclusters.loc[same_owner_nclusters['cross_dist'].idxmin(), 'cluster_ID']\n",
    "   \n",
    "    add_single = all_single_parcel_data[all_single_parcel_data.index == single_id][['OWNER', 'geometry']]\n",
    "    merge_n = all_clustered_parcel_data[all_clustered_parcel_data['cluster_ID'] == same_owner_ncluster]\n",
    "    all_clustered_parcel_data = all_clustered_parcel_data[all_clustered_parcel_data['cluster_ID'] != same_owner_ncluster]\n",
    "\n",
    "    same_owner_merge = pd.concat([same_owner_n, add_single], ignore_index=True).drop(columns=['cross_dist'])\n",
    "    new_row_index = same_owner_merge.index[-1]\n",
    "    source_row_index = same_owner_merge.index[0]\n",
    "    for col in same_owner_merge.columns:\n",
    "        if col != 'geometry':  # Skip the geometry field\n",
    "            same_owner_merge.at[new_row_index, col] = same_owner_merge.at[source_row_index, col]\n",
    "\n",
    "    all_clustered_parcel_data = pd.concat([all_clustered_parcel_data, same_owner_merge], ignore_index=True)\n",
    "\n",
    "    \n",
    "    \n",
    "    \n",
    "    "
   ]
  },
  {
   "cell_type": "markdown",
   "metadata": {},
   "source": [
    "### <a id='toc1_5_2_'></a>[Step 2: Identify Same-Owner Clusters in different regions within the Optimal Distance](#toc0_)"
   ]
  },
  {
   "cell_type": "code",
   "execution_count": 22,
   "metadata": {},
   "outputs": [],
   "source": [
    "def merge_cross_region_clusters(df, max_merge_distance=4):\n",
    "    # Step 1: Identify owners spanning multiple regions\n",
    "    owner_region_count = df.groupby(['OWNER', 'place_id']).size().unstack(fill_value=0)\n",
    "    multi_region_owners = owner_region_count[owner_region_count.sum(axis=1) > 1].index\n",
    "\n",
    "    # Step 2: For each multi-region owner, check distances between clusters\n",
    "    for owner in multi_region_owners:\n",
    "        \n",
    "        owner_df = df[df['OWNER'] == owner]\n",
    "        \n",
    "        # Extract centroids for each cluster of the owner\n",
    "        centroids = owner_df.geometry.centroid\n",
    "        coords = list(zip(centroids.x, centroids.y))\n",
    "\n",
    "        # Build a KDTree for fast distance lookup\n",
    "        tree = cKDTree(coords)\n",
    "\n",
    "        # Find pairs of clusters within the max_merge_distance\n",
    "        pairs = tree.query_pairs(max_merge_distance)\n",
    "        \n",
    "        # Merge clusters if they are close enough\n",
    "        for i, j in pairs:\n",
    "            cluster_i = owner_df.iloc[i]['cluster_ID']\n",
    "            cluster_j = owner_df.iloc[j]['cluster_ID']\n",
    "\n",
    "            # Update cluster_ID to merge them\n",
    "            df.loc[df['cluster_ID'] == cluster_j, 'cluster_ID'] = cluster_i\n",
    "\n",
    "    return df\n"
   ]
  },
  {
   "cell_type": "markdown",
   "metadata": {},
   "source": [
    "### <a id='toc1_5_3_'></a>[Step 3: Dissolve and Reverse Buffer](#toc0_)"
   ]
  },
  {
   "cell_type": "code",
   "execution_count": 23,
   "metadata": {},
   "outputs": [],
   "source": [
    "all_clustered_parcel_data_merged = merge_cross_region_clusters(all_clustered_parcel_data)"
   ]
  },
  {
   "cell_type": "code",
   "execution_count": 24,
   "metadata": {},
   "outputs": [
    {
     "data": {
      "text/html": [
       "<div>\n",
       "<style scoped>\n",
       "    .dataframe tbody tr th:only-of-type {\n",
       "        vertical-align: middle;\n",
       "    }\n",
       "\n",
       "    .dataframe tbody tr th {\n",
       "        vertical-align: top;\n",
       "    }\n",
       "\n",
       "    .dataframe thead th {\n",
       "        text-align: right;\n",
       "    }\n",
       "</style>\n",
       "<table border=\"1\" class=\"dataframe\">\n",
       "  <thead>\n",
       "    <tr style=\"text-align: right;\">\n",
       "      <th></th>\n",
       "      <th>cluster_ID</th>\n",
       "      <th>geometry</th>\n",
       "      <th>OWNER</th>\n",
       "      <th>cluster</th>\n",
       "      <th>area</th>\n",
       "      <th>pcount</th>\n",
       "      <th>knn_dst</th>\n",
       "      <th>opt_dst</th>\n",
       "      <th>place_id</th>\n",
       "    </tr>\n",
       "  </thead>\n",
       "  <tbody>\n",
       "    <tr>\n",
       "      <th>0</th>\n",
       "      <td>B_3_0</td>\n",
       "      <td>MULTIPOLYGON (((14.00000 10.00000, 14.00000 12...</td>\n",
       "      <td>B</td>\n",
       "      <td>0.0</td>\n",
       "      <td>4.0</td>\n",
       "      <td>3.0</td>\n",
       "      <td>1.084436</td>\n",
       "      <td>2.0</td>\n",
       "      <td>3.0</td>\n",
       "    </tr>\n",
       "    <tr>\n",
       "      <th>1</th>\n",
       "      <td>C_2_0</td>\n",
       "      <td>POLYGON ((2.00000 14.00000, 0.00000 14.00000, ...</td>\n",
       "      <td>C</td>\n",
       "      <td>0.0</td>\n",
       "      <td>4.0</td>\n",
       "      <td>3.0</td>\n",
       "      <td>0.000000</td>\n",
       "      <td>2.0</td>\n",
       "      <td>2.0</td>\n",
       "    </tr>\n",
       "    <tr>\n",
       "      <th>2</th>\n",
       "      <td>C_2_1</td>\n",
       "      <td>POLYGON ((8.00000 16.00000, 6.00000 16.00000, ...</td>\n",
       "      <td>C</td>\n",
       "      <td>1.0</td>\n",
       "      <td>4.0</td>\n",
       "      <td>3.0</td>\n",
       "      <td>0.000000</td>\n",
       "      <td>2.0</td>\n",
       "      <td>2.0</td>\n",
       "    </tr>\n",
       "    <tr>\n",
       "      <th>3</th>\n",
       "      <td>D_1_0</td>\n",
       "      <td>MULTIPOLYGON (((0.00000 0.00000, 0.00000 2.000...</td>\n",
       "      <td>D</td>\n",
       "      <td>0.0</td>\n",
       "      <td>4.0</td>\n",
       "      <td>5.0</td>\n",
       "      <td>0.000000</td>\n",
       "      <td>2.0</td>\n",
       "      <td>1.0</td>\n",
       "    </tr>\n",
       "    <tr>\n",
       "      <th>4</th>\n",
       "      <td>E_1_0</td>\n",
       "      <td>MULTIPOLYGON (((2.00000 4.00000, 2.00000 6.000...</td>\n",
       "      <td>E</td>\n",
       "      <td>0.0</td>\n",
       "      <td>4.0</td>\n",
       "      <td>5.0</td>\n",
       "      <td>0.000000</td>\n",
       "      <td>2.0</td>\n",
       "      <td>1.0</td>\n",
       "    </tr>\n",
       "    <tr>\n",
       "      <th>5</th>\n",
       "      <td>F_1_0</td>\n",
       "      <td>MULTIPOLYGON (((8.00000 6.00000, 8.00000 8.000...</td>\n",
       "      <td>F</td>\n",
       "      <td>0.0</td>\n",
       "      <td>4.0</td>\n",
       "      <td>3.0</td>\n",
       "      <td>0.000000</td>\n",
       "      <td>2.0</td>\n",
       "      <td>1.0</td>\n",
       "    </tr>\n",
       "  </tbody>\n",
       "</table>\n",
       "</div>"
      ],
      "text/plain": [
       "  cluster_ID                                           geometry OWNER  \\\n",
       "0      B_3_0  MULTIPOLYGON (((14.00000 10.00000, 14.00000 12...     B   \n",
       "1      C_2_0  POLYGON ((2.00000 14.00000, 0.00000 14.00000, ...     C   \n",
       "2      C_2_1  POLYGON ((8.00000 16.00000, 6.00000 16.00000, ...     C   \n",
       "3      D_1_0  MULTIPOLYGON (((0.00000 0.00000, 0.00000 2.000...     D   \n",
       "4      E_1_0  MULTIPOLYGON (((2.00000 4.00000, 2.00000 6.000...     E   \n",
       "5      F_1_0  MULTIPOLYGON (((8.00000 6.00000, 8.00000 8.000...     F   \n",
       "\n",
       "   cluster  area  pcount   knn_dst  opt_dst  place_id  \n",
       "0      0.0   4.0     3.0  1.084436      2.0       3.0  \n",
       "1      0.0   4.0     3.0  0.000000      2.0       2.0  \n",
       "2      1.0   4.0     3.0  0.000000      2.0       2.0  \n",
       "3      0.0   4.0     5.0  0.000000      2.0       1.0  \n",
       "4      0.0   4.0     5.0  0.000000      2.0       1.0  \n",
       "5      0.0   4.0     3.0  0.000000      2.0       1.0  "
      ]
     },
     "execution_count": 24,
     "metadata": {},
     "output_type": "execute_result"
    }
   ],
   "source": [
    "parcel_dissolve_merge = all_clustered_parcel_data_merged.dissolve(by='cluster_ID').reset_index()\n",
    "parcel_dissolve_merge"
   ]
  },
  {
   "cell_type": "code",
   "execution_count": 25,
   "metadata": {},
   "outputs": [],
   "source": [
    "parcel_dissolve_merge['geometry'] = parcel_dissolve_merge.apply(lambda x: x['geometry'].buffer(x['opt_dst']), axis=1)\n",
    "parcel_dissolve_merge['geometry'] = parcel_dissolve_merge.apply(lambda x: x['geometry'].buffer(-x['opt_dst']), axis=1)"
   ]
  },
  {
   "cell_type": "markdown",
   "metadata": {},
   "source": [
    "## <a id='toc1_6_'></a>[V. Cross-Region Clustering Results](#toc0_)"
   ]
  },
  {
   "cell_type": "markdown",
   "metadata": {},
   "source": [
    "The results of this process have added **P2-E** and **P2-F** to **P1-E** and **P1-F** respectively. This is because the distance between **P1** and **P2** is within the optimal distance.\n",
    "\n",
    "#### <a id='toc1_6_1_1_'></a>[Final Thoughts:](#toc0_)\n",
    "- The process has effectively clustered same-owner parcels within each place boundary using a dynamically calcualted eplison based on the density of the region.\n",
    "- The process has also effectively clustered same-owner parcels between place boundaries using a cross-region clustering process.\n"
   ]
  },
  {
   "cell_type": "code",
   "execution_count": 26,
   "metadata": {},
   "outputs": [
    {
     "data": {
      "image/png": "[encoded data removed]",
      "text/plain": [
       "<Figure size 640x480 with 1 Axes>"
      ]
     },
     "metadata": {},
     "output_type": "display_data"
    }
   ],
   "source": [
    "map.remove(parcel_dissolve)\n",
    "map.add_gdf(parcel_dissolve_merge, alpha=0, edgecolor='red', label='OWNER', label_color='red', linewidth=2)\n",
    "map.plot()"
   ]
  }
 ],
 "metadata": {
  "kernelspec": {
   "display_name": "growth_model",
   "language": "python",
   "name": "python3"
  },
  "language_info": {
   "codemirror_mode": {
    "name": "ipython",
    "version": 3
   },
   "file_extension": ".py",
   "mimetype": "text/x-python",
   "name": "python",
   "nbconvert_exporter": "python",
   "pygments_lexer": "ipython3",
   "version": "3.11.4"
  }
 },
 "nbformat": 4,
 "nbformat_minor": 2
}
