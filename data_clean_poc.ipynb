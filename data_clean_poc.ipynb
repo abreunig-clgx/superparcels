{
 "cells": [
  {
   "cell_type": "code",
   "execution_count": 11,
   "metadata": {},
   "outputs": [],
   "source": [
    "import os\n",
    "import geopandas as gpd\n",
    "import pandas as pd\n",
    "from shapely import wkt\n",
    "import glob"
   ]
  },
  {
   "cell_type": "code",
   "execution_count": 12,
   "metadata": {},
   "outputs": [],
   "source": [
    "data_path = r'D:\\Projects\\superparcels\\data\\abreunig_pocs_spatialrecord_polygon_superparcel_rural.csv'"
   ]
  },
  {
   "cell_type": "code",
   "execution_count": 13,
   "metadata": {},
   "outputs": [],
   "source": [
    "data_dir = r'D:\\Projects\\superparcels\\data\\Rural'"
   ]
  },
  {
   "cell_type": "code",
   "execution_count": 14,
   "metadata": {},
   "outputs": [],
   "source": [
    "df = pd.read_csv(data_path, dtype={'FIPS': str})"
   ]
  },
  {
   "cell_type": "code",
   "execution_count": 15,
   "metadata": {},
   "outputs": [],
   "source": [
    "fips = df['FIPS'].unique()\n"
   ]
  },
  {
   "cell_type": "code",
   "execution_count": 16,
   "metadata": {},
   "outputs": [
    {
     "data": {
      "text/plain": [
       "array(['55107', '20097', '41013', '35051'], dtype=object)"
      ]
     },
     "execution_count": 16,
     "metadata": {},
     "output_type": "execute_result"
    }
   ],
   "source": [
    "fips"
   ]
  },
  {
   "cell_type": "code",
   "execution_count": 17,
   "metadata": {},
   "outputs": [
    {
     "name": "stdout",
     "output_type": "stream",
     "text": [
      "55107\n",
      "20097\n",
      "41013\n",
      "35051\n"
     ]
    }
   ],
   "source": [
    "for fip in fips:\n",
    "    print(fip)\n",
    "    df_fip = df[df['FIPS'] == fip]\n",
    "    gdf = gpd.GeoDataFrame(df_fip, geometry=df_fip['geometry'].apply(wkt.loads), crs=4326)\n",
    "    gdf.to_file(os.path.join(data_dir, f'sp_sample_{fip}.shp'))\n"
   ]
  },
  {
   "cell_type": "markdown",
   "metadata": {},
   "source": [
    "Clean parcel urban and remove duplicate geometries for clustering POC"
   ]
  },
  {
   "cell_type": "code",
   "execution_count": 18,
   "metadata": {},
   "outputs": [],
   "source": [
    "input_dir = r'D:\\Projects\\superparcels\\data\\Rural'"
   ]
  },
  {
   "cell_type": "code",
   "execution_count": 20,
   "metadata": {},
   "outputs": [
    {
     "name": "stdout",
     "output_type": "stream",
     "text": [
      "D:\\Projects\\superparcels\\data\\Rural\\sp_sample_20097.shp\n"
     ]
    },
    {
     "name": "stderr",
     "output_type": "stream",
     "text": [
      "C:\\Users\\abreunig\\AppData\\Local\\Temp\\2\\ipykernel_10820\\801280174.py:30: UserWarning: Column names longer than 10 characters will be truncated when saved to ESRI Shapefile.\n",
      "  code.to_file(os.path.join(input_dir, f'sp_sample_{fips}_code{codes}.shp'))\n",
      "C:\\Users\\abreunig\\AppData\\Local\\Temp\\2\\ipykernel_10820\\801280174.py:30: UserWarning: Column names longer than 10 characters will be truncated when saved to ESRI Shapefile.\n",
      "  code.to_file(os.path.join(input_dir, f'sp_sample_{fips}_code{codes}.shp'))\n",
      "C:\\Users\\abreunig\\AppData\\Local\\Temp\\2\\ipykernel_10820\\801280174.py:34: UserWarning: Column names longer than 10 characters will be truncated when saved to ESRI Shapefile.\n",
      "  cluster.to_file(os.path.join(input_dir, f'sp_sample_{fips}_cluster_canidates.shp'))\n"
     ]
    },
    {
     "name": "stdout",
     "output_type": "stream",
     "text": [
      "D:\\Projects\\superparcels\\data\\Rural\\sp_sample_35051.shp\n"
     ]
    },
    {
     "name": "stderr",
     "output_type": "stream",
     "text": [
      "C:\\Users\\abreunig\\AppData\\Local\\Temp\\2\\ipykernel_10820\\801280174.py:30: UserWarning: Column names longer than 10 characters will be truncated when saved to ESRI Shapefile.\n",
      "  code.to_file(os.path.join(input_dir, f'sp_sample_{fips}_code{codes}.shp'))\n",
      "C:\\Users\\abreunig\\AppData\\Local\\Temp\\2\\ipykernel_10820\\801280174.py:30: UserWarning: Column names longer than 10 characters will be truncated when saved to ESRI Shapefile.\n",
      "  code.to_file(os.path.join(input_dir, f'sp_sample_{fips}_code{codes}.shp'))\n",
      "C:\\Users\\abreunig\\AppData\\Local\\Temp\\2\\ipykernel_10820\\801280174.py:34: UserWarning: Column names longer than 10 characters will be truncated when saved to ESRI Shapefile.\n",
      "  cluster.to_file(os.path.join(input_dir, f'sp_sample_{fips}_cluster_canidates.shp'))\n"
     ]
    },
    {
     "name": "stdout",
     "output_type": "stream",
     "text": [
      "D:\\Projects\\superparcels\\data\\Rural\\sp_sample_41013.shp\n"
     ]
    },
    {
     "name": "stderr",
     "output_type": "stream",
     "text": [
      "C:\\Users\\abreunig\\AppData\\Local\\Temp\\2\\ipykernel_10820\\801280174.py:30: UserWarning: Column names longer than 10 characters will be truncated when saved to ESRI Shapefile.\n",
      "  code.to_file(os.path.join(input_dir, f'sp_sample_{fips}_code{codes}.shp'))\n",
      "C:\\Users\\abreunig\\AppData\\Local\\Temp\\2\\ipykernel_10820\\801280174.py:30: UserWarning: Column names longer than 10 characters will be truncated when saved to ESRI Shapefile.\n",
      "  code.to_file(os.path.join(input_dir, f'sp_sample_{fips}_code{codes}.shp'))\n",
      "C:\\Users\\abreunig\\AppData\\Local\\Temp\\2\\ipykernel_10820\\801280174.py:34: UserWarning: Column names longer than 10 characters will be truncated when saved to ESRI Shapefile.\n",
      "  cluster.to_file(os.path.join(input_dir, f'sp_sample_{fips}_cluster_canidates.shp'))\n"
     ]
    },
    {
     "name": "stdout",
     "output_type": "stream",
     "text": [
      "D:\\Projects\\superparcels\\data\\Rural\\sp_sample_55107.shp\n"
     ]
    },
    {
     "name": "stderr",
     "output_type": "stream",
     "text": [
      "C:\\Users\\abreunig\\AppData\\Local\\Temp\\2\\ipykernel_10820\\801280174.py:30: UserWarning: Column names longer than 10 characters will be truncated when saved to ESRI Shapefile.\n",
      "  code.to_file(os.path.join(input_dir, f'sp_sample_{fips}_code{codes}.shp'))\n",
      "C:\\Users\\abreunig\\AppData\\Local\\Temp\\2\\ipykernel_10820\\801280174.py:30: UserWarning: Column names longer than 10 characters will be truncated when saved to ESRI Shapefile.\n",
      "  code.to_file(os.path.join(input_dir, f'sp_sample_{fips}_code{codes}.shp'))\n",
      "C:\\Users\\abreunig\\AppData\\Local\\Temp\\2\\ipykernel_10820\\801280174.py:34: UserWarning: Column names longer than 10 characters will be truncated when saved to ESRI Shapefile.\n",
      "  cluster.to_file(os.path.join(input_dir, f'sp_sample_{fips}_cluster_canidates.shp'))\n"
     ]
    }
   ],
   "source": [
    "for fi in glob.glob(os.path.join(input_dir, '*.shp')):\n",
    "    print(fi)\n",
    "    fips = os.path.basename(fi).split('_')[-1].split('.')[0]\n",
    "    \n",
    "    df = gpd.read_file(fi)\n",
    "    # Identify duplicate owners, addresses, and geometries\n",
    "    df['duplicate_owner'] = df.duplicated(subset=['OWNER'], keep=False)\n",
    "    df['duplicate_geometry'] = df.duplicated(subset=['geometry'], keep=False)\n",
    "\n",
    "    # Create a classification column based on duplication status (with geometry)\n",
    "    df['classification'] = df.apply(\n",
    "        lambda row: (\n",
    "            'Class1: Duplicate Owner & Geometry' if row['duplicate_owner'] and row['duplicate_geometry'] else\n",
    "            'Class2: Duplicate Owner' if row['duplicate_owner'] else\n",
    "            'Class3: Duplicate Geometry' if row['duplicate_geometry'] else\n",
    "            'Class4: Unique'\n",
    "        ), axis=1\n",
    "    )\n",
    "\n",
    "    # create clasification codes\n",
    "    df['classification_code'] = df['classification'].apply(lambda x: x.split(':')[0][5])\n",
    "    df['classification_code'] = df['classification_code'].astype(int)\n",
    "    \n",
    "    class_codes = [1, 2, 3, 4]\n",
    "\n",
    "    for codes in class_codes:\n",
    "        code = df[df['classification_code'] == codes]\n",
    "        if len(code) == 0:\n",
    "            continue\n",
    "        code.to_file(os.path.join(input_dir, f'sp_sample_{fips}_code{codes}.shp'))\n",
    "\n",
    "    cluster_canidate_code = 2\n",
    "    cluster = df[df['classification_code'] == cluster_canidate_code]\n",
    "    cluster.to_file(os.path.join(input_dir, f'sp_sample_{fips}_cluster_canidates.shp'))\n",
    "\n",
    "   \n",
    "\n",
    "\n"
   ]
  },
  {
   "cell_type": "code",
   "execution_count": null,
   "metadata": {},
   "outputs": [],
   "source": []
  },
  {
   "cell_type": "code",
   "execution_count": 21,
   "metadata": {},
   "outputs": [
    {
     "data": {
      "text/plain": [
       "(112, 5)"
      ]
     },
     "execution_count": 21,
     "metadata": {},
     "output_type": "execute_result"
    }
   ],
   "source": [
    "df = gpd.read_file(r'D:\\Projects\\superparcels\\data\\Urban\\Alameda_CA\\sp_06001_KNN-dbscan-3_area100000_rbuff.shp')\n",
    "df.shape"
   ]
  },
  {
   "cell_type": "code",
   "execution_count": 23,
   "metadata": {},
   "outputs": [
    {
     "data": {
      "text/html": [
       "<div>\n",
       "<style scoped>\n",
       "    .dataframe tbody tr th:only-of-type {\n",
       "        vertical-align: middle;\n",
       "    }\n",
       "\n",
       "    .dataframe tbody tr th {\n",
       "        vertical-align: top;\n",
       "    }\n",
       "\n",
       "    .dataframe thead th {\n",
       "        text-align: right;\n",
       "    }\n",
       "</style>\n",
       "<table border=\"1\" class=\"dataframe\">\n",
       "  <thead>\n",
       "    <tr style=\"text-align: right;\">\n",
       "      <th></th>\n",
       "      <th>cluster_ID</th>\n",
       "      <th>OWNER</th>\n",
       "      <th>area</th>\n",
       "      <th>buff_dist</th>\n",
       "      <th>geometry</th>\n",
       "    </tr>\n",
       "  </thead>\n",
       "  <tbody>\n",
       "    <tr>\n",
       "      <th>12</th>\n",
       "      <td>COLEMANFOLEY_0</td>\n",
       "      <td>COLEMANFOLEY</td>\n",
       "      <td>1.592413e+07</td>\n",
       "      <td>59.0</td>\n",
       "      <td>POLYGON ((602147.491 4162443.375, 602148.742 4...</td>\n",
       "    </tr>\n",
       "    <tr>\n",
       "      <th>37</th>\n",
       "      <td>HERBERT BELWORTHY_0</td>\n",
       "      <td>HERBERT BELWORTHY</td>\n",
       "      <td>1.067220e+07</td>\n",
       "      <td>63.0</td>\n",
       "      <td>POLYGON ((617187.763 4183274.962, 617189.158 4...</td>\n",
       "    </tr>\n",
       "    <tr>\n",
       "      <th>109</th>\n",
       "      <td>WILLIAM WAPPERSON_0</td>\n",
       "      <td>WILLIAM WAPPERSON</td>\n",
       "      <td>1.032713e+07</td>\n",
       "      <td>393.0</td>\n",
       "      <td>POLYGON ((603028.170 4156500.507, 603027.746 4...</td>\n",
       "    </tr>\n",
       "    <tr>\n",
       "      <th>99</th>\n",
       "      <td>STEPHEN AFIELDS_0</td>\n",
       "      <td>STEPHEN AFIELDS</td>\n",
       "      <td>6.307908e+06</td>\n",
       "      <td>158.0</td>\n",
       "      <td>POLYGON ((618151.708 4162660.673, 618151.554 4...</td>\n",
       "    </tr>\n",
       "    <tr>\n",
       "      <th>94</th>\n",
       "      <td>SATNAM SSANDHU_0</td>\n",
       "      <td>SATNAM SSANDHU</td>\n",
       "      <td>4.522355e+06</td>\n",
       "      <td>72.0</td>\n",
       "      <td>POLYGON ((624589.847 4180788.486, 624591.476 4...</td>\n",
       "    </tr>\n",
       "  </tbody>\n",
       "</table>\n",
       "</div>"
      ],
      "text/plain": [
       "              cluster_ID              OWNER          area  buff_dist  \\\n",
       "12        COLEMANFOLEY_0       COLEMANFOLEY  1.592413e+07       59.0   \n",
       "37   HERBERT BELWORTHY_0  HERBERT BELWORTHY  1.067220e+07       63.0   \n",
       "109  WILLIAM WAPPERSON_0  WILLIAM WAPPERSON  1.032713e+07      393.0   \n",
       "99     STEPHEN AFIELDS_0    STEPHEN AFIELDS  6.307908e+06      158.0   \n",
       "94      SATNAM SSANDHU_0     SATNAM SSANDHU  4.522355e+06       72.0   \n",
       "\n",
       "                                              geometry  \n",
       "12   POLYGON ((602147.491 4162443.375, 602148.742 4...  \n",
       "37   POLYGON ((617187.763 4183274.962, 617189.158 4...  \n",
       "109  POLYGON ((603028.170 4156500.507, 603027.746 4...  \n",
       "99   POLYGON ((618151.708 4162660.673, 618151.554 4...  \n",
       "94   POLYGON ((624589.847 4180788.486, 624591.476 4...  "
      ]
     },
     "execution_count": 23,
     "metadata": {},
     "output_type": "execute_result"
    }
   ],
   "source": [
    "df = df.sort_values(by='area', ascending=False)\n",
    "df.head()"
   ]
  },
  {
   "cell_type": "code",
   "execution_count": 24,
   "metadata": {},
   "outputs": [
    {
     "data": {
      "text/html": [
       "<div>\n",
       "<style scoped>\n",
       "    .dataframe tbody tr th:only-of-type {\n",
       "        vertical-align: middle;\n",
       "    }\n",
       "\n",
       "    .dataframe tbody tr th {\n",
       "        vertical-align: top;\n",
       "    }\n",
       "\n",
       "    .dataframe thead th {\n",
       "        text-align: right;\n",
       "    }\n",
       "</style>\n",
       "<table border=\"1\" class=\"dataframe\">\n",
       "  <thead>\n",
       "    <tr style=\"text-align: right;\">\n",
       "      <th></th>\n",
       "      <th>cluster_ID</th>\n",
       "      <th>OWNER</th>\n",
       "      <th>area</th>\n",
       "      <th>buff_dist</th>\n",
       "      <th>geometry</th>\n",
       "    </tr>\n",
       "  </thead>\n",
       "  <tbody>\n",
       "    <tr>\n",
       "      <th>0</th>\n",
       "      <td>COLEMANFOLEY_0</td>\n",
       "      <td>COLEMANFOLEY</td>\n",
       "      <td>1.592413e+07</td>\n",
       "      <td>59.0</td>\n",
       "      <td>POLYGON ((602147.491 4162443.375, 602148.742 4...</td>\n",
       "    </tr>\n",
       "    <tr>\n",
       "      <th>1</th>\n",
       "      <td>HERBERT BELWORTHY_0</td>\n",
       "      <td>HERBERT BELWORTHY</td>\n",
       "      <td>1.067220e+07</td>\n",
       "      <td>63.0</td>\n",
       "      <td>POLYGON ((617187.763 4183274.962, 617189.158 4...</td>\n",
       "    </tr>\n",
       "    <tr>\n",
       "      <th>2</th>\n",
       "      <td>WILLIAM WAPPERSON_0</td>\n",
       "      <td>WILLIAM WAPPERSON</td>\n",
       "      <td>1.032713e+07</td>\n",
       "      <td>393.0</td>\n",
       "      <td>POLYGON ((603028.170 4156500.507, 603027.746 4...</td>\n",
       "    </tr>\n",
       "    <tr>\n",
       "      <th>3</th>\n",
       "      <td>STEPHEN AFIELDS_0</td>\n",
       "      <td>STEPHEN AFIELDS</td>\n",
       "      <td>6.307908e+06</td>\n",
       "      <td>158.0</td>\n",
       "      <td>POLYGON ((618151.708 4162660.673, 618151.554 4...</td>\n",
       "    </tr>\n",
       "    <tr>\n",
       "      <th>4</th>\n",
       "      <td>SATNAM SSANDHU_0</td>\n",
       "      <td>SATNAM SSANDHU</td>\n",
       "      <td>4.522355e+06</td>\n",
       "      <td>72.0</td>\n",
       "      <td>POLYGON ((624589.847 4180788.486, 624591.476 4...</td>\n",
       "    </tr>\n",
       "  </tbody>\n",
       "</table>\n",
       "</div>"
      ],
      "text/plain": [
       "            cluster_ID              OWNER          area  buff_dist  \\\n",
       "0       COLEMANFOLEY_0       COLEMANFOLEY  1.592413e+07       59.0   \n",
       "1  HERBERT BELWORTHY_0  HERBERT BELWORTHY  1.067220e+07       63.0   \n",
       "2  WILLIAM WAPPERSON_0  WILLIAM WAPPERSON  1.032713e+07      393.0   \n",
       "3    STEPHEN AFIELDS_0    STEPHEN AFIELDS  6.307908e+06      158.0   \n",
       "4     SATNAM SSANDHU_0     SATNAM SSANDHU  4.522355e+06       72.0   \n",
       "\n",
       "                                            geometry  \n",
       "0  POLYGON ((602147.491 4162443.375, 602148.742 4...  \n",
       "1  POLYGON ((617187.763 4183274.962, 617189.158 4...  \n",
       "2  POLYGON ((603028.170 4156500.507, 603027.746 4...  \n",
       "3  POLYGON ((618151.708 4162660.673, 618151.554 4...  \n",
       "4  POLYGON ((624589.847 4180788.486, 624591.476 4...  "
      ]
     },
     "execution_count": 24,
     "metadata": {},
     "output_type": "execute_result"
    }
   ],
   "source": [
    "df = df.reset_index(drop=True)\n",
    "df.head()"
   ]
  },
  {
   "cell_type": "code",
   "execution_count": 26,
   "metadata": {},
   "outputs": [
    {
     "data": {
      "text/html": [
       "<div>\n",
       "<style scoped>\n",
       "    .dataframe tbody tr th:only-of-type {\n",
       "        vertical-align: middle;\n",
       "    }\n",
       "\n",
       "    .dataframe tbody tr th {\n",
       "        vertical-align: top;\n",
       "    }\n",
       "\n",
       "    .dataframe thead th {\n",
       "        text-align: right;\n",
       "    }\n",
       "</style>\n",
       "<table border=\"1\" class=\"dataframe\">\n",
       "  <thead>\n",
       "    <tr style=\"text-align: right;\">\n",
       "      <th></th>\n",
       "      <th>cluster_ID</th>\n",
       "      <th>OWNER</th>\n",
       "      <th>area</th>\n",
       "      <th>buff_dist</th>\n",
       "      <th>geometry</th>\n",
       "      <th>area_label</th>\n",
       "    </tr>\n",
       "  </thead>\n",
       "  <tbody>\n",
       "    <tr>\n",
       "      <th>0</th>\n",
       "      <td>COLEMANFOLEY_0</td>\n",
       "      <td>COLEMANFOLEY</td>\n",
       "      <td>1.592413e+07</td>\n",
       "      <td>59.0</td>\n",
       "      <td>POLYGON ((602147.491 4162443.375, 602148.742 4...</td>\n",
       "      <td>1</td>\n",
       "    </tr>\n",
       "    <tr>\n",
       "      <th>1</th>\n",
       "      <td>HERBERT BELWORTHY_0</td>\n",
       "      <td>HERBERT BELWORTHY</td>\n",
       "      <td>1.067220e+07</td>\n",
       "      <td>63.0</td>\n",
       "      <td>POLYGON ((617187.763 4183274.962, 617189.158 4...</td>\n",
       "      <td>2</td>\n",
       "    </tr>\n",
       "    <tr>\n",
       "      <th>2</th>\n",
       "      <td>WILLIAM WAPPERSON_0</td>\n",
       "      <td>WILLIAM WAPPERSON</td>\n",
       "      <td>1.032713e+07</td>\n",
       "      <td>393.0</td>\n",
       "      <td>POLYGON ((603028.170 4156500.507, 603027.746 4...</td>\n",
       "      <td>3</td>\n",
       "    </tr>\n",
       "    <tr>\n",
       "      <th>3</th>\n",
       "      <td>STEPHEN AFIELDS_0</td>\n",
       "      <td>STEPHEN AFIELDS</td>\n",
       "      <td>6.307908e+06</td>\n",
       "      <td>158.0</td>\n",
       "      <td>POLYGON ((618151.708 4162660.673, 618151.554 4...</td>\n",
       "      <td>4</td>\n",
       "    </tr>\n",
       "    <tr>\n",
       "      <th>4</th>\n",
       "      <td>SATNAM SSANDHU_0</td>\n",
       "      <td>SATNAM SSANDHU</td>\n",
       "      <td>4.522355e+06</td>\n",
       "      <td>72.0</td>\n",
       "      <td>POLYGON ((624589.847 4180788.486, 624591.476 4...</td>\n",
       "      <td>5</td>\n",
       "    </tr>\n",
       "  </tbody>\n",
       "</table>\n",
       "</div>"
      ],
      "text/plain": [
       "            cluster_ID              OWNER          area  buff_dist  \\\n",
       "0       COLEMANFOLEY_0       COLEMANFOLEY  1.592413e+07       59.0   \n",
       "1  HERBERT BELWORTHY_0  HERBERT BELWORTHY  1.067220e+07       63.0   \n",
       "2  WILLIAM WAPPERSON_0  WILLIAM WAPPERSON  1.032713e+07      393.0   \n",
       "3    STEPHEN AFIELDS_0    STEPHEN AFIELDS  6.307908e+06      158.0   \n",
       "4     SATNAM SSANDHU_0     SATNAM SSANDHU  4.522355e+06       72.0   \n",
       "\n",
       "                                            geometry  area_label  \n",
       "0  POLYGON ((602147.491 4162443.375, 602148.742 4...           1  \n",
       "1  POLYGON ((617187.763 4183274.962, 617189.158 4...           2  \n",
       "2  POLYGON ((603028.170 4156500.507, 603027.746 4...           3  \n",
       "3  POLYGON ((618151.708 4162660.673, 618151.554 4...           4  \n",
       "4  POLYGON ((624589.847 4180788.486, 624591.476 4...           5  "
      ]
     },
     "execution_count": 26,
     "metadata": {},
     "output_type": "execute_result"
    }
   ],
   "source": [
    "df['area_label'] = df.index + 1\n",
    "df.head()"
   ]
  },
  {
   "cell_type": "code",
   "execution_count": 27,
   "metadata": {},
   "outputs": [],
   "source": [
    "df.to_file(r'D:\\Projects\\superparcels\\data\\Urban\\Alameda_CA\\sp_06001_KNN-dbscan-3_area100000_rbuff_labeled.shp')"
   ]
  },
  {
   "cell_type": "code",
   "execution_count": null,
   "metadata": {},
   "outputs": [],
   "source": []
  }
 ],
 "metadata": {
  "kernelspec": {
   "display_name": "Python 3",
   "language": "python",
   "name": "python3"
  },
  "language_info": {
   "codemirror_mode": {
    "name": "ipython",
    "version": 3
   },
   "file_extension": ".py",
   "mimetype": "text/x-python",
   "name": "python",
   "nbconvert_exporter": "python",
   "pygments_lexer": "ipython3",
   "version": "3.11.4"
  }
 },
 "nbformat": 4,
 "nbformat_minor": 2
}
