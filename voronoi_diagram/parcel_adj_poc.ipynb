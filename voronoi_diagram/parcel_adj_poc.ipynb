{
 "cells": [
  {
   "cell_type": "code",
   "execution_count": 51,
   "metadata": {},
   "outputs": [],
   "source": [
    "from shapely.geometry import Point, Polygon\n",
    "import pandas as pd\n",
    "import momepy as mm\n",
    "import geopandas as gpd\n",
    "import numpy as np\n",
    "import matplotlib.pyplot as plt\n",
    "%matplotlib inline"
   ]
  },
  {
   "cell_type": "code",
   "execution_count": 64,
   "metadata": {},
   "outputs": [],
   "source": [
    "data_path = r'D:\\Projects\\superparcels\\data\\c08013_parcel_urban.shp'\n",
    "bbox_path = r'D:\\Projects\\superparcels\\data\\Polygon_ExportFeatures.shp'"
   ]
  },
  {
   "cell_type": "code",
   "execution_count": 65,
   "metadata": {},
   "outputs": [],
   "source": [
    "bbox = gpd.read_file(bbox_path)"
   ]
  },
  {
   "cell_type": "code",
   "execution_count": 66,
   "metadata": {},
   "outputs": [],
   "source": [
    "\n",
    "df = gpd.read_file(data_path)\n"
   ]
  },
  {
   "cell_type": "code",
   "execution_count": 67,
   "metadata": {},
   "outputs": [],
   "source": [
    "g = df[df['OWNER'].map(df['OWNER'].value_counts()) > 1]"
   ]
  },
  {
   "cell_type": "code",
   "execution_count": 68,
   "metadata": {},
   "outputs": [
    {
     "data": {
      "text/plain": [
       "OWNER\n",
       "CITY OF BOULDER                          61\n",
       "REGENTS OF THE UNIVERSITY OF COLORADO    25\n",
       "RUBICON TWENTY LLC                       16\n",
       "STATE OF COLORADO                        14\n",
       "OBSIDIAN PROPERTIES LLC                  12\n",
       "                                         ..\n",
       "ROSE JEFFREY & NEAL                       2\n",
       "KOCH ALLAN J & HEATHER M & MARK A         2\n",
       "KANE CHARLES J & FLORENCE D               2\n",
       "BINGER MATTHEW                            2\n",
       "FRIARS CORPORATION                        2\n",
       "Name: count, Length: 192, dtype: int64"
      ]
     },
     "execution_count": 68,
     "metadata": {},
     "output_type": "execute_result"
    }
   ],
   "source": [
    "g['OWNER'].value_counts()"
   ]
  },
  {
   "cell_type": "code",
   "execution_count": 69,
   "metadata": {},
   "outputs": [],
   "source": [
    "g_dissolved = g.dissolve(by='OWNER')\n",
    "\n",
    "g_dissolved = g_dissolved.explode(index_parts=False).reset_index()"
   ]
  },
  {
   "cell_type": "code",
   "execution_count": 70,
   "metadata": {},
   "outputs": [
    {
     "data": {
      "text/plain": [
       "Index(['OWNER', 'PARCEL_ID', 'STATE_CODE', 'CNTY_CODE', 'APN', 'APN2', 'APN3',\n",
       "       'ADDR', 'CITY', 'STATE', 'ZIP', 'PLUS', 'STD_ADDR', 'STD_CITY',\n",
       "       'STD_STATE', 'STD_ZIP', 'STD_PLUS', 'geometry'],\n",
       "      dtype='object')"
      ]
     },
     "execution_count": 70,
     "metadata": {},
     "output_type": "execute_result"
    }
   ],
   "source": [
    "g_dissolved.columns"
   ]
  },
  {
   "cell_type": "code",
   "execution_count": 71,
   "metadata": {},
   "outputs": [],
   "source": [
    "g_final = g_dissolved[['OWNER', 'PARCEL_ID', 'ADDR', 'geometry']]"
   ]
  },
  {
   "cell_type": "code",
   "execution_count": 72,
   "metadata": {},
   "outputs": [
    {
     "name": "stderr",
     "output_type": "stream",
     "text": [
      "d:\\mini-forge\\envs\\growth_model\\Lib\\site-packages\\geopandas\\geodataframe.py:1538: SettingWithCopyWarning: \n",
      "A value is trying to be set on a copy of a slice from a DataFrame.\n",
      "Try using .loc[row_indexer,col_indexer] = value instead\n",
      "\n",
      "See the caveats in the documentation: https://pandas.pydata.org/pandas-docs/stable/user_guide/indexing.html#returning-a-view-versus-a-copy\n",
      "  super().__setitem__(key, value)\n"
     ]
    },
    {
     "data": {
      "text/html": [
       "<div>\n",
       "<style scoped>\n",
       "    .dataframe tbody tr th:only-of-type {\n",
       "        vertical-align: middle;\n",
       "    }\n",
       "\n",
       "    .dataframe tbody tr th {\n",
       "        vertical-align: top;\n",
       "    }\n",
       "\n",
       "    .dataframe thead th {\n",
       "        text-align: right;\n",
       "    }\n",
       "</style>\n",
       "<table border=\"1\" class=\"dataframe\">\n",
       "  <thead>\n",
       "    <tr style=\"text-align: right;\">\n",
       "      <th></th>\n",
       "      <th>OWNER</th>\n",
       "      <th>PARCEL_ID</th>\n",
       "      <th>ADDR</th>\n",
       "      <th>geometry</th>\n",
       "      <th>SP_ID</th>\n",
       "    </tr>\n",
       "  </thead>\n",
       "  <tbody>\n",
       "    <tr>\n",
       "      <th>0</th>\n",
       "      <td>1065 UNIVERSITY LLC</td>\n",
       "      <td>1.551398e+09</td>\n",
       "      <td>1065 UNIVERSITY AVE 103</td>\n",
       "      <td>POLYGON ((-105.27873 40.01063, -105.27980 40.0...</td>\n",
       "      <td>0</td>\n",
       "    </tr>\n",
       "    <tr>\n",
       "      <th>1</th>\n",
       "      <td>1123 SPRUCE ST LLC</td>\n",
       "      <td>1.551377e+09</td>\n",
       "      <td>1123 SPRUCE ST 2</td>\n",
       "      <td>POLYGON ((-105.28117 40.01884, -105.28130 40.0...</td>\n",
       "      <td>1</td>\n",
       "    </tr>\n",
       "    <tr>\n",
       "      <th>2</th>\n",
       "      <td>13TH STREET PROPERTIES LLC</td>\n",
       "      <td>1.551304e+09</td>\n",
       "      <td>1057 13TH ST</td>\n",
       "      <td>POLYGON ((-105.27563 40.00396, -105.27606 40.0...</td>\n",
       "      <td>2</td>\n",
       "    </tr>\n",
       "    <tr>\n",
       "      <th>3</th>\n",
       "      <td>13TH STREET PROPERTIES LLC</td>\n",
       "      <td>1.551304e+09</td>\n",
       "      <td>1057 13TH ST</td>\n",
       "      <td>POLYGON ((-105.27679 40.00630, -105.27679 40.0...</td>\n",
       "      <td>2</td>\n",
       "    </tr>\n",
       "    <tr>\n",
       "      <th>4</th>\n",
       "      <td>1406-1426 19TH STREET LLC</td>\n",
       "      <td>1.551388e+09</td>\n",
       "      <td>1410 19TH ST</td>\n",
       "      <td>POLYGON ((-105.26946 40.01414, -105.26946 40.0...</td>\n",
       "      <td>3</td>\n",
       "    </tr>\n",
       "    <tr>\n",
       "      <th>...</th>\n",
       "      <td>...</td>\n",
       "      <td>...</td>\n",
       "      <td>...</td>\n",
       "      <td>...</td>\n",
       "      <td>...</td>\n",
       "    </tr>\n",
       "    <tr>\n",
       "      <th>373</th>\n",
       "      <td>WENCEL BUILDING LLC</td>\n",
       "      <td>1.551366e+09</td>\n",
       "      <td>1301 WALNUT ST</td>\n",
       "      <td>POLYGON ((-105.27792 40.01735, -105.27804 40.0...</td>\n",
       "      <td>188</td>\n",
       "    </tr>\n",
       "    <tr>\n",
       "      <th>374</th>\n",
       "      <td>WILLIAMS KRISTINE S</td>\n",
       "      <td>1.551371e+09</td>\n",
       "      <td>1430 18TH ST 5</td>\n",
       "      <td>POLYGON ((-105.27120 40.01413, -105.27155 40.0...</td>\n",
       "      <td>189</td>\n",
       "    </tr>\n",
       "    <tr>\n",
       "      <th>375</th>\n",
       "      <td>WILSON VALERIE L</td>\n",
       "      <td>1.551323e+09</td>\n",
       "      <td>2138 WALNUT ST</td>\n",
       "      <td>POLYGON ((-105.26660 40.01914, -105.26673 40.0...</td>\n",
       "      <td>190</td>\n",
       "    </tr>\n",
       "    <tr>\n",
       "      <th>376</th>\n",
       "      <td>WINGFIELD COMPANY LLC</td>\n",
       "      <td>1.551303e+09</td>\n",
       "      <td>961 PENNSYLVANIA AVE</td>\n",
       "      <td>POLYGON ((-105.27945 40.00904, -105.27927 40.0...</td>\n",
       "      <td>191</td>\n",
       "    </tr>\n",
       "    <tr>\n",
       "      <th>377</th>\n",
       "      <td>WINGFIELD COMPANY LLC</td>\n",
       "      <td>1.551303e+09</td>\n",
       "      <td>961 PENNSYLVANIA AVE</td>\n",
       "      <td>POLYGON ((-105.28031 40.00876, -105.28049 40.0...</td>\n",
       "      <td>191</td>\n",
       "    </tr>\n",
       "  </tbody>\n",
       "</table>\n",
       "<p>378 rows × 5 columns</p>\n",
       "</div>"
      ],
      "text/plain": [
       "                          OWNER     PARCEL_ID                     ADDR  \\\n",
       "0           1065 UNIVERSITY LLC  1.551398e+09  1065 UNIVERSITY AVE 103   \n",
       "1            1123 SPRUCE ST LLC  1.551377e+09         1123 SPRUCE ST 2   \n",
       "2    13TH STREET PROPERTIES LLC  1.551304e+09             1057 13TH ST   \n",
       "3    13TH STREET PROPERTIES LLC  1.551304e+09             1057 13TH ST   \n",
       "4     1406-1426 19TH STREET LLC  1.551388e+09             1410 19TH ST   \n",
       "..                          ...           ...                      ...   \n",
       "373         WENCEL BUILDING LLC  1.551366e+09           1301 WALNUT ST   \n",
       "374         WILLIAMS KRISTINE S  1.551371e+09           1430 18TH ST 5   \n",
       "375            WILSON VALERIE L  1.551323e+09           2138 WALNUT ST   \n",
       "376       WINGFIELD COMPANY LLC  1.551303e+09     961 PENNSYLVANIA AVE   \n",
       "377       WINGFIELD COMPANY LLC  1.551303e+09     961 PENNSYLVANIA AVE   \n",
       "\n",
       "                                              geometry  SP_ID  \n",
       "0    POLYGON ((-105.27873 40.01063, -105.27980 40.0...      0  \n",
       "1    POLYGON ((-105.28117 40.01884, -105.28130 40.0...      1  \n",
       "2    POLYGON ((-105.27563 40.00396, -105.27606 40.0...      2  \n",
       "3    POLYGON ((-105.27679 40.00630, -105.27679 40.0...      2  \n",
       "4    POLYGON ((-105.26946 40.01414, -105.26946 40.0...      3  \n",
       "..                                                 ...    ...  \n",
       "373  POLYGON ((-105.27792 40.01735, -105.27804 40.0...    188  \n",
       "374  POLYGON ((-105.27120 40.01413, -105.27155 40.0...    189  \n",
       "375  POLYGON ((-105.26660 40.01914, -105.26673 40.0...    190  \n",
       "376  POLYGON ((-105.27945 40.00904, -105.27927 40.0...    191  \n",
       "377  POLYGON ((-105.28031 40.00876, -105.28049 40.0...    191  \n",
       "\n",
       "[378 rows x 5 columns]"
      ]
     },
     "execution_count": 72,
     "metadata": {},
     "output_type": "execute_result"
    }
   ],
   "source": [
    "# create a unique id for every unique owner\n",
    "g_final['SP_ID'] = g_final['OWNER'].factorize()[0]\n",
    "g_final\n"
   ]
  },
  {
   "cell_type": "code",
   "execution_count": 73,
   "metadata": {},
   "outputs": [],
   "source": [
    "g.to_file('test_all_urban.shp')"
   ]
  },
  {
   "cell_type": "code",
   "execution_count": 74,
   "metadata": {},
   "outputs": [],
   "source": [
    "g_final.to_file('test_final_urban.shp')"
   ]
  },
  {
   "cell_type": "code",
   "execution_count": null,
   "metadata": {},
   "outputs": [],
   "source": []
  }
 ],
 "metadata": {
  "kernelspec": {
   "display_name": "Python 3",
   "language": "python",
   "name": "python3"
  },
  "language_info": {
   "codemirror_mode": {
    "name": "ipython",
    "version": 3
   },
   "file_extension": ".py",
   "mimetype": "text/x-python",
   "name": "python",
   "nbconvert_exporter": "python",
   "pygments_lexer": "ipython3",
   "version": "3.11.4"
  }
 },
 "nbformat": 4,
 "nbformat_minor": 2
}
