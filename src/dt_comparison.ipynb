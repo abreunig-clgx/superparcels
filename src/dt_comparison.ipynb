{
 "cells": [
  {
   "cell_type": "code",
   "execution_count": 2,
   "metadata": {},
   "outputs": [],
   "source": [
    "import geopandas as gpd\n",
    "import pandas as pd\n",
    "import matplotlib.pyplot as plt\n",
    "import glob\n",
    "import seaborn as sns\n",
    "import folium\n",
    "import os\n",
    "import numpy as np\n",
    "import matplotlib.colors as mcolors\n",
    "%matplotlib inline"
   ]
  },
  {
   "cell_type": "code",
   "execution_count": 3,
   "metadata": {},
   "outputs": [],
   "source": [
    "# Load the shapefiles\n",
    "gdf1 = gpd.read_file(glob.glob(\"/mnt/gis-nfs/users/abreunig/superparcels/mitre/*dt30*.shp\")[0])\n",
    "gdf2 = gpd.read_file(glob.glob(\"/mnt/gis-nfs/users/abreunig/superparcels/mitre/*dt50*.shp\")[0])\n",
    "gdf3 = gpd.read_file(glob.glob(\"/mnt/gis-nfs/users/abreunig/superparcels/mitre/*dt75*.shp\")[0])\n",
    "gdf4 = gpd.read_file(glob.glob(\"/mnt/gis-nfs/users/abreunig/superparcels/mitre/*dt100*.shp\")[0])\n",
    "gdf5 = gpd.read_file(glob.glob(\"/mnt/gis-nfs/users/abreunig/superparcels/mitre/*dt150*.shp\")[0])\n",
    "gdf6 = gpd.read_file(glob.glob(\"/mnt/gis-nfs/users/abreunig/superparcels/mitre/*dt200*.shp\")[0])\n",
    "ref_candidates = gpd.read_file(glob.glob(\"/mnt/Ddrive/projects/superparcels/inputs/55107/*.shp\")[0])"
   ]
  },
  {
   "cell_type": "markdown",
   "metadata": {},
   "source": [
    "Spatial Join each distance threshold on itself using the OVERLAP predicate. The OVERLAP is TRUE if two polygons share some area but do not CONTAIN one another. "
   ]
  },
  {
   "cell_type": "code",
   "execution_count": 4,
   "metadata": {},
   "outputs": [],
   "source": [
    "sjoin = gpd.sjoin(gdf6, gdf6, how='left', predicate='overlaps')[['sp_id_left', 'owner_left', 'owner_right', 'geometry']]"
   ]
  },
  {
   "cell_type": "markdown",
   "metadata": {},
   "source": [
    "Remove instances where the geometry overlaps itself or where the spatial join did not hit anything"
   ]
  },
  {
   "cell_type": "code",
   "execution_count": 5,
   "metadata": {},
   "outputs": [
    {
     "data": {
      "text/html": [
       "<div>\n",
       "<style scoped>\n",
       "    .dataframe tbody tr th:only-of-type {\n",
       "        vertical-align: middle;\n",
       "    }\n",
       "\n",
       "    .dataframe tbody tr th {\n",
       "        vertical-align: top;\n",
       "    }\n",
       "\n",
       "    .dataframe thead th {\n",
       "        text-align: right;\n",
       "    }\n",
       "</style>\n",
       "<table border=\"1\" class=\"dataframe\">\n",
       "  <thead>\n",
       "    <tr style=\"text-align: right;\">\n",
       "      <th></th>\n",
       "      <th>sp_id_left</th>\n",
       "      <th>owner_left</th>\n",
       "      <th>owner_right</th>\n",
       "      <th>geometry</th>\n",
       "    </tr>\n",
       "  </thead>\n",
       "  <tbody>\n",
       "    <tr>\n",
       "      <th>0</th>\n",
       "      <td>ADAMS DAWN M_0_0</td>\n",
       "      <td>ADAMS DAWN M</td>\n",
       "      <td>TRI-STATE HOLDINGS LLC</td>\n",
       "      <td>POLYGON ((645738.217 5035624.138, 645748.499 5...</td>\n",
       "    </tr>\n",
       "    <tr>\n",
       "      <th>1</th>\n",
       "      <td>ADAMS TROY G_0_0</td>\n",
       "      <td>ADAMS TROY G</td>\n",
       "      <td>REDISKE STEVEN M</td>\n",
       "      <td>POLYGON ((633972.548 5047737.208, 633973.582 5...</td>\n",
       "    </tr>\n",
       "  </tbody>\n",
       "</table>\n",
       "</div>"
      ],
      "text/plain": [
       "         sp_id_left    owner_left             owner_right  \\\n",
       "0  ADAMS DAWN M_0_0  ADAMS DAWN M  TRI-STATE HOLDINGS LLC   \n",
       "1  ADAMS TROY G_0_0  ADAMS TROY G        REDISKE STEVEN M   \n",
       "\n",
       "                                            geometry  \n",
       "0  POLYGON ((645738.217 5035624.138, 645748.499 5...  \n",
       "1  POLYGON ((633972.548 5047737.208, 633973.582 5...  "
      ]
     },
     "execution_count": 5,
     "metadata": {},
     "output_type": "execute_result"
    }
   ],
   "source": [
    "mismatch = sjoin[sjoin['owner_left'] != sjoin['owner_right']]\n",
    "mismatch = mismatch[mismatch['owner_right'].notnull()]\n",
    "mismatch.head(2)\n"
   ]
  },
  {
   "cell_type": "markdown",
   "metadata": {},
   "source": [
    "Join mismatches back to original geodataframe to obtain the *other* geometry that overlapped. There now should be the key geometry (geometry_x) and the *other* geometry (geometry_y)"
   ]
  },
  {
   "cell_type": "code",
   "execution_count": 6,
   "metadata": {},
   "outputs": [
    {
     "data": {
      "text/html": [
       "<div>\n",
       "<style scoped>\n",
       "    .dataframe tbody tr th:only-of-type {\n",
       "        vertical-align: middle;\n",
       "    }\n",
       "\n",
       "    .dataframe tbody tr th {\n",
       "        vertical-align: top;\n",
       "    }\n",
       "\n",
       "    .dataframe thead th {\n",
       "        text-align: right;\n",
       "    }\n",
       "</style>\n",
       "<table border=\"1\" class=\"dataframe\">\n",
       "  <thead>\n",
       "    <tr style=\"text-align: right;\">\n",
       "      <th></th>\n",
       "      <th>sp_id_left</th>\n",
       "      <th>owner_left</th>\n",
       "      <th>owner_right</th>\n",
       "      <th>geometry_x</th>\n",
       "      <th>owner</th>\n",
       "      <th>geometry_y</th>\n",
       "    </tr>\n",
       "  </thead>\n",
       "  <tbody>\n",
       "    <tr>\n",
       "      <th>0</th>\n",
       "      <td>ADAMS DAWN M_0_0</td>\n",
       "      <td>ADAMS DAWN M</td>\n",
       "      <td>TRI-STATE HOLDINGS LLC</td>\n",
       "      <td>POLYGON ((645738.217 5035624.138, 645748.499 5...</td>\n",
       "      <td>TRI-STATE HOLDINGS LLC</td>\n",
       "      <td>POLYGON ((644500.052 5034677.576, 644478.84 50...</td>\n",
       "    </tr>\n",
       "    <tr>\n",
       "      <th>1</th>\n",
       "      <td>ADAMS TROY G_0_0</td>\n",
       "      <td>ADAMS TROY G</td>\n",
       "      <td>REDISKE STEVEN M</td>\n",
       "      <td>POLYGON ((633972.548 5047737.208, 633973.582 5...</td>\n",
       "      <td>REDISKE STEVEN M</td>\n",
       "      <td>POLYGON ((633995.542 5046394.943, 634017.72 50...</td>\n",
       "    </tr>\n",
       "  </tbody>\n",
       "</table>\n",
       "</div>"
      ],
      "text/plain": [
       "         sp_id_left    owner_left             owner_right  \\\n",
       "0  ADAMS DAWN M_0_0  ADAMS DAWN M  TRI-STATE HOLDINGS LLC   \n",
       "1  ADAMS TROY G_0_0  ADAMS TROY G        REDISKE STEVEN M   \n",
       "\n",
       "                                          geometry_x                   owner  \\\n",
       "0  POLYGON ((645738.217 5035624.138, 645748.499 5...  TRI-STATE HOLDINGS LLC   \n",
       "1  POLYGON ((633972.548 5047737.208, 633973.582 5...        REDISKE STEVEN M   \n",
       "\n",
       "                                          geometry_y  \n",
       "0  POLYGON ((644500.052 5034677.576, 644478.84 50...  \n",
       "1  POLYGON ((633995.542 5046394.943, 634017.72 50...  "
      ]
     },
     "execution_count": 6,
     "metadata": {},
     "output_type": "execute_result"
    }
   ],
   "source": [
    "sjoin_right = pd.merge(sjoin, gdf6[['owner', 'geometry']], left_on='owner_right', right_on='owner', how='inner')\n",
    "sjoin_right.head(2)"
   ]
  },
  {
   "cell_type": "markdown",
   "metadata": {},
   "source": [
    "Create a new geometry based on the intersection of the two geometries. This geoemtry is the overlap. Calcualte the area or size."
   ]
  },
  {
   "cell_type": "code",
   "execution_count": 7,
   "metadata": {},
   "outputs": [
    {
     "data": {
      "text/html": [
       "<div>\n",
       "<style scoped>\n",
       "    .dataframe tbody tr th:only-of-type {\n",
       "        vertical-align: middle;\n",
       "    }\n",
       "\n",
       "    .dataframe tbody tr th {\n",
       "        vertical-align: top;\n",
       "    }\n",
       "\n",
       "    .dataframe thead th {\n",
       "        text-align: right;\n",
       "    }\n",
       "</style>\n",
       "<table border=\"1\" class=\"dataframe\">\n",
       "  <thead>\n",
       "    <tr style=\"text-align: right;\">\n",
       "      <th></th>\n",
       "      <th>sp_id_left</th>\n",
       "      <th>owner_left</th>\n",
       "      <th>owner_right</th>\n",
       "      <th>geometry_x</th>\n",
       "      <th>owner</th>\n",
       "      <th>geometry_y</th>\n",
       "      <th>diff_area</th>\n",
       "    </tr>\n",
       "  </thead>\n",
       "  <tbody>\n",
       "    <tr>\n",
       "      <th>0</th>\n",
       "      <td>ADAMS DAWN M_0_0</td>\n",
       "      <td>ADAMS DAWN M</td>\n",
       "      <td>TRI-STATE HOLDINGS LLC</td>\n",
       "      <td>POLYGON ((645738.217 5035624.138, 645748.499 5...</td>\n",
       "      <td>TRI-STATE HOLDINGS LLC</td>\n",
       "      <td>POLYGON ((644500.052 5034677.576, 644478.84 50...</td>\n",
       "      <td>1.527783e-06</td>\n",
       "    </tr>\n",
       "    <tr>\n",
       "      <th>1</th>\n",
       "      <td>ADAMS TROY G_0_0</td>\n",
       "      <td>ADAMS TROY G</td>\n",
       "      <td>REDISKE STEVEN M</td>\n",
       "      <td>POLYGON ((633972.548 5047737.208, 633973.582 5...</td>\n",
       "      <td>REDISKE STEVEN M</td>\n",
       "      <td>POLYGON ((633995.542 5046394.943, 634017.72 50...</td>\n",
       "      <td>1.100238e-07</td>\n",
       "    </tr>\n",
       "    <tr>\n",
       "      <th>2</th>\n",
       "      <td>ADERHOLD CRAIG_0_0</td>\n",
       "      <td>ADERHOLD CRAIG</td>\n",
       "      <td>EPPLEY GORDON H</td>\n",
       "      <td>POLYGON ((615420.898 5024433.369, 615251.507 5...</td>\n",
       "      <td>EPPLEY GORDON H</td>\n",
       "      <td>POLYGON ((614619.993 5024859.816, 614619.993 5...</td>\n",
       "      <td>2.543494e-07</td>\n",
       "    </tr>\n",
       "    <tr>\n",
       "      <th>3</th>\n",
       "      <td>ADERHOLD CRAIG_0_0</td>\n",
       "      <td>ADERHOLD CRAIG</td>\n",
       "      <td>GRONSKI STEVEN M</td>\n",
       "      <td>POLYGON ((615420.898 5024433.369, 615251.507 5...</td>\n",
       "      <td>GRONSKI STEVEN M</td>\n",
       "      <td>POLYGON ((615405.887 5026295.879, 615409.068 5...</td>\n",
       "      <td>0.000000e+00</td>\n",
       "    </tr>\n",
       "    <tr>\n",
       "      <th>4</th>\n",
       "      <td>ADKINS CLAIRE A_0_0</td>\n",
       "      <td>ADKINS CLAIRE A</td>\n",
       "      <td>BOSSHARD ANDREW</td>\n",
       "      <td>POLYGON ((654692.035 5045046.481, 654677.645 5...</td>\n",
       "      <td>BOSSHARD ANDREW</td>\n",
       "      <td>POLYGON ((653908.833 5044641.492, 653892.815 5...</td>\n",
       "      <td>9.611155e-09</td>\n",
       "    </tr>\n",
       "  </tbody>\n",
       "</table>\n",
       "</div>"
      ],
      "text/plain": [
       "            sp_id_left       owner_left             owner_right  \\\n",
       "0     ADAMS DAWN M_0_0     ADAMS DAWN M  TRI-STATE HOLDINGS LLC   \n",
       "1     ADAMS TROY G_0_0     ADAMS TROY G        REDISKE STEVEN M   \n",
       "2   ADERHOLD CRAIG_0_0   ADERHOLD CRAIG         EPPLEY GORDON H   \n",
       "3   ADERHOLD CRAIG_0_0   ADERHOLD CRAIG        GRONSKI STEVEN M   \n",
       "4  ADKINS CLAIRE A_0_0  ADKINS CLAIRE A         BOSSHARD ANDREW   \n",
       "\n",
       "                                          geometry_x                   owner  \\\n",
       "0  POLYGON ((645738.217 5035624.138, 645748.499 5...  TRI-STATE HOLDINGS LLC   \n",
       "1  POLYGON ((633972.548 5047737.208, 633973.582 5...        REDISKE STEVEN M   \n",
       "2  POLYGON ((615420.898 5024433.369, 615251.507 5...         EPPLEY GORDON H   \n",
       "3  POLYGON ((615420.898 5024433.369, 615251.507 5...        GRONSKI STEVEN M   \n",
       "4  POLYGON ((654692.035 5045046.481, 654677.645 5...         BOSSHARD ANDREW   \n",
       "\n",
       "                                          geometry_y     diff_area  \n",
       "0  POLYGON ((644500.052 5034677.576, 644478.84 50...  1.527783e-06  \n",
       "1  POLYGON ((633995.542 5046394.943, 634017.72 50...  1.100238e-07  \n",
       "2  POLYGON ((614619.993 5024859.816, 614619.993 5...  2.543494e-07  \n",
       "3  POLYGON ((615405.887 5026295.879, 615409.068 5...  0.000000e+00  \n",
       "4  POLYGON ((653908.833 5044641.492, 653892.815 5...  9.611155e-09  "
      ]
     },
     "execution_count": 7,
     "metadata": {},
     "output_type": "execute_result"
    }
   ],
   "source": [
    "sjoin_right['diff_area'] = sjoin_right.apply(lambda x: x['geometry_x'].intersection(x['geometry_y']).area, axis=1)\n",
    "sjoin_right.head()\n"
   ]
  },
  {
   "cell_type": "markdown",
   "metadata": {},
   "source": [
    "Because the overlap will be TRUE if any slight deviation in coordinates, we need to remove the insignificant overlap geometries  -- inother words any area less than ~ 1 meter."
   ]
  },
  {
   "cell_type": "code",
   "execution_count": 8,
   "metadata": {},
   "outputs": [],
   "source": [
    "overlaps = sjoin_right[sjoin_right['diff_area'] > 1]"
   ]
  },
  {
   "cell_type": "markdown",
   "metadata": {},
   "source": [
    "Now that we have our final overlap dataframe, we can extract the unique intersections based on our key owner field (_left) and how many *other* owner fields by using a groupby function."
   ]
  },
  {
   "cell_type": "code",
   "execution_count": 9,
   "metadata": {},
   "outputs": [],
   "source": [
    "\n",
    "gb = overlaps.groupby('owner_left')['owner_right'].nunique()"
   ]
  },
  {
   "cell_type": "markdown",
   "metadata": {},
   "source": [
    "Results"
   ]
  },
  {
   "cell_type": "code",
   "execution_count": 10,
   "metadata": {},
   "outputs": [
    {
     "name": "stdout",
     "output_type": "stream",
     "text": [
      "Total number of intersects: 627\n",
      "Total number of superparcels: 3538\n",
      "Percent intersects: 17.72%\n",
      "Average number of intersects: 1.41\n"
     ]
    }
   ],
   "source": [
    "total_number_of_intersects = gb.sum()\n",
    "avg_intersects = gb.mean()\n",
    "total_superparcels = len(gdf6)\n",
    "percent_intersects = total_number_of_intersects / total_superparcels * 100\n",
    "print(f'Total number of intersects: {total_number_of_intersects}')\n",
    "print(f'Total number of superparcels: {total_superparcels}')\n",
    "print(f'Percent intersects: {percent_intersects:.2f}%')\n",
    "print(f'Average number of intersects: {avg_intersects:.2f}')"
   ]
  },
  {
   "cell_type": "code",
   "execution_count": null,
   "metadata": {},
   "outputs": [],
   "source": []
  },
  {
   "cell_type": "code",
   "execution_count": null,
   "metadata": {},
   "outputs": [],
   "source": [
    "import numpy as np\n",
    "from shapely.geometry import Polygon\n",
    "\n",
    "def compute_mitre_limit(polygon):\n",
    "    \"\"\"Compute the minimum mitre limit needed to avoid truncation.\"\"\"\n",
    "    if isinstance(polygon, Polygon):\n",
    "        coords = np.array(polygon.exterior.coords)  # Get polygon coordinates\n",
    "    else: # Handle MultiPolygon\n",
    "        coords = [list(p.exterior.coords) for p in polygon.geoms]\n",
    "        # Flatten list of coordinates\n",
    "        coords = [item for sublist in coords for item in sublist]\n",
    "        \n",
    "    n = len(coords) - 1  # Ignore duplicate last point\n",
    "    mitre_ratios = []\n",
    "\n",
    "    for i in range(n):\n",
    "        # Get three consecutive points (previous, current, next)\n",
    "        p1, p2, p3 = coords[i - 1], coords[i], coords[(i + 1) % n]\n",
    "\n",
    "        # Compute vectors\n",
    "        v1, v2 = np.array(p1) - np.array(p2), np.array(p3) - np.array(p2)\n",
    "\n",
    "        # Compute dot product and norms\n",
    "        dot_product = np.dot(v1, v2)\n",
    "        norm_v1, norm_v2 = np.linalg.norm(v1), np.linalg.norm(v2)\n",
    "        norm_product = norm_v1 * norm_v2\n",
    "\n",
    "        # Skip if vectors are degenerate (i.e., points are the same)\n",
    "        if norm_product == 0:\n",
    "            continue\n",
    "\n",
    "        # Compute angle θ between vectors\n",
    "        cos_theta = np.clip(dot_product / norm_product, -1, 1)  # Avoid precision errors\n",
    "        theta = np.arccos(cos_theta)  # Angle in radians\n",
    "\n",
    "        # Compute mitre ratio\n",
    "        if theta > 0:  # Avoid division by zero\n",
    "            mitre_ratio = 1 / np.sin(theta / 2)\n",
    "            mitre_ratios.append(mitre_ratio)\n",
    "\n",
    "    # Return max mitre ratio as the required mitre limit\n",
    "    return max(mitre_ratios) if mitre_ratios else 2  # Default to 2\n",
    "\n",
    "# Example polygon (with potential duplicate points)\n",
    "polygon = Polygon([(0, 0), (4, 1), (4, 1), (3, 5), (1, 4), (0, 0)])\n",
    "\n",
    "# Compute required mitre limit\n",
    "mitre_limit = compute_mitre_limit(polygon)\n",
    "print(f\"Suggested mitre limit: {mitre_limit:.2f}\")\n"
   ]
  },
  {
   "cell_type": "code",
   "execution_count": null,
   "metadata": {},
   "outputs": [],
   "source": [
    "from shapely.geometry import Polygon, MultiPolygon\n",
    "# create a complex polygon\n",
    "polygon = Polygon([(0, 0), (2, 0), (2, 2), (0, 2)])\n",
    "triangle = Polygon([(3, 3), (4, 3), (3.5, 4)])\n",
    "multi_polygon = MultiPolygon([polygon, triangle])\n",
    "mitre_limit = compute_mitre_limit(multi_polygon)\n",
    "print(mitre_limit)\n",
    "gdf = gpd.GeoSeries([\n",
    "    multi_polygon,\n",
    "    multi_polygon.buffer(5, join_style=2, mitre_limit=mitre_limit)  # Mitre\n",
    "])\n",
    "\n",
    "fig, ax = plt.subplots()\n",
    "gdf.boundary.plot(ax=ax, color='k')\n",
    "gdf.plot(ax=ax, facecolor='lightgray', edgecolor='black')\n",
    "plt.show()\n",
    "\n"
   ]
  },
  {
   "cell_type": "code",
   "execution_count": null,
   "metadata": {},
   "outputs": [],
   "source": []
  },
  {
   "cell_type": "code",
   "execution_count": null,
   "metadata": {},
   "outputs": [],
   "source": [
    "df = pd.read_csv('/mnt/Ddrive/projects/superparcels/outputs/dt_analysis.csv', index_col=0)\n",
    "df"
   ]
  },
  {
   "cell_type": "code",
   "execution_count": null,
   "metadata": {},
   "outputs": [],
   "source": [
    "def zfill(s, width):\n",
    "    return s.zfill(width)\n",
    "\n",
    "# length of an integer\n",
    "\n",
    "\n",
    "indexes = df.index\n",
    "idx_list = []\n",
    "for i in indexes:\n",
    "    if len(str(i)) == 4:\n",
    "        i = zfill(str(i), 5)\n",
    "    idx_list.append(i)\n",
    "    "
   ]
  },
  {
   "cell_type": "code",
   "execution_count": null,
   "metadata": {},
   "outputs": [],
   "source": [
    "# convert all elements to str\n",
    "idx_list = [str(i) for i in idx_list]\n",
    "idx_list"
   ]
  },
  {
   "cell_type": "code",
   "execution_count": null,
   "metadata": {},
   "outputs": [],
   "source": [
    "df.columns"
   ]
  },
  {
   "cell_type": "code",
   "execution_count": null,
   "metadata": {},
   "outputs": [],
   "source": [
    "df"
   ]
  },
  {
   "cell_type": "code",
   "execution_count": null,
   "metadata": {},
   "outputs": [],
   "source": [
    "df.values[0]"
   ]
  },
  {
   "cell_type": "code",
   "execution_count": null,
   "metadata": {},
   "outputs": [],
   "source": [
    "# Separate the index values and bar values\n",
    "indexes = df.index.to_list()\n",
    "bar_values = df.values\n",
    "\n",
    "# Create one subplot for each row in the df\n",
    "nrows = df.shape[0]\n",
    "fig, axes = plt.subplots(nrows=nrows, ncols=1, figsize=(8, 3*nrows))\n",
    "\n",
    "# In case there is only one row, ensure axes is iterable.\n",
    "if nrows == 1:\n",
    "    axes = [axes]\n",
    "\n",
    "for i, ax in enumerate(axes):\n",
    "    # Create the bar plot for the current row\n",
    "    bars = ax.bar(df.columns.to_list(), bar_values[i])\n",
    "   \n",
    "    ax.bar_label(bars, padding=3)\n",
    "    \n",
    "    # Set the title of the subplot to show the index value\n",
    "    ax.set_title(f\"FIPS {indexes[i]}\")\n",
    "    \n",
    "    # Optionally, label axes\n",
    "    ax.set_xlabel(\"Distance Threshold\")\n",
    "    ax.set_ylabel(\"Unique Owners\")\n",
    "\n",
    "plt.tight_layout()\n",
    "plt.show()\n"
   ]
  },
  {
   "cell_type": "code",
   "execution_count": null,
   "metadata": {},
   "outputs": [],
   "source": []
  }
 ],
 "metadata": {
  "kernelspec": {
   "display_name": "sp_dev",
   "language": "python",
   "name": "python3"
  },
  "language_info": {
   "codemirror_mode": {
    "name": "ipython",
    "version": 3
   },
   "file_extension": ".py",
   "mimetype": "text/x-python",
   "name": "python",
   "nbconvert_exporter": "python",
   "pygments_lexer": "ipython3",
   "version": "3.11.11"
  }
 },
 "nbformat": 4,
 "nbformat_minor": 2
}
